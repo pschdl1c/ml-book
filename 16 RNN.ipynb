{
 "cells": [
  {
   "cell_type": "markdown",
   "id": "1cca9ea2-9605-40df-a3b8-a2d08463e06c",
   "metadata": {},
   "source": [
    "## Моделирование последовательных данных с использованием рекуррентных нейронных сетей"
   ]
  },
  {
   "cell_type": "markdown",
   "id": "280fa0c4-b85f-4a49-b230-0c2fee1327c5",
   "metadata": {},
   "source": [
    "Стандартные модели\n",
    "на основе нейронных сетей, подобные многослойному персептрону (MLP)\n",
    "и сверточным нейронным сетям (CNN) для данных изображений, делают\n",
    "допущение о независимости обучающих образцов друг от друга и потому\n",
    "не содержат в себе информацию упорядочивания. Можно сказать, что модели подобного рода не имеют памяти для ранее встречавшихся обучающих\n",
    "образцов. Например, образцы проходят через шаги прямого и обратного\n",
    "распространения, а веса обновляются независимо от порядка, в котором обрабатывались обучающие образцы.\n",
    "Напротив, сети RNN спроектированы для моделирования последовательностей и способны запоминать прошлую информацию, а также соответствующим образом обрабатывать новые события, что считается очевидным\n",
    "преимуществом при работе с последовательными данными.\n",
    "\n",
    "Задачи моделирования последовательностей, зависящие от категории отношений между входными и выходными данными:\n",
    "\n",
    "<img src='pic/rnncategory.png' width='490'>\n",
    "\n",
    "- __Многие к одному.__ Входные данные представляют собой последовательность, но выход является вектором фиксированного размера или скаляром, а не последовательностью. В смысловом анализе вход основан на тексте (например, рецензия на фильм) и выходом будет метка класса (например, метка, обозначающая то, понравился ли фильм рецензенту).\n",
    "- __Один ко многим.__ Входные данные имеют стандартный формат и не являются последовательностью, но выход представляет собой последовательность. Примером такой категории служит подписание изображений - на входе подается изображение, а на выходе получается фраза на английском языке, подводящая итог по содержимому изображения.\n",
    "- __Многие ко многим.__ Входные и выходные массивы являются последовательностями. Категория \"многие ко многим\" может дополнительно разделяться на основе того, синхронизированы ли вход и выход. Например, синхронизированная задача моделирования вида \"многие ко многим\" - классификация видеороликов, когда помечается каждый кадр в видеоролике. Примером отсроченной задачи моделирования категории \"многие ко многим\" может быть перевод с одного языка на другой (машина должна прочитать и обработать фразу целиком, прежде чем выдать ее перевод)."
   ]
  },
  {
   "cell_type": "markdown",
   "id": "f6f4be61-0594-4465-be63-a9087fbb39f2",
   "metadata": {},
   "source": [
    "#### Механизм организации циклов рекуррентной нейронной сети\n",
    "\n",
    "<img src='pic/rnndnn.png' width='450'>\n",
    "\n",
    "В стандартной нейронной сети прямого распространения информация\n",
    "проходит от входа до скрытого слоя и затем от скрытого слоя до выходного\n",
    "слоя. С другой стороны, в сети RNN скрытый слой получает информацию\n",
    "от входного слоя текущего временного шага и от скрытого слоя предыдущего временного шага. Поток информации в смежных временных шагах внутри скрытого слоя позволяет сети иметь память о прошедших событиях. Этот цикл называется ***рекуррентное ребро***.\n",
    "\n",
    "Для представления RNN может быть развернута во времени:\n",
    "\n",
    "<img src='pic/rnntimed.png' width='450'>\n",
    "\n",
    "Скрытый слой в сети\n",
    "RNN принимает два отдельных набора входов - предварительную активацию из входного слоя и активацию этого же скрытого слоя из предыдущего\n",
    "временного шага t-1."
   ]
  },
  {
   "cell_type": "markdown",
   "id": "810c1dce-ff64-493b-8128-5b6e903fadae",
   "metadata": {},
   "source": [
    "#### Вычисление активаций в сети RNN\n",
    "\n",
    "В однослойной сети RNN различают следующие матрицы весов: \n",
    "- $W_{xh}$ - матрица весов между входом $W^{(t)}$ и скрытым слоем $h$;\n",
    "- $W_{hh}$ - матрица весов, ассоциированная с рекуррентным слоем и выходным слоем;\n",
    "- $W_{h0}$ - матрица весов между скрытым слоем и выходным слоем.\n",
    "\n",
    "<img src='pic/rnnw.png' width='400'>\n",
    "\n",
    "В определенных реализациях можно заметить, что матрицы весов $W_{xh}$\n",
    "и $W_{hh}$ объединены в комбинированную матрицу $W_{h}$ = [$W_{xh}$; $W_{hh}$].\n",
    "\n",
    "Иллюстрация процесса расчета активаций по двум уравнениям (без объединения матриц и с объединением матриц [$W_{xh}$; $W_{hh}$]):\n",
    "\n",
    "<img src='pic/rnnact.png' width='500'>\n",
    "\n",
    "<img src='pic/rnnbackprop.png' width='400'>"
   ]
  },
  {
   "cell_type": "markdown",
   "id": "cd313a3f-5a11-43c5-9687-9dd8a857c4a7",
   "metadata": {},
   "source": [
    "#### Виды реккурентности\n",
    "\n",
    "<img src='pic/rnnclass.png' width='500'>"
   ]
  },
  {
   "cell_type": "markdown",
   "id": "f8a4f025-d0fa-4754-bea0-79bd39cda1b3",
   "metadata": {},
   "source": [
    "\"Выходной к выходному\" в TF (return_sequences=True - возвращение последовательности, False - возвращение последнего выхода последовательности):"
   ]
  },
  {
   "cell_type": "code",
   "execution_count": 1,
   "id": "b5a42caf-11b6-4921-9000-95893bece516",
   "metadata": {},
   "outputs": [],
   "source": [
    "import tensorflow as tf\n",
    "\n",
    "tf.random.set_seed(1)"
   ]
  },
  {
   "cell_type": "code",
   "execution_count": 2,
   "id": "1b7ad305-5ae7-47d0-8610-fe830151d72d",
   "metadata": {},
   "outputs": [
    {
     "name": "stdout",
     "output_type": "stream",
     "text": [
      "shape W_xh: (5, 2)\n",
      "shape W_oo: (2, 2)\n",
      "shape b_h: (2,)\n"
     ]
    }
   ],
   "source": [
    "rnn_layer = tf.keras.layers.SimpleRNN(units=2, use_bias=True,\n",
    "                                      return_sequences=True)\n",
    "rnn_layer.build(input_shape=(None, None, 5))\n",
    "\n",
    "w_xh, w_oo, b_h = rnn_layer.weights\n",
    "print('shape W_xh:', w_xh.shape)\n",
    "print('shape W_oo:', w_oo.shape)\n",
    "print('shape b_h:', b_h.shape)"
   ]
  },
  {
   "cell_type": "markdown",
   "id": "800dd63f-6ab5-4aed-8109-6e8aa9a82c0f",
   "metadata": {},
   "source": [
    "Форма входа для этого слоя выглядит как (None, None, 5), где первым\n",
    "измерением является измерение пакета (None означает переменный размер\n",
    "пакета), второе измерение соответствует последовательности (None означает\n",
    "переменную длину последовательности) и последнее измерение относится к\n",
    "признакам."
   ]
  },
  {
   "cell_type": "markdown",
   "id": "a80d0a26-5e2b-43f0-ba11-8c32a1ff4cf6",
   "metadata": {},
   "source": [
    "Прямой проход слоя (вручную расчитываем выходы на каждом временном шаге):"
   ]
  },
  {
   "cell_type": "code",
   "execution_count": 3,
   "id": "6bec8140-e2bf-4e91-ad12-808f27defe5d",
   "metadata": {},
   "outputs": [
    {
     "data": {
      "text/plain": [
       "<tf.Tensor: shape=(3, 5), dtype=float32, numpy=\n",
       "array([[1., 1., 1., 1., 1.],\n",
       "       [2., 2., 2., 2., 2.],\n",
       "       [3., 3., 3., 3., 3.]], dtype=float32)>"
      ]
     },
     "execution_count": 3,
     "metadata": {},
     "output_type": "execute_result"
    }
   ],
   "source": [
    "x_seq = tf.convert_to_tensor([[1.0]*5, [2.0]*5, [3.0]*5], dtype=tf.float32)\n",
    "x_seq"
   ]
  },
  {
   "cell_type": "code",
   "execution_count": 4,
   "id": "fc910429-9359-434a-907a-d728436f0803",
   "metadata": {},
   "outputs": [],
   "source": [
    "# выход SimpleRNN\n",
    "output = rnn_layer(tf.reshape(x_seq, shape=(1, 3, 5)))"
   ]
  },
  {
   "cell_type": "code",
   "execution_count": 5,
   "id": "039a7760-e5ac-4afd-beb6-9981d3ae2fd8",
   "metadata": {},
   "outputs": [
    {
     "name": "stdout",
     "output_type": "stream",
     "text": [
      "Временной шаг => 0\n",
      "Выход: [[1. 1. 1. 1. 1.]]\n",
      "Скрытый слой: [[0.41464037 0.96012145]]\n",
      "Выход вручную: [[0.39240566 0.74433106]]\n",
      "Выход SimpleRNN: [0.39240566 0.74433106]\n",
      "\n",
      "Временной шаг => 1\n",
      "Выход: [[2. 2. 2. 2. 2.]]\n",
      "Скрытый слой: [[0.82928073 1.9202429 ]]\n",
      "Выход вручную: [[0.80116504 0.99129474]]\n",
      "Выход SimpleRNN: [0.80116504 0.99129474]\n",
      "\n",
      "Временной шаг => 2\n",
      "Выход: [[3. 3. 3. 3. 3.]]\n",
      "Скрытый слой: [[1.2439212 2.8803644]]\n",
      "Выход вручную: [[0.9546827 0.9993069]]\n",
      "Выход SimpleRNN: [0.9546827 0.9993069]\n",
      "\n"
     ]
    }
   ],
   "source": [
    "# ручной расчет выхода\n",
    "out_man = []\n",
    "for t in range(len(x_seq)):\n",
    "    xt = tf.reshape(x_seq[t], (1, 5))\n",
    "    print(f'Временной шаг => {t}')\n",
    "    print(f'Выход: {xt.numpy()}')\n",
    "\n",
    "    ht = tf.matmul(xt, w_xh) + b_h\n",
    "    print(f'Скрытый слой: {ht.numpy()}')\n",
    "\n",
    "    if t > 0:\n",
    "        prev_o = out_man[t-1]\n",
    "    else:\n",
    "        prev_o = tf.zeros(shape=(ht.shape))\n",
    "    ot = ht + tf.matmul(prev_o, w_oo)\n",
    "    ot = tf.math.tanh(ot)\n",
    "    out_man.append(ot)\n",
    "    print(f'Выход вручную: {ot.numpy()}')\n",
    "    print(f'Выход SimpleRNN: {output[0][t].numpy()}')\n",
    "    print()"
   ]
  },
  {
   "cell_type": "markdown",
   "id": "e5a23f45-bd13-4f02-8f5e-8121eeedba16",
   "metadata": {},
   "source": [
    "#### Сложности изучения долгосрочных взаимодействий\n",
    "Обратное распространение во времени привносит ряд сложностей. Из-за наличия множителя $${{dh^{(t)}}\\over {dh^{(k)}}}$$ в расчете градиентов функции потерь\n",
    "возникает так называемая проблемы исчезновения (vanishing) и взрывного\n",
    "роста (exploding) градиентов.\n",
    "\n",
    "Этот множитель имеет $t-k$ умножений, вследствие чего умножение $t-k$ раз веса $w$ дает множитель $w^{t-k}$. Если $|w|<1$, то множитель $w^{t-k}$ становится очень малым при большом $t-k$. Если вес рекуррентного ребра $|w|>1$, тогда $w^{t-k}$ становится очень большим при большом $t-k$. Следует отметить, что $t-k$ относится к долгосрочным зависимостям."
   ]
  },
  {
   "cell_type": "markdown",
   "id": "20ee1d3d-8128-411d-9e92-1a6a81d9a4ae",
   "metadata": {},
   "source": [
    "#### LSTM - ячейки долгой краткосрочной памяти"
   ]
  },
  {
   "cell_type": "markdown",
   "id": "b705e011-2b7b-433e-bde6-72ee2d57dc69",
   "metadata": {},
   "source": [
    "Строительным блоком элемента LSTM является ячейка памяти, которая по существу представляет или заменяет скрытый слой стандартных сетей RNN. В каждой ячейке памяти имеется рекуррентное ребро с упомянутым ранее желательным весом w = l для преодоления проблем исчезновения и взрывного роста градиентов. Значения, ассоциированные с этим рекуррентным ребром, вместе называются состоянием ячейки.\n",
    "\n",
    "<img src='pic/ltsm.png' width='500'>\n",
    "\n",
    "Поток информации в этой ячейке памяти управляется несколькими вычислительными элементами (часто называемыми шлюзами (gate)).\n",
    "__*__ - поэлементное произведение,\n",
    "__+__ - поэлементное суммирование.\n",
    "\n",
    "В ячейке LSTM различают три типа шлюзов:\n",
    "- Шлюз забывапия (***f***) позволяет ячейке памяти сбрасывать свое состояние, не возрастая до бесконечности. Фактически шлюз забывания решает, какой информации проходить разрешено, а какой запрещено. <img src='pic/gatef.png' width='200'>\n",
    "- Входной шлюз (***i***) и зиачение-кандидат (***Ĉ***) отвечают за обновление состояния ячейки. <img src='pic/gateic.png' width='200'>\n",
    "- Выходной шлюз (***o***) решает, как обновлять значения скрытых элементов <img src='pic/gateo.png' width='200'>"
   ]
  },
  {
   "cell_type": "markdown",
   "id": "5f30072f-199e-40f1-a896-5dd1b09f7add",
   "metadata": {},
   "source": [
    "#### Прогнозирование отношения в рецензиях на фильмы IMDb"
   ]
  },
  {
   "cell_type": "markdown",
   "id": "279ebfdc-0621-419e-b92c-6a4b42070ae7",
   "metadata": {},
   "source": [
    "Архитектура RNN - \"многие к одному\""
   ]
  },
  {
   "cell_type": "code",
   "execution_count": 1,
   "id": "5df62160-5b5f-4aef-858e-3346394dcc04",
   "metadata": {},
   "outputs": [],
   "source": [
    "import tensorflow as tf\n",
    "import tensorflow_datasets as tfds\n",
    "import numpy as np\n",
    "import pandas as pd"
   ]
  },
  {
   "cell_type": "code",
   "execution_count": 2,
   "id": "a5c73ab1-129b-43a3-9552-9ff47deead5b",
   "metadata": {},
   "outputs": [],
   "source": [
    "df = pd.read_csv('movie_data.csv', encoding='utf-8')"
   ]
  },
  {
   "cell_type": "code",
   "execution_count": 3,
   "id": "c2cfd74c-f044-43d6-bb70-b00126fc2d19",
   "metadata": {},
   "outputs": [
    {
     "data": {
      "text/html": [
       "<div>\n",
       "<style scoped>\n",
       "    .dataframe tbody tr th:only-of-type {\n",
       "        vertical-align: middle;\n",
       "    }\n",
       "\n",
       "    .dataframe tbody tr th {\n",
       "        vertical-align: top;\n",
       "    }\n",
       "\n",
       "    .dataframe thead th {\n",
       "        text-align: right;\n",
       "    }\n",
       "</style>\n",
       "<table border=\"1\" class=\"dataframe\">\n",
       "  <thead>\n",
       "    <tr style=\"text-align: right;\">\n",
       "      <th></th>\n",
       "      <th>review</th>\n",
       "      <th>sentiment</th>\n",
       "    </tr>\n",
       "  </thead>\n",
       "  <tbody>\n",
       "    <tr>\n",
       "      <th>0</th>\n",
       "      <td>In 1974, the teenager Martha Moxley (Maggie Gr...</td>\n",
       "      <td>1</td>\n",
       "    </tr>\n",
       "    <tr>\n",
       "      <th>1</th>\n",
       "      <td>OK... so... I really like Kris Kristofferson a...</td>\n",
       "      <td>0</td>\n",
       "    </tr>\n",
       "    <tr>\n",
       "      <th>2</th>\n",
       "      <td>***SPOILER*** Do not read this, if you think a...</td>\n",
       "      <td>0</td>\n",
       "    </tr>\n",
       "    <tr>\n",
       "      <th>3</th>\n",
       "      <td>hi for all the people who have seen this wonde...</td>\n",
       "      <td>1</td>\n",
       "    </tr>\n",
       "    <tr>\n",
       "      <th>4</th>\n",
       "      <td>I recently bought the DVD, forgetting just how...</td>\n",
       "      <td>0</td>\n",
       "    </tr>\n",
       "  </tbody>\n",
       "</table>\n",
       "</div>"
      ],
      "text/plain": [
       "                                              review  sentiment\n",
       "0  In 1974, the teenager Martha Moxley (Maggie Gr...          1\n",
       "1  OK... so... I really like Kris Kristofferson a...          0\n",
       "2  ***SPOILER*** Do not read this, if you think a...          0\n",
       "3  hi for all the people who have seen this wonde...          1\n",
       "4  I recently bought the DVD, forgetting just how...          0"
      ]
     },
     "execution_count": 3,
     "metadata": {},
     "output_type": "execute_result"
    }
   ],
   "source": [
    "df.head()"
   ]
  },
  {
   "cell_type": "markdown",
   "id": "6b6ed303-7206-4c8f-a92f-3226b1d00686",
   "metadata": {},
   "source": [
    "Предварительная обработка:\n",
    "1. Создать объект набора данных TensorFlow и расщепить его на обучающую, испытательную и проверочную части.\n",
    "2. Идентифицировать уникальные слова в обучающем наборе.\n",
    "3. Отобразить каждое уникальное слово на уникальное целое число и закодировать текст рецензии с помощью этих целых чисел (индексов уникальных слов).\n",
    "4. Разделить набор данных на мини-пакеты, которые будут служить входом для модели."
   ]
  },
  {
   "cell_type": "code",
   "execution_count": 4,
   "id": "ae9b91f8-75eb-4571-8cc3-aa98b45fb785",
   "metadata": {},
   "outputs": [],
   "source": [
    "# 1 step\n",
    "target = df.pop('sentiment')\n",
    "ds_raw = tf.data.Dataset.from_tensor_slices((df.values, target.values))"
   ]
  },
  {
   "cell_type": "code",
   "execution_count": 5,
   "id": "91fb53c0-793c-4cb7-8ddd-d7ad414c29aa",
   "metadata": {},
   "outputs": [
    {
     "name": "stdout",
     "output_type": "stream",
     "text": [
      "b'In 1974, the teenager Martha Moxley (Maggie Grace)' 1\n",
      "b'OK... so... I really like Kris Kristofferson and h' 0\n",
      "b'***SPOILER*** Do not read this, if you think about' 0\n"
     ]
    }
   ],
   "source": [
    "for ex in ds_raw.take(3):\n",
    "    tf.print(ex[0].numpy()[0][:50], ex[1])"
   ]
  },
  {
   "cell_type": "code",
   "execution_count": 6,
   "id": "cce356b5-45e7-47ec-8e0e-7c0ad934d58b",
   "metadata": {},
   "outputs": [],
   "source": [
    "# train valid test\n",
    "tf.random.set_seed(1)\n",
    "\n",
    "ds_raw = ds_raw.shuffle(50000, reshuffle_each_iteration=False)\n",
    "ds_raw_test = ds_raw.take(25000)\n",
    "ds_raw_train_valid = ds_raw.skip(25000)\n",
    "ds_raw_train = ds_raw_train_valid.take(20000)\n",
    "ds_raw_valid = ds_raw_train_valid.skip(20000)"
   ]
  },
  {
   "cell_type": "code",
   "execution_count": 12,
   "id": "b7a4c302-994f-4de1-9727-69135624c34c",
   "metadata": {},
   "outputs": [
    {
     "name": "stdout",
     "output_type": "stream",
     "text": [
      "Размер словаря: 87007\n"
     ]
    }
   ],
   "source": [
    "# 2 step\n",
    "from collections import Counter\n",
    "\n",
    "tokenizer = tfds.deprecated.text.Tokenizer()\n",
    "token_counts = Counter()\n",
    "for example in ds_raw_train:\n",
    "    tokens = tokenizer.tokenize(example[0].numpy()[0])\n",
    "    token_counts.update(tokens)\n",
    "print('Размер словаря:', len(token_counts))"
   ]
  },
  {
   "cell_type": "code",
   "execution_count": 13,
   "id": "1cea8ee3-7cd5-4970-8ff8-b2c0c39befbf",
   "metadata": {},
   "outputs": [],
   "source": [
    "# 3 step\n",
    "encoder = tfds.deprecated.text.TokenTextEncoder(token_counts)"
   ]
  },
  {
   "cell_type": "markdown",
   "id": "317487f3-28e7-408b-9b34-a8e7b355b377",
   "metadata": {},
   "source": [
    "Один индекс резервируется для неизвестных слов (не из train ds). Ещё один индекс резервируетсядля заполнителя, который регулирует длину последовательности. То есть длина encoder = 87007 + 2"
   ]
  },
  {
   "cell_type": "code",
   "execution_count": 14,
   "id": "22772fd7-8d82-4ad9-87c7-2bc4da38fdde",
   "metadata": {},
   "outputs": [
    {
     "name": "stdout",
     "output_type": "stream",
     "text": [
      "[232, 9, 270, 1123]\n"
     ]
    }
   ],
   "source": [
    "example_str = 'This is an example!'\n",
    "print(encoder.encode(example_str))"
   ]
  },
  {
   "cell_type": "code",
   "execution_count": 18,
   "id": "514c4ed8-c39a-4926-bc57-f7ee8cb57cca",
   "metadata": {},
   "outputs": [],
   "source": [
    "# 3-A step\n",
    "def encode(text_tensor, label):\n",
    "    text = text_tensor.numpy()[0]\n",
    "    encoded_text = encoder.encode(text)\n",
    "    return encoded_text, label\n",
    "\n",
    "\n",
    "def encode_map_fn(text, label):\n",
    "    return tf.py_function(encode, inp=[text, label],\n",
    "                          Tout=(tf.int64, tf.int64))"
   ]
  },
  {
   "cell_type": "code",
   "execution_count": 19,
   "id": "d4091f63-2c14-472f-a1cd-81154a178bdf",
   "metadata": {},
   "outputs": [],
   "source": [
    "ds_train = ds_raw_train.map(encode_map_fn)\n",
    "ds_valid = ds_raw_valid.map(encode_map_fn)\n",
    "ds_test = ds_raw_test.map(encode_map_fn)"
   ]
  },
  {
   "cell_type": "code",
   "execution_count": 20,
   "id": "247e0fb0-d68f-4831-b9cc-3b11eeabdbba",
   "metadata": {},
   "outputs": [
    {
     "name": "stdout",
     "output_type": "stream",
     "text": [
      "Длина последовательности: (24,)\n",
      "Длина последовательности: (179,)\n",
      "Длина последовательности: (262,)\n",
      "Длина последовательности: (535,)\n",
      "Длина последовательности: (130,)\n"
     ]
    }
   ],
   "source": [
    "tf.random.set_seed(1)\n",
    "for example in ds_train.shuffle(1000).take(5):\n",
    "    print('Длина последовательности:', example[0].shape)"
   ]
  },
  {
   "cell_type": "markdown",
   "id": "526f2169-3951-4086-be8b-40c962de8052",
   "metadata": {},
   "source": [
    "В текущий момент последовательности имеют разные длины (как видно в результате\n",
    "выполнения предыдущего кода для пяти произвольно выбранных образцов).\n",
    "Хотя в общем случае сети RNN способны обрабатывать последовательности\n",
    "с разной длиной, нам придется обеспечить одинаковую длину у всех последовательностей в мини-пакете с целью их эффективного хранения в тензоре."
   ]
  },
  {
   "cell_type": "markdown",
   "id": "607e35f3-e23f-4c61-94ca-5755d3bc96e0",
   "metadata": {},
   "source": [
    "TensorFlow предлагает метод `padded_batch()` (взамен `batch()`),который будет автоматически дополнять следующие друг за другом элементы, объединяемые в пакет, значениями заполнителя (нулями), так что все последовательности внутри пакета будут иметь одну и ту же форму."
   ]
  },
  {
   "cell_type": "code",
   "execution_count": 21,
   "id": "a332fac0-1a4e-4f39-809d-5b2cdcb1b1a5",
   "metadata": {},
   "outputs": [
    {
     "name": "stdout",
     "output_type": "stream",
     "text": [
      "Размер индивидуального элемента: (119,)\n",
      "Размер индивидуального элемента: (688,)\n",
      "Размер индивидуального элемента: (308,)\n",
      "Размер индивидуального элемента: (204,)\n",
      "Размер индивидуального элемента: (326,)\n",
      "Размер индивидуального элемента: (240,)\n",
      "Размер индивидуального элемента: (127,)\n",
      "Размер индивидуального элемента: (453,)\n"
     ]
    }
   ],
   "source": [
    "# example\n",
    "ds_subset = ds_train.take(8)\n",
    "for example in ds_subset:\n",
    "    print('Размер индивидуального элемента:', example[0].shape)"
   ]
  },
  {
   "cell_type": "code",
   "execution_count": 22,
   "id": "860f5289-1b49-4fba-a036-f9bce63e6488",
   "metadata": {},
   "outputs": [
    {
     "name": "stdout",
     "output_type": "stream",
     "text": [
      "Размерность пакета: (4, 688)\n",
      "Размерность пакета: (4, 453)\n"
     ]
    }
   ],
   "source": [
    "# разделение поднабора на пакеты\n",
    "ds_batched = ds_subset.padded_batch(4, padded_shapes=([-1], []))\n",
    "for batch in ds_batched:\n",
    "    print('Размерность пакета:', batch[0].shape)"
   ]
  },
  {
   "cell_type": "code",
   "execution_count": 23,
   "id": "789360b6-e12b-4c70-981c-702b21844321",
   "metadata": {},
   "outputs": [],
   "source": [
    "# 4 step\n",
    "train_data = ds_train.padded_batch(32, padded_shapes=([-1], []))\n",
    "valid_data = ds_valid.padded_batch(32, padded_shapes=([-1], []))\n",
    "test_data = ds_test.padded_batch(32, padded_shapes=([-1], []))"
   ]
  },
  {
   "cell_type": "markdown",
   "id": "579a9558-bfb0-40d3-b826-3c7d602486e8",
   "metadata": {},
   "source": [
    "##### Слой Embedding (вложение)\n",
    "\n",
    "Преобразование целочисленных признаков в One-hot-encoding векторы может страдать от \"проклятия размерности\" при большом количестве слов.\n",
    "Слой Embedding позволяет сопоставить каждое слово с вектором фиксированного размера, содержащим вещественные значения (например, в диапазоне [-1, 1]).\n",
    "\n",
    "<img src='pic/embending.png' width='500'>\n",
    "\n",
    "Приемущества вложения перед унитарным кодированивем:\n",
    "- понижение размерности пространства признаков с целью сокращения эффекта \"проклятия размерности\";\n",
    "- выделение заметных признаков из-за того, что слой вложения в нейронной сети может оптимизироваться (обучаться)."
   ]
  },
  {
   "cell_type": "code",
   "execution_count": 24,
   "id": "5dc863af-442d-4561-b20d-c75594dbd3e0",
   "metadata": {},
   "outputs": [
    {
     "name": "stdout",
     "output_type": "stream",
     "text": [
      "Model: \"sequential\"\n",
      "_________________________________________________________________\n",
      "Layer (type)                 Output Shape              Param #   \n",
      "=================================================================\n",
      "embed-layer (Embedding)      (None, 20, 6)             600       \n",
      "=================================================================\n",
      "Total params: 600\n",
      "Trainable params: 600\n",
      "Non-trainable params: 0\n",
      "_________________________________________________________________\n"
     ]
    }
   ],
   "source": [
    "# example\n",
    "from tensorflow.keras.layers import Embedding\n",
    "\n",
    "model = tf.keras.Sequential()\n",
    "model.add(Embedding(input_dim=100, output_dim=6,\n",
    "                    input_length=20,\n",
    "                    name='embed-layer'))\n",
    "model.summary()"
   ]
  },
  {
   "cell_type": "markdown",
   "id": "19a7b850-9b7e-4075-a676-d40084437baf",
   "metadata": {},
   "source": [
    "Вход этой модели (слой вложений) обязан иметь ранг 2 с размерностью\n",
    "\n",
    "`(размер пакета) x (длина входа)`, где длина входа представляет собой длину\n",
    "последовательностей (установленную здесь в 20 посредством аргумента\n",
    "`input_length`). Скажем, входной последовательностью в мини-пакете может быть \n",
    "`<14,43,52,61,8,19,67,83,1О,7,42,87,56,18,94,17,67,90,6,39>`, каждый\n",
    "элемент которой является индексом уникального слова. \n",
    "\n",
    "Выход будет иметь размерность\n",
    "\n",
    "`(размер пакета) х (длина входа) х (размерность вложения)`, где\n",
    "размерность вложения - размер признаков вложения (установленный\n",
    "здесь в 6 через аргумент `output_dim`). Еще один аргумент, предоставляемый слою вложений, `input_dirm`, соответствует уникальным целочисленным значениям, которые модель будет получать в качестве входа (например,\n",
    "n + 2, установленное здесь в 100). Таким образом, матрица вложений в нашем случае имеет размер `100 х 6`. \n"
   ]
  },
  {
   "cell_type": "code",
   "execution_count": 25,
   "id": "a4864b85-771e-4475-9ca7-f7273b253da6",
   "metadata": {},
   "outputs": [],
   "source": [
    "from tensorflow.keras import Sequential\n",
    "from tensorflow.keras.layers import Embedding\n",
    "from tensorflow.keras.layers import SimpleRNN\n",
    "from tensorflow.keras.layers import Dense"
   ]
  },
  {
   "cell_type": "code",
   "execution_count": 26,
   "id": "9f295182-9680-4b1d-8157-f896aa1b70c9",
   "metadata": {},
   "outputs": [
    {
     "name": "stdout",
     "output_type": "stream",
     "text": [
      "Model: \"sequential_1\"\n",
      "_________________________________________________________________\n",
      "Layer (type)                 Output Shape              Param #   \n",
      "=================================================================\n",
      "embedding (Embedding)        (None, None, 32)          32000     \n",
      "_________________________________________________________________\n",
      "simple_rnn_1 (SimpleRNN)     (None, None, 32)          2080      \n",
      "_________________________________________________________________\n",
      "simple_rnn_2 (SimpleRNN)     (None, 32)                2080      \n",
      "_________________________________________________________________\n",
      "dense (Dense)                (None, 1)                 33        \n",
      "=================================================================\n",
      "Total params: 36,193\n",
      "Trainable params: 36,193\n",
      "Non-trainable params: 0\n",
      "_________________________________________________________________\n"
     ]
    }
   ],
   "source": [
    "model = Sequential()\n",
    "model.add(Embedding(input_dim=1000, output_dim=32))\n",
    "model.add(SimpleRNN(32, return_sequences=True))\n",
    "model.add(SimpleRNN(32))\n",
    "model.add(Dense(1))\n",
    "model.summary()"
   ]
  },
  {
   "cell_type": "markdown",
   "id": "14e24c73-7c0a-4d76-ac72-c88f51eef804",
   "metadata": {},
   "source": [
    "Слой Bidirectional заставляет рекуррентные слои проходить по входным данным последовательностям в обоих направлениях - от начала до конца и обратно. Оболочка Bidirectional делает два прохода по каждой входной последовательности: прямой проход и противоположный или обратный проход. Результаты таких прямых\n",
    "и обратных проходов по умолчанию будут объединяться. Но если\n",
    "необходимо изменить это поведение, тогда можно установить аргумент `merge_mode` в `'sum'` (сложение), `'mul'` (умножение), `'ave'` (для взятия среднего из двух), `'concat'` (для объединения; стандартное значение) или `'None'` (для возвращения двух тензоров в списке)."
   ]
  },
  {
   "cell_type": "code",
   "execution_count": 27,
   "id": "fbeab84e-486d-40a3-8c39-5e262ce2d9b4",
   "metadata": {},
   "outputs": [
    {
     "name": "stdout",
     "output_type": "stream",
     "text": [
      "Model: \"sequential_2\"\n",
      "_________________________________________________________________\n",
      "Layer (type)                 Output Shape              Param #   \n",
      "=================================================================\n",
      "embed-layer (Embedding)      (None, None, 20)          1740180   \n",
      "_________________________________________________________________\n",
      "bidir-lstm (Bidirectional)   (None, 128)               43520     \n",
      "_________________________________________________________________\n",
      "dense_1 (Dense)              (None, 64)                8256      \n",
      "_________________________________________________________________\n",
      "dense_2 (Dense)              (None, 1)                 65        \n",
      "=================================================================\n",
      "Total params: 1,792,021\n",
      "Trainable params: 1,792,021\n",
      "Non-trainable params: 0\n",
      "_________________________________________________________________\n"
     ]
    }
   ],
   "source": [
    "embedding_dim = 20\n",
    "vocab_size = len(token_counts) + 2\n",
    "\n",
    "tf.random.set_seed(1)\n",
    "\n",
    "bi_ltsm_model = tf.keras.Sequential([\n",
    "    tf.keras.layers.Embedding(input_dim=vocab_size,\n",
    "                              output_dim=embedding_dim,\n",
    "                              name='embed-layer'),\n",
    "    tf.keras.layers.Bidirectional(tf.keras.layers.LSTM(64, name='lstm-layer'),\n",
    "                                  name='bidir-lstm'),\n",
    "    tf.keras.layers.Dense(64, activation='relu'),\n",
    "    tf.keras.layers.Dense(1, activation='sigmoid')\n",
    "])\n",
    "\n",
    "bi_ltsm_model.summary()"
   ]
  },
  {
   "cell_type": "code",
   "execution_count": 28,
   "id": "c6d22f68-34eb-4bd1-b574-c514ca9b5469",
   "metadata": {},
   "outputs": [
    {
     "name": "stdout",
     "output_type": "stream",
     "text": [
      "Epoch 1/10\n",
      "625/625 [==============================] - 55s 80ms/step - loss: 0.5119 - accuracy: 0.7310 - val_loss: 0.3569 - val_accuracy: 0.8552\n",
      "Epoch 2/10\n",
      "625/625 [==============================] - 49s 79ms/step - loss: 0.2408 - accuracy: 0.9087 - val_loss: 0.3818 - val_accuracy: 0.8564\n",
      "Epoch 3/10\n",
      "625/625 [==============================] - 49s 79ms/step - loss: 0.1543 - accuracy: 0.9472 - val_loss: 0.4730 - val_accuracy: 0.8332\n",
      "Epoch 4/10\n",
      "625/625 [==============================] - 50s 80ms/step - loss: 0.1037 - accuracy: 0.9656 - val_loss: 0.4992 - val_accuracy: 0.8578\n",
      "Epoch 5/10\n",
      "625/625 [==============================] - 49s 79ms/step - loss: 0.0677 - accuracy: 0.9786 - val_loss: 0.5802 - val_accuracy: 0.8314\n",
      "Epoch 6/10\n",
      "625/625 [==============================] - 50s 79ms/step - loss: 0.0436 - accuracy: 0.9865 - val_loss: 0.8245 - val_accuracy: 0.8210\n",
      "Epoch 7/10\n",
      "625/625 [==============================] - 50s 79ms/step - loss: 0.0386 - accuracy: 0.9889 - val_loss: 0.6365 - val_accuracy: 0.8476\n",
      "Epoch 8/10\n",
      "625/625 [==============================] - 49s 79ms/step - loss: 0.0288 - accuracy: 0.9912 - val_loss: 0.7396 - val_accuracy: 0.8412\n",
      "Epoch 9/10\n",
      "625/625 [==============================] - 50s 80ms/step - loss: 0.0233 - accuracy: 0.9934 - val_loss: 0.7814 - val_accuracy: 0.8380\n",
      "Epoch 10/10\n",
      "625/625 [==============================] - 50s 80ms/step - loss: 0.0229 - accuracy: 0.9926 - val_loss: 0.8081 - val_accuracy: 0.8476\n"
     ]
    }
   ],
   "source": [
    "bi_ltsm_model.compile(\n",
    "    optimizer=tf.keras.optimizers.Adam(1e-3),\n",
    "    loss=tf.keras.losses.BinaryCrossentropy(from_logits=False),\n",
    "    metrics=['accuracy'])\n",
    "\n",
    "history = bi_ltsm_model.fit(train_data,\n",
    "                            validation_data=valid_data,\n",
    "                            epochs=10)"
   ]
  },
  {
   "cell_type": "code",
   "execution_count": 29,
   "id": "159e5b82-cd98-48d2-8cd5-9b79cb447121",
   "metadata": {},
   "outputs": [
    {
     "data": {
      "text/plain": [
       "Text(0, 0.5, 'accuracy')"
      ]
     },
     "execution_count": 29,
     "metadata": {},
     "output_type": "execute_result"
    },
    {
     "data": {
      "image/png": "[encoded data removed]",
      "text/plain": [
       "<Figure size 900x400 with 2 Axes>"
      ]
     },
     "metadata": {},
     "output_type": "display_data"
    }
   ],
   "source": [
    "import matplotlib.pyplot as plt\n",
    "\n",
    "hist = history.history\n",
    "\n",
    "x = np.arange(len(hist['loss']))\n",
    "\n",
    "fig, ax = plt.subplots(1, 2, figsize=(9, 4))\n",
    "ax[0].plot(x, hist['loss'], '-o', label='loss train')\n",
    "ax[0].plot(x, hist['val_loss'], '--<', label='loss validation')\n",
    "ax[0].legend()\n",
    "ax[0].set_xlabel('epoch')\n",
    "ax[0].set_ylabel('loss')\n",
    "\n",
    "ax[1].plot(x, hist['accuracy'], '-o', label='acc train')\n",
    "ax[1].plot(x, hist['val_accuracy'], '--<', label='acc validation')\n",
    "ax[1].legend()\n",
    "ax[1].set_xlabel('epoch')\n",
    "ax[1].set_ylabel('accuracy')"
   ]
  },
  {
   "cell_type": "code",
   "execution_count": 30,
   "id": "d47baa23-e096-42f6-9a7d-23528e4cfbe4",
   "metadata": {},
   "outputs": [
    {
     "name": "stdout",
     "output_type": "stream",
     "text": [
      "782/782 [==============================] - 37s 47ms/step - loss: 0.7884 - accuracy: 0.8471\n",
      "test accuracy: 0.8471199870109558\n"
     ]
    }
   ],
   "source": [
    "test_results = bi_ltsm_model.evaluate(test_data)\n",
    "print('test accuracy:', test_results[1])"
   ]
  },
  {
   "cell_type": "markdown",
   "id": "97088978-935a-4d0b-87f4-c60b283364b9",
   "metadata": {},
   "source": [
    "#### Реализация других слоев для RNNimport pandas as pd"
   ]
  },
  {
   "cell_type": "code",
   "execution_count": 1,
   "id": "08e31921-3913-48e9-b2e9-b353c41214fa",
   "metadata": {},
   "outputs": [],
   "source": [
    "import pandas as pd\n",
    "import tensorflow as tf\n",
    "import tensorflow_datasets as tfds"
   ]
  },
  {
   "cell_type": "code",
   "execution_count": 2,
   "id": "62f21cab-34da-4c7c-93f2-1e96942d79c8",
   "metadata": {},
   "outputs": [],
   "source": [
    "from collections import Counter\n",
    "\n",
    "def preprocess_datasets(ds_raw_train,\n",
    "                        ds_raw_valid,\n",
    "                        ds_raw_test,\n",
    "                        max_seq_length=None,\n",
    "                        batch_size=32):\n",
    "    # 2 step\n",
    "    tokenizer = tfds.deprecated.text.Tokenizer()\n",
    "    token_counts = Counter()\n",
    "\n",
    "    for example in ds_raw_train:\n",
    "        tokens = tokenizer.tokenize(example[0].numpy()[0])\n",
    "        if max_seq_length is not None:\n",
    "            tokens = tokens[-max_seq_length:]\n",
    "        token_counts.update(tokens)\n",
    "\n",
    "    print('Размер словаря:', len(token_counts))\n",
    "\n",
    "    # 3 step\n",
    "    encoder = tfds.deprecated.text.TokenTextEncoder(token_counts)\n",
    "\n",
    "    def encode(text_tensor, label):\n",
    "        text = text_tensor.numpy()[0]\n",
    "        encoded_text = encoder.encode(text)\n",
    "        if max_seq_length is not None:\n",
    "            encoded_text = encoded_text[-max_seq_length:]\n",
    "        return encoded_text, label\n",
    "\n",
    "    def encode_map_fn(text, label):\n",
    "        return tf.py_function(encode, inp=[text, label],\n",
    "                              Tout=(tf.int64, tf.int64))\n",
    "\n",
    "    ds_train = ds_raw_train.map(encode_map_fn)\n",
    "    ds_valid = ds_raw_valid.map(encode_map_fn)\n",
    "    ds_test = ds_raw_test.map(encode_map_fn)\n",
    "\n",
    "    # step 4\n",
    "    train_data = ds_train.padded_batch(batch_size, padded_shapes=([-1], []))\n",
    "    valid_data = ds_valid.padded_batch(batch_size, padded_shapes=([-1], []))\n",
    "    test_data = ds_test.padded_batch(batch_size, padded_shapes=([-1], []))\n",
    "    return (train_data, valid_data, test_data, len(token_counts))"
   ]
  },
  {
   "cell_type": "code",
   "execution_count": 3,
   "id": "d5f8b571-bd0a-4848-bb40-2b09a83f470b",
   "metadata": {},
   "outputs": [],
   "source": [
    "from tensorflow.keras.layers import Embedding\n",
    "from tensorflow.keras.layers import Bidirectional\n",
    "from tensorflow.keras.layers import SimpleRNN\n",
    "from tensorflow.keras.layers import LSTM\n",
    "from tensorflow.keras.layers import GRU\n",
    "from tensorflow.keras.layers import Dense"
   ]
  },
  {
   "cell_type": "code",
   "execution_count": 19,
   "id": "2e565f9f-48df-4581-b5b8-4f5b4d852e72",
   "metadata": {},
   "outputs": [],
   "source": [
    "def build_rnn_model(embedding_dim, vocab_size,\n",
    "                    recurrent_type='SimpleRNN',\n",
    "                    n_recurrent_units=64,\n",
    "                    n_recurrent_layers=1,\n",
    "                    bidirectional=True):\n",
    "    tf.random.set_seed(1)\n",
    "\n",
    "    model = tf.keras.Sequential()\n",
    "    model.add(Embedding(input_dim=vocab_size,\n",
    "                        output_dim=embedding_dim,\n",
    "                        name='embed-layer'))\n",
    "    for i in range(n_recurrent_layers):\n",
    "        return_sequences = (i < n_recurrent_layers-1)\n",
    "\n",
    "        if recurrent_type == 'SimpleRNN':\n",
    "            recurrent_layer = SimpleRNN(units=n_recurrent_units,\n",
    "                                        return_sequences=return_sequences,\n",
    "                                        name=f'simprnn-layer-{i}')\n",
    "        elif recurrent_type == 'LSTM':\n",
    "            recurrent_layer = LSTM(units=n_recurrent_units,\n",
    "                                   return_sequences=return_sequences,\n",
    "                                   name=f'lstm-layer-{i}')\n",
    "        elif recurrent_type == 'GRU':\n",
    "            recurrent_layer = GRU(units=n_recurrent_units,\n",
    "                                  return_sequences=return_sequences,\n",
    "                                  name=f'gru-layer-{i}')\n",
    "\n",
    "        if bidirectional:\n",
    "            recurrent_layer = Bidirectional(recurrent_layer,\n",
    "                                            name='bidir-'+recurrent_layer.name)\n",
    "        model.add(recurrent_layer)\n",
    "\n",
    "    model.add(Dense(64, activation='relu'))\n",
    "    model.add(Dense(1, activation='sigmoid'))\n",
    "\n",
    "    return model"
   ]
  },
  {
   "cell_type": "code",
   "execution_count": 14,
   "id": "1af1b5a1-c87c-44c2-8311-b5185ad457f8",
   "metadata": {},
   "outputs": [],
   "source": [
    "import matplotlib.pyplot as plt\n",
    "import numpy as np\n",
    "def plot_loss_acc(hist):\n",
    "    hist = history.history\n",
    "\n",
    "    x = np.arange(len(hist['loss']))\n",
    "\n",
    "    fig, ax = plt.subplots(1, 2, figsize=(9, 4))\n",
    "    ax[0].plot(x, hist['loss'], '-o', label='loss train')\n",
    "    ax[0].plot(x, hist['val_loss'], '--<', label='loss validation')\n",
    "    ax[0].legend()\n",
    "    ax[0].set_xlabel('epoch')\n",
    "    ax[0].set_ylabel('loss')\n",
    "\n",
    "    ax[1].plot(x, hist['accuracy'], '-o', label='acc train')\n",
    "    ax[1].plot(x, hist['val_accuracy'], '--<', label='acc validation')\n",
    "    ax[1].legend()\n",
    "    ax[1].set_xlabel('epoch')\n",
    "    ax[1].set_ylabel('accuracy')\n",
    "    plt.show()"
   ]
  },
  {
   "cell_type": "code",
   "execution_count": 6,
   "id": "8fc24fbc-8f1e-416d-a1c9-96b565bb08f5",
   "metadata": {},
   "outputs": [],
   "source": [
    "df = pd.read_csv('movie_data.csv', encoding='utf-8')\n",
    "target = df.pop('sentiment')\n",
    "ds_raw = tf.data.Dataset.from_tensor_slices((df.values, target.values))\n",
    "tf.random.set_seed(1)\n",
    "\n",
    "ds_raw = ds_raw.shuffle(50000, reshuffle_each_iteration=False)\n",
    "ds_raw_test = ds_raw.take(25000)\n",
    "ds_raw_train_valid = ds_raw.skip(25000)\n",
    "ds_raw_train = ds_raw_train_valid.take(20000)\n",
    "ds_raw_valid = ds_raw_train_valid.skip(20000)"
   ]
  },
  {
   "cell_type": "code",
   "execution_count": 7,
   "id": "da06cab7-ddc0-4cb1-92e0-62fd2cd661e4",
   "metadata": {},
   "outputs": [
    {
     "name": "stdout",
     "output_type": "stream",
     "text": [
      "Размер словаря: 58063\n"
     ]
    }
   ],
   "source": [
    "batch_size = 32\n",
    "embedding_dim = 20\n",
    "max_seq_length = 100  # последние 100 лексем\n",
    "\n",
    "train_data, valid_data, test_data, n = preprocess_datasets(\n",
    "    ds_raw_train, ds_raw_valid, ds_raw_test,\n",
    "    max_seq_length=max_seq_length,\n",
    "    batch_size=batch_size\n",
    ")"
   ]
  },
  {
   "cell_type": "code",
   "execution_count": 8,
   "id": "8d14fc19-c45c-4843-ac5c-b861d5ff8fb7",
   "metadata": {},
   "outputs": [],
   "source": [
    "vocab_size = n + 2"
   ]
  },
  {
   "cell_type": "code",
   "execution_count": 9,
   "id": "23060141-bc9a-4568-8485-ef2984f23768",
   "metadata": {},
   "outputs": [],
   "source": [
    "rnn_model = build_rnn_model(embedding_dim, vocab_size,\n",
    "                            recurrent_type='SimpleRNN',\n",
    "                            n_recurrent_units=64,\n",
    "                            n_recurrent_layers=1,\n",
    "                            bidirectional=True)"
   ]
  },
  {
   "cell_type": "code",
   "execution_count": 10,
   "id": "c69b125f-5749-40b6-b4e9-7df9496571e6",
   "metadata": {},
   "outputs": [
    {
     "name": "stdout",
     "output_type": "stream",
     "text": [
      "Model: \"sequential\"\n",
      "_________________________________________________________________\n",
      "Layer (type)                 Output Shape              Param #   \n",
      "=================================================================\n",
      "embed-layer (Embedding)      (None, None, 20)          1161300   \n",
      "_________________________________________________________________\n",
      "bidir-simprnn-layer-0 (Bidir (None, 128)               10880     \n",
      "_________________________________________________________________\n",
      "dense (Dense)                (None, 64)                8256      \n",
      "_________________________________________________________________\n",
      "dense_1 (Dense)              (None, 1)                 65        \n",
      "=================================================================\n",
      "Total params: 1,180,501\n",
      "Trainable params: 1,180,501\n",
      "Non-trainable params: 0\n",
      "_________________________________________________________________\n"
     ]
    }
   ],
   "source": [
    "rnn_model.summary()"
   ]
  },
  {
   "cell_type": "code",
   "execution_count": 11,
   "id": "4d119e42-3c97-4b44-ac86-dd5ee1934898",
   "metadata": {},
   "outputs": [],
   "source": [
    "rnn_model.compile(optimizer=tf.keras.optimizers.Adam(1e-3),\n",
    "                  loss=tf.keras.losses.BinaryCrossentropy(from_logits=False),\n",
    "                  metrics=['accuracy'])"
   ]
  },
  {
   "cell_type": "code",
   "execution_count": 12,
   "id": "c27fe663-0c58-48dd-b073-bb4400b87083",
   "metadata": {},
   "outputs": [
    {
     "name": "stdout",
     "output_type": "stream",
     "text": [
      "Epoch 1/10\n",
      "625/625 [==============================] - 221s 350ms/step - loss: 0.6965 - accuracy: 0.5224 - val_loss: 0.6695 - val_accuracy: 0.6002\n",
      "Epoch 2/10\n",
      "625/625 [==============================] - 219s 350ms/step - loss: 0.5836 - accuracy: 0.6860 - val_loss: 0.5064 - val_accuracy: 0.7592\n",
      "Epoch 3/10\n",
      "625/625 [==============================] - 217s 347ms/step - loss: 0.4746 - accuracy: 0.7776 - val_loss: 0.6283 - val_accuracy: 0.6722\n",
      "Epoch 4/10\n",
      "625/625 [==============================] - 217s 347ms/step - loss: 0.3582 - accuracy: 0.8392 - val_loss: 0.7319 - val_accuracy: 0.6712\n",
      "Epoch 5/10\n",
      "625/625 [==============================] - 217s 348ms/step - loss: 0.1713 - accuracy: 0.9321 - val_loss: 0.9283 - val_accuracy: 0.6680\n",
      "Epoch 6/10\n",
      "625/625 [==============================] - 217s 347ms/step - loss: 0.0867 - accuracy: 0.9677 - val_loss: 1.1623 - val_accuracy: 0.6778\n",
      "Epoch 7/10\n",
      "625/625 [==============================] - 217s 348ms/step - loss: 0.0485 - accuracy: 0.9825 - val_loss: 1.6042 - val_accuracy: 0.6160\n",
      "Epoch 8/10\n",
      "625/625 [==============================] - 216s 346ms/step - loss: 0.0395 - accuracy: 0.9859 - val_loss: 1.5525 - val_accuracy: 0.6456\n",
      "Epoch 9/10\n",
      "625/625 [==============================] - 217s 347ms/step - loss: 0.0192 - accuracy: 0.9937 - val_loss: 1.8981 - val_accuracy: 0.6268\n",
      "Epoch 10/10\n",
      "625/625 [==============================] - 219s 350ms/step - loss: 0.0102 - accuracy: 0.9962 - val_loss: 2.2090 - val_accuracy: 0.6374\n"
     ]
    }
   ],
   "source": [
    "history = rnn_model.fit(\n",
    "    train_data,\n",
    "    validation_data=valid_data,\n",
    "    epochs=10)"
   ]
  },
  {
   "cell_type": "code",
   "execution_count": 15,
   "id": "c2bcf496-31b8-47cf-a432-d9d0946ad065",
   "metadata": {},
   "outputs": [
    {
     "data": {
      "image/png": "[encoded data removed]",
      "text/plain": [
       "<Figure size 900x400 with 2 Axes>"
      ]
     },
     "metadata": {},
     "output_type": "display_data"
    }
   ],
   "source": [
    "plot_loss_acc(history)"
   ]
  },
  {
   "cell_type": "code",
   "execution_count": 17,
   "id": "1d3e35cc-4b72-4e5c-8116-0e9e8dd23301",
   "metadata": {},
   "outputs": [
    {
     "name": "stdout",
     "output_type": "stream",
     "text": [
      "782/782 [==============================] - 51s 65ms/step - loss: 2.0946 - accuracy: 0.6480\n",
      "test accuracy: 0.6480000019073486\n"
     ]
    }
   ],
   "source": [
    "results = rnn_model.evaluate(test_data)\n",
    "print('test accuracy:', results[1])"
   ]
  },
  {
   "cell_type": "code",
   "execution_count": 22,
   "id": "2a8e5a87-be7a-480e-b7e1-3f5bbb81dd70",
   "metadata": {},
   "outputs": [
    {
     "name": "stdout",
     "output_type": "stream",
     "text": [
      "Размер словаря: 87007\n"
     ]
    }
   ],
   "source": [
    "batch_size = 32\n",
    "embedding_dim = 20\n",
    "max_seq_length = None\n",
    "train_data, valid_data, test_data, n = preprocess_datasets(\n",
    "    ds_raw_train, ds_raw_valid, ds_raw_test,\n",
    "    max_seq_length=max_seq_length,\n",
    "    batch_size=batch_size\n",
    ")"
   ]
  },
  {
   "cell_type": "code",
   "execution_count": 23,
   "id": "1afb9ab4-cf1d-4aca-8a96-be5ee16ea8e6",
   "metadata": {},
   "outputs": [],
   "source": [
    "vocab_size = n + 2"
   ]
  },
  {
   "cell_type": "code",
   "execution_count": 24,
   "id": "8c43f8d7-7b8c-41a8-8ce3-ac396868946d",
   "metadata": {},
   "outputs": [
    {
     "name": "stdout",
     "output_type": "stream",
     "text": [
      "Model: \"sequential_2\"\n",
      "_________________________________________________________________\n",
      "Layer (type)                 Output Shape              Param #   \n",
      "=================================================================\n",
      "embed-layer (Embedding)      (None, None, 20)          1740180   \n",
      "_________________________________________________________________\n",
      "bidir-gru-layer-0 (Bidirecti (None, None, 128)         33024     \n",
      "_________________________________________________________________\n",
      "bidir-gru-layer-1 (Bidirecti (None, 128)               74496     \n",
      "_________________________________________________________________\n",
      "dense_4 (Dense)              (None, 64)                8256      \n",
      "_________________________________________________________________\n",
      "dense_5 (Dense)              (None, 1)                 65        \n",
      "=================================================================\n",
      "Total params: 1,856,021\n",
      "Trainable params: 1,856,021\n",
      "Non-trainable params: 0\n",
      "_________________________________________________________________\n"
     ]
    }
   ],
   "source": [
    "rnn_model = build_rnn_model(embedding_dim, vocab_size,\n",
    "                            recurrent_type='GRU',\n",
    "                            n_recurrent_units=64,\n",
    "                            n_recurrent_layers=2,\n",
    "                            bidirectional=True)\n",
    "rnn_model.summary()"
   ]
  },
  {
   "cell_type": "code",
   "execution_count": 25,
   "id": "4d10cff7-79d7-4eb8-a536-a0f31d41e3c2",
   "metadata": {},
   "outputs": [],
   "source": [
    "rnn_model.compile(optimizer=tf.keras.optimizers.Adam(1e-3),\n",
    "                  loss=tf.keras.losses.BinaryCrossentropy(from_logits=False),\n",
    "                  metrics=['accuracy'])"
   ]
  },
  {
   "cell_type": "code",
   "execution_count": 26,
   "id": "d2df099a-9844-434f-b0de-5116587ff6c3",
   "metadata": {},
   "outputs": [
    {
     "name": "stdout",
     "output_type": "stream",
     "text": [
      "Epoch 1/10\n",
      "625/625 [==============================] - 81s 120ms/step - loss: 0.5600 - accuracy: 0.6933 - val_loss: 0.3954 - val_accuracy: 0.8260\n",
      "Epoch 2/10\n",
      "625/625 [==============================] - 74s 118ms/step - loss: 0.2433 - accuracy: 0.9033 - val_loss: 0.3315 - val_accuracy: 0.8814\n",
      "Epoch 3/10\n",
      "625/625 [==============================] - 74s 119ms/step - loss: 0.1061 - accuracy: 0.9619 - val_loss: 0.4053 - val_accuracy: 0.8710\n",
      "Epoch 4/10\n",
      "625/625 [==============================] - 75s 119ms/step - loss: 0.0715 - accuracy: 0.9747 - val_loss: 0.4571 - val_accuracy: 0.8664\n",
      "Epoch 5/10\n",
      "625/625 [==============================] - 74s 119ms/step - loss: 0.0542 - accuracy: 0.9815 - val_loss: 0.4603 - val_accuracy: 0.8766\n",
      "Epoch 6/10\n",
      "625/625 [==============================] - 74s 119ms/step - loss: 0.0354 - accuracy: 0.9878 - val_loss: 0.5125 - val_accuracy: 0.8718\n",
      "Epoch 7/10\n",
      "625/625 [==============================] - 78s 125ms/step - loss: 0.0122 - accuracy: 0.9958 - val_loss: 0.7079 - val_accuracy: 0.8568\n",
      "Epoch 8/10\n",
      "625/625 [==============================] - 79s 127ms/step - loss: 0.0071 - accuracy: 0.9979 - val_loss: 0.7488 - val_accuracy: 0.8674\n",
      "Epoch 9/10\n",
      "625/625 [==============================] - 79s 126ms/step - loss: 0.0057 - accuracy: 0.9980 - val_loss: 0.8204 - val_accuracy: 0.8574\n",
      "Epoch 10/10\n",
      "625/625 [==============================] - 79s 126ms/step - loss: 0.0095 - accuracy: 0.9962 - val_loss: 0.6647 - val_accuracy: 0.8684\n"
     ]
    }
   ],
   "source": [
    "history = rnn_model.fit(\n",
    "    train_data,\n",
    "    validation_data=valid_data,\n",
    "    epochs=10)"
   ]
  },
  {
   "cell_type": "code",
   "execution_count": 27,
   "id": "bb7eb649-4531-403d-99d7-80ce2669edbd",
   "metadata": {},
   "outputs": [
    {
     "name": "stdout",
     "output_type": "stream",
     "text": [
      "782/782 [==============================] - 54s 68ms/step - loss: 0.6513 - accuracy: 0.8717\n",
      "test accuracy: 0.8716800212860107\n"
     ]
    }
   ],
   "source": [
    "results = rnn_model.evaluate(test_data)\n",
    "print('test accuracy:', results[1])"
   ]
  },
  {
   "cell_type": "code",
   "execution_count": 28,
   "id": "a5ec3345-5737-4f68-b6b0-fd02b3d40dce",
   "metadata": {},
   "outputs": [
    {
     "data": {
      "image/png": "[encoded data removed]",
      "text/plain": [
       "<Figure size 900x400 with 2 Axes>"
      ]
     },
     "metadata": {},
     "output_type": "display_data"
    }
   ],
   "source": [
    "plot_loss_acc(history)"
   ]
  },
  {
   "cell_type": "code",
   "execution_count": null,
   "id": "134be756-127d-4b7f-afcc-d23251d793ad",
   "metadata": {},
   "outputs": [],
   "source": [
    "703"
   ]
  }
 ],
 "metadata": {
  "kernelspec": {
   "display_name": "Python 3 (ipykernel)",
   "language": "python",
   "name": "python3"
  },
  "language_info": {
   "codemirror_mode": {
    "name": "ipython",
    "version": 3
   },
   "file_extension": ".py",
   "mimetype": "text/x-python",
   "name": "python",
   "nbconvert_exporter": "python",
   "pygments_lexer": "ipython3",
   "version": "3.9.13"
  }
 },
 "nbformat": 4,
 "nbformat_minor": 5
}
