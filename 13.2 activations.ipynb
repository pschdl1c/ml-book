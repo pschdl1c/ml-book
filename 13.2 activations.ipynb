{
 "cells": [
  {
   "cell_type": "markdown",
   "id": "08ad20c9-d6c2-4aa1-a7d6-c87d428a517e",
   "metadata": {},
   "source": [
    "# Выбор функций активации для многослойных нейронных сетей"
   ]
  },
  {
   "cell_type": "markdown",
   "id": "cbb6a231-01b1-43c1-8a60-c1203c7d2084",
   "metadata": {},
   "source": [
    "#### 1. Логистическая функция (сигмоида)\n",
    "\n",
    "<img src=\"pic/sigm.png\" width=\"170\"/>"
   ]
  },
  {
   "cell_type": "code",
   "execution_count": 1,
   "id": "caf49efc-2567-4842-a760-1acd468b12b6",
   "metadata": {},
   "outputs": [
    {
     "name": "stdout",
     "output_type": "stream",
     "text": [
      "P(y=1|x) =  0.8879529614430097\n"
     ]
    }
   ],
   "source": [
    "import numpy as np\n",
    "\n",
    "X = np.array([1, 1.4, 2.5])\n",
    "w = np.array([0.4, 0.3, 0.5])\n",
    "\n",
    "\n",
    "def net_input(X, w):\n",
    "    return np.dot(X, w)\n",
    "\n",
    "\n",
    "def logistic(z):\n",
    "    return 1.0 / (1.0 + np.exp(-z))\n",
    "\n",
    "\n",
    "def logistic_activation(X, w):\n",
    "    z = net_input(X, w)\n",
    "    return logistic(z)\n",
    "\n",
    "\n",
    "print('P(y=1|x) = ', logistic_activation(X, w))"
   ]
  },
  {
   "cell_type": "markdown",
   "id": "aa97700f-9465-4c61-af7a-7bde3af70c58",
   "metadata": {},
   "source": [
    "Если мы рассчитаем общий вход (z) и используем его для логистической\n",
    "активации нейрона с указанными значениями признаков и весовыми коэффициентами, то получим значение 0.888, которое можно интерпретировать\n",
    "как 88.8%-ную вероятность того, что конкретный образец x принадлежит положительному классу."
   ]
  },
  {
   "cell_type": "markdown",
   "id": "f91363dd-92a8-42b9-a7f2-97a3cae1966f",
   "metadata": {},
   "source": [
    "Однако, выходной слой, включающий множество элементов с логистической активацией, не выпускает содержательные и интерпретируемые значения вероятностей:"
   ]
  },
  {
   "cell_type": "code",
   "execution_count": 3,
   "id": "8bf8e309-7070-4d44-b767-a12ed1504a73",
   "metadata": {},
   "outputs": [
    {
     "name": "stdout",
     "output_type": "stream",
     "text": [
      "общий вход:  [1.78 0.76 1.65]\n",
      "Выходные элементы:  [0.85569687 0.68135373 0.83889105]\n"
     ]
    }
   ],
   "source": [
    "W = np.array([[1.1, 1.2, 0.8, 0.4],\n",
    "              [0.2, 0.4, 1.0, 0.2],\n",
    "              [0.6, 1.5, 1.2, 0.7]])\n",
    "\n",
    "A = np.array([1, 0.1, 0.4, 0.6])\n",
    "\n",
    "Z = np.dot(W, A)\n",
    "y_proba = logistic(Z)\n",
    "print('общий вход: ', Z)\n",
    "print('Выходные элементы: ', y_proba)"
   ]
  },
  {
   "cell_type": "markdown",
   "id": "9ce08471-599e-484c-8740-9915b6b5facd",
   "metadata": {},
   "source": [
    "В выводе видно, что результирующие значения не могут интерпретироваться как вероятности для задачи с тремя классами (значения в сумме не дают 1).\n",
    "Один из способов прогнозирования метки класса на основе полученных ранее выходных эл-ов предусматривает применение значения максимума:"
   ]
  },
  {
   "cell_type": "code",
   "execution_count": 4,
   "id": "4f9d30d4-c367-4509-9d69-1f7f1ffc92b0",
   "metadata": {},
   "outputs": [
    {
     "name": "stdout",
     "output_type": "stream",
     "text": [
      "спрогнозированная метка:  0\n"
     ]
    }
   ],
   "source": [
    "print('спрогнозированная метка: ', np.argmax(y_proba))"
   ]
  },
  {
   "cell_type": "markdown",
   "id": "af92b87b-92ba-4c64-bf20-43dd2ca7d5ac",
   "metadata": {},
   "source": [
    "#### 2. Многопеременная логистическая функция (softmax)\n",
    "\n",
    "<img src=\"pic/softmax.png\" width=\"170\"/>"
   ]
  },
  {
   "cell_type": "markdown",
   "id": "15f1affa-9cc6-4bdd-b1ec-3166039516e0",
   "metadata": {},
   "source": [
    "Функция softmax является мягкой формой\n",
    "функции argmax; вместо предоставления одиночного индекса класса она\n",
    "выдает вероятность каждого класса. Следовательно, она позволяет вычислять содержательные вероятности в многоклассовых окружениях (полиномиальная логистическая регрессия). \n"
   ]
  },
  {
   "cell_type": "code",
   "execution_count": 5,
   "id": "70fe8e07-a330-41ce-b22b-27e79683457c",
   "metadata": {},
   "outputs": [
    {
     "name": "stdout",
     "output_type": "stream",
     "text": [
      "Вероятности:  [0.44668973 0.16107406 0.39223621]\n"
     ]
    }
   ],
   "source": [
    "def softmax(z):\n",
    "    return np.exp(z) / np.sum(np.exp(z))\n",
    "\n",
    "\n",
    "y_proba = softmax(Z)\n",
    "print('Вероятности: ', y_proba)"
   ]
  },
  {
   "cell_type": "code",
   "execution_count": 6,
   "id": "6487f095-f28b-4820-9959-4733297a9f81",
   "metadata": {},
   "outputs": [
    {
     "data": {
      "text/plain": [
       "1.0"
      ]
     },
     "execution_count": 6,
     "metadata": {},
     "output_type": "execute_result"
    }
   ],
   "source": [
    "np.sum(y_proba)"
   ]
  },
  {
   "cell_type": "code",
   "execution_count": 7,
   "id": "cd53fd3c-bb1d-4285-91d0-9b75efd90484",
   "metadata": {},
   "outputs": [
    {
     "data": {
      "text/plain": [
       "<tf.Tensor: shape=(1, 3), dtype=float64, numpy=array([[0.44668973, 0.16107406, 0.39223621]])>"
      ]
     },
     "execution_count": 7,
     "metadata": {},
     "output_type": "execute_result"
    }
   ],
   "source": [
    "import tensorflow as tf\n",
    "\n",
    "Z_tensor = tf.expand_dims(Z, axis=0)\n",
    "tf.keras.activations.softmax(Z_tensor)"
   ]
  },
  {
   "cell_type": "markdown",
   "id": "7f6e17b9-e9b5-4913-98dd-b3d80a1d1e6d",
   "metadata": {},
   "source": [
    "#### 3. Расширение выходного спектра с использованием гиперболическоrо тангенса\n",
    "\n",
    "<img src=\"pic/tanh.png\" width=\"290\"/>"
   ]
  },
  {
   "cell_type": "markdown",
   "id": "a293cd6f-ef3d-4b5f-98e8-552a9cc16013",
   "metadata": {},
   "source": [
    "Гиперболический тангенс - масштабированная версия логистической функции.\n",
    "Его приемущество в том, что он имеет более широкий выходной спектр и диапазоны в открытом интервале (-1, 1), которые могут улучшить сходимость алгоритма обратного распространения."
   ]
  },
  {
   "cell_type": "markdown",
   "id": "651c0ba5-918e-47b1-bd06-2c7ec30e87a9",
   "metadata": {},
   "source": [
    "Логистическая функция возвращает выходной сигнал находящийся в открытом интервале (0, 1)."
   ]
  },
  {
   "cell_type": "code",
   "execution_count": 14,
   "id": "52ae935a-75da-4f77-bdf4-c1a7f49d62c6",
   "metadata": {},
   "outputs": [
    {
     "data": {
      "image/png": "[encoded data removed]",
      "text/plain": [
       "<Figure size 432x288 with 1 Axes>"
      ]
     },
     "metadata": {
      "needs_background": "light"
     },
     "output_type": "display_data"
    }
   ],
   "source": [
    "import matplotlib.pyplot as plt\n",
    "\n",
    "\n",
    "def tanh(z):\n",
    "    e_p = np.exp(z)\n",
    "    e_m = np.exp(-z)\n",
    "    return (e_p - e_m) / (e_p + e_m)\n",
    "\n",
    "\n",
    "z = np.arange(-5, 5, 0.005)\n",
    "log_act = logistic(z)\n",
    "tanh_act = tanh(z)\n",
    "\n",
    "plt.ylim([-1.5, 1.5])\n",
    "plt.xlabel('общий вход')\n",
    "plt.ylabel('активация')\n",
    "plt.axhline(1, color='black', linestyle=':')\n",
    "plt.axhline(0.5, color='black', linestyle=':')\n",
    "plt.axhline(0, color='black', linestyle=':')\n",
    "plt.axhline(-0.5, color='black', linestyle=':')\n",
    "plt.axhline(-1, color='black', linestyle=':')\n",
    "\n",
    "plt.plot(z, tanh_act,\n",
    "         linewidth='3', linestyle='--',\n",
    "         label='tanh')\n",
    "plt.plot(z, log_act,\n",
    "         linewidth='3',\n",
    "         label='log')\n",
    "plt.legend(loc='best')\n",
    "plt.tight_layout()\n",
    "plt.show()"
   ]
  },
  {
   "cell_type": "markdown",
   "id": "c1e8f7d9-cff7-4f87-8c01-c029625ae2e6",
   "metadata": {},
   "source": [
    "Формы двух сигмоидальных кривых выглядят очень похожими, но выходное пространство у функции tanh в два раза больше, чем у функции logistic."
   ]
  },
  {
   "cell_type": "code",
   "execution_count": 15,
   "id": "6ae6364b-2a8b-45f0-9dea-ab9414206180",
   "metadata": {},
   "outputs": [
    {
     "data": {
      "text/plain": [
       "array([-0.9999092 , -0.99990829, -0.99990737, ...,  0.99990644,\n",
       "        0.99990737,  0.99990829])"
      ]
     },
     "execution_count": 15,
     "metadata": {},
     "output_type": "execute_result"
    }
   ],
   "source": [
    "np.tanh(z)"
   ]
  },
  {
   "cell_type": "code",
   "execution_count": 16,
   "id": "a3440b47-ffb8-461e-87de-824a3a099516",
   "metadata": {},
   "outputs": [
    {
     "data": {
      "text/plain": [
       "<tf.Tensor: shape=(2000,), dtype=float64, numpy=\n",
       "array([-0.9999092 , -0.99990829, -0.99990737, ...,  0.99990644,\n",
       "        0.99990737,  0.99990829])>"
      ]
     },
     "execution_count": 16,
     "metadata": {},
     "output_type": "execute_result"
    }
   ],
   "source": [
    "tf.keras.activations.tanh(z)"
   ]
  },
  {
   "cell_type": "code",
   "execution_count": 17,
   "id": "3f210af4-7c5e-473f-ba32-7a38f23ac072",
   "metadata": {},
   "outputs": [
    {
     "data": {
      "text/plain": [
       "array([0.00669285, 0.00672617, 0.00675966, ..., 0.99320669, 0.99324034,\n",
       "       0.99327383])"
      ]
     },
     "execution_count": 17,
     "metadata": {},
     "output_type": "execute_result"
    }
   ],
   "source": [
    "# логистическая функция в scipy\n",
    "from scipy.special import expit\n",
    "expit(z)"
   ]
  },
  {
   "cell_type": "code",
   "execution_count": 18,
   "id": "13d95a44-d5a9-4eb9-bd93-fd7076e0f294",
   "metadata": {},
   "outputs": [
    {
     "data": {
      "text/plain": [
       "<tf.Tensor: shape=(2000,), dtype=float64, numpy=\n",
       "array([0.00669285, 0.00672617, 0.00675966, ..., 0.99320669, 0.99324034,\n",
       "       0.99327383])>"
      ]
     },
     "execution_count": 18,
     "metadata": {},
     "output_type": "execute_result"
    }
   ],
   "source": [
    "tf.keras.activations.sigmoid(z)"
   ]
  },
  {
   "cell_type": "markdown",
   "id": "e9256728-e5a2-46c4-bcea-73ce8dd510cb",
   "metadata": {},
   "source": [
    "#### 4. Активация на основе выпрямленного линейного элемента (ReLU)\n",
    "\n",
    "<img src=\"pic/relu.png\" width=\"200\"/>"
   ]
  },
  {
   "cell_type": "markdown",
   "id": "46894830-6a98-4c45-9c7c-fc60a6f7732c",
   "metadata": {},
   "source": [
    "Выпрямленный линейный элемент - еще\n",
    "одна функция активации, которая часто применяется в глубоких нейронных\n",
    "сетях. Прежде чем погружаться в детали ReLU, мы должны сделать шаг назад и понять проблему исчезновения градиентов, присущую активациям на\n",
    "основе гиперболического тангенса и логистической функции. \n",
    "\n",
    "\n",
    "Пусть у нас первоначально имеется общий вход z1 = 20, который изменяется на z2 = 25. Вычислив активацию в форме гиперболического тангенса,\n",
    "мы получаем ф(z) = 1.0 и ф(z) = 1.0, что указывает на отсутствие изменений в выходе (из-за асимптотического поведения функции гиперболического\n",
    "тангенса и численных ошибок). \n",
    "\n",
    "\n",
    "Это означает, что производная активаций относительно общего входа\n",
    "уменьшается, когда z становится большим. В результате выяснение весов на\n",
    "стадии обучения крайне замедляется, т.к. члены градиента могут быть очень -\n",
    "близкими к нулю. Активация ReLU решает такую проблему.\n",
    "\n",
    "Кроме того, ReLU - нелинейная функция, которая хорошо подходит для\n",
    "изучения сложных функций с нейронными сетями. Более того, производная ReLU относительно входа всегда равна 1 для положительных входных\n",
    "значений. По этой причине она решает проблему исчезновения градиентов,\n",
    "что делает ее подходящей для глубоких нейронных сетей."
   ]
  },
  {
   "cell_type": "code",
   "execution_count": 19,
   "id": "043f7fe2-f0d8-4bc7-9f9d-a4e29cff5ed8",
   "metadata": {},
   "outputs": [
    {
     "data": {
      "text/plain": [
       "<tf.Tensor: shape=(2000,), dtype=float64, numpy=array([0.   , 0.   , 0.   , ..., 4.985, 4.99 , 4.995])>"
      ]
     },
     "execution_count": 19,
     "metadata": {},
     "output_type": "execute_result"
    }
   ],
   "source": [
    "tf.keras.activations.relu(z)"
   ]
  },
  {
   "cell_type": "markdown",
   "id": "872fb9ba-6b4e-4a86-a024-147cb4c87370",
   "metadata": {},
   "source": [
    "<img src=\"pic/activations.png\"/>"
   ]
  },
  {
   "cell_type": "code",
   "execution_count": null,
   "id": "d1a8be1b-b18d-44a8-85b6-6d6fc2592ee5",
   "metadata": {},
   "outputs": [],
   "source": [
    "553"
   ]
  }
 ],
 "metadata": {
  "kernelspec": {
   "display_name": "Python 3 (ipykernel)",
   "language": "python",
   "name": "python3"
  },
  "language_info": {
   "codemirror_mode": {
    "name": "ipython",
    "version": 3
   },
   "file_extension": ".py",
   "mimetype": "text/x-python",
   "name": "python",
   "nbconvert_exporter": "python",
   "pygments_lexer": "ipython3",
   "version": "3.9.13"
  }
 },
 "nbformat": 4,
 "nbformat_minor": 5
}
