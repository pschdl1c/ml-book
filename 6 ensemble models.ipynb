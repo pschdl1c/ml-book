{
 "cells": [
  {
   "cell_type": "markdown",
   "id": "a860b775-1595-4e34-bb5b-0a2cba046a8c",
   "metadata": {},
   "source": [
    "## Объединение разных моделей для ансамблевого обучения"
   ]
  },
  {
   "cell_type": "markdown",
   "id": "c2111eeb-a16d-4969-a4fc-cd0472d808e2",
   "metadata": {},
   "source": [
    "Цель ансамблевых методов - объединить различные классификаторы в метаклассификатор, который обладает лучшей эффективностью обобщения, чем каждый индивидуальный классификатор сам по себе."
   ]
  },
  {
   "cell_type": "markdown",
   "id": "ab3b96fb-d19d-45e3-8385-49d3d2d01c41",
   "metadata": {},
   "source": [
    "Демонстрация причин по которым ансамблевые методы лучше.\n",
    "\n",
    "Делается допущение о том, что все n базовых классификаторов для задачи двоичной классификации имеют одинаковые частоты ошибок. Предполагается, что классификаторы являются независимыми и частоты ошибок не связаны друг с другом. При таких допущениях можно выразить вероятность ошибки ансамбля базовых классификаторов просто как ф-цию вероятностой меры биномиального распределения:"
   ]
  },
  {
   "cell_type": "code",
   "execution_count": 1,
   "id": "e431aeae-859f-4284-88d9-123812a88ae3",
   "metadata": {},
   "outputs": [
    {
     "data": {
      "text/plain": [
       "0.03432750701904297"
      ]
     },
     "execution_count": 1,
     "metadata": {},
     "output_type": "execute_result"
    }
   ],
   "source": [
    "from scipy.special import comb\n",
    "import math\n",
    "\n",
    "\n",
    "def ensemble_error(n_classifier, error):\n",
    "    k_tart = int(math.ceil(n_classifier / 2.))\n",
    "    probs = [comb(n_classifier, k) *\n",
    "             error**k *\n",
    "             (1-error)**(n_classifier - k)\n",
    "             for k in range(k_tart, n_classifier + 1)]\n",
    "    return sum(probs)\n",
    "\n",
    "\n",
    "ensemble_error(n_classifier=11, error=0.25)"
   ]
  },
  {
   "cell_type": "markdown",
   "id": "ad55f718-e189-4af8-a6df-00c65717618d",
   "metadata": {},
   "source": [
    "Подсчет частоты ошибок ансамбля для диапазона частот базовых ошибок от 0.0 до 1.0:"
   ]
  },
  {
   "cell_type": "code",
   "execution_count": 2,
   "id": "628d628f-c50f-4233-b71e-02f2c3afa273",
   "metadata": {},
   "outputs": [
    {
     "data": {
      "image/png": "[encoded data removed]",
      "text/plain": [
       "<Figure size 432x288 with 1 Axes>"
      ]
     },
     "metadata": {
      "needs_background": "light"
     },
     "output_type": "display_data"
    }
   ],
   "source": [
    "import numpy as np\n",
    "import matplotlib.pyplot as plt\n",
    "\n",
    "error_range = np.arange(0.0, 1.01, 0.01)\n",
    "ens_errors = [ensemble_error(n_classifier=11, error=error)\n",
    "              for error in error_range]\n",
    "\n",
    "plt.plot(error_range, ens_errors,\n",
    "         label='Ансамблевая ошибка',\n",
    "         linewidth=2)\n",
    "plt.plot(error_range, error_range,\n",
    "         linestyle='--', label='Базовая ошибка',\n",
    "         linewidth=2)\n",
    "plt.xlabel('Базовая ошибка')\n",
    "plt.ylabel('Базовая/ансамблевая ошибка')\n",
    "plt.legend(loc='best')\n",
    "plt.grid()\n",
    "plt.show()"
   ]
  },
  {
   "cell_type": "markdown",
   "id": "af2b4086-1454-46e2-8db7-8aa5dcbcb210",
   "metadata": {},
   "source": [
    "Характеристика вероятности ошибки, допускаемой ансамблем, всегда лучше такой характеристики индивидуального базового классификатора до тех пор, пока базовые классификаторы работают лучше, чем случайное угадывание (err < 0.5)."
   ]
  },
  {
   "cell_type": "markdown",
   "id": "2d87fc53-9493-42b1-b6a4-90dfb9a0f617",
   "metadata": {},
   "source": [
    "### 1. Классификатор с мажоритарным голосованием (голосование большинством)"
   ]
  },
  {
   "cell_type": "code",
   "execution_count": 3,
   "id": "fd712fae-3f25-48eb-9c42-7ffeb39314c3",
   "metadata": {},
   "outputs": [
    {
     "data": {
      "text/plain": [
       "1"
      ]
     },
     "execution_count": 3,
     "metadata": {},
     "output_type": "execute_result"
    }
   ],
   "source": [
    "# Концепция взвешенного большинства голосов\n",
    "np.argmax(np.bincount([0, 0, 1],\n",
    "                      weights=[0.2, 0.2, 0.6]))"
   ]
  },
  {
   "cell_type": "code",
   "execution_count": 4,
   "id": "1543a03a-ff81-4101-8da7-0eb73d46a29c",
   "metadata": {},
   "outputs": [
    {
     "name": "stdout",
     "output_type": "stream",
     "text": [
      "[0.58 0.42]\n"
     ]
    },
    {
     "data": {
      "text/plain": [
       "0"
      ]
     },
     "execution_count": 4,
     "metadata": {},
     "output_type": "execute_result"
    }
   ],
   "source": [
    "# Взвешенное большинство голосов на основе вероятностей классов\n",
    "\n",
    "ex = np.array([[0.9, 0.1],\n",
    "               [0.8, 0.2],\n",
    "               [0.4, 0.6]])\n",
    "\n",
    "p = np.average(ex, axis=0, weights=[0.2, 0.2, 0.6])\n",
    "print(p)\n",
    "np.argmax(p)"
   ]
  },
  {
   "cell_type": "code",
   "execution_count": 5,
   "id": "b5664fa9-00f1-49ad-9777-c7d509aa538b",
   "metadata": {},
   "outputs": [],
   "source": [
    "from sklearn.base import BaseEstimator\n",
    "from sklearn.base import ClassifierMixin\n",
    "from sklearn.preprocessing import LabelEncoder\n",
    "from sklearn.base import clone\n",
    "from sklearn.pipeline import _name_estimators\n",
    "import numpy as np\n",
    "import operator\n",
    "\n",
    "\n",
    "class MajorityVoteClassifier(BaseEstimator,\n",
    "                             ClassifierMixin):\n",
    "    def __init__(self, classifiers, vote='classlabel', weights=None):\n",
    "\n",
    "        self.classifiers = classifiers\n",
    "        self.named_classifiers = {key: value for key, value\n",
    "                                  in _name_estimators(classifiers)}\n",
    "        self.vote = vote\n",
    "        self.weights = weights\n",
    "\n",
    "    def fit(self, X, y):\n",
    "        if self.vote not in ('probability', 'classlabel'):\n",
    "            raise ValueError(f\"vote must be 'probability' or 'classlabel'\"\n",
    "                             f\"; got (vote={self.vote})\")\n",
    "\n",
    "        if self.weights and len(self.weights) != len(self.classifiers):\n",
    "            raise ValueError(f'Number of classifiers and weights must be equal'\n",
    "                             f'; got {len(self.weights)} weights,'\n",
    "                             f' {len(self.classifiers)} classifiers')\n",
    "        self.lablenc_ = LabelEncoder()\n",
    "        self.lablenc_.fit(y)\n",
    "        self.classes_ = self.lablenc_.classes_\n",
    "        self.classifiers_ = []\n",
    "        for clf in self.classifiers:\n",
    "            fitted_clf = clone(clf).fit(X, self.lablenc_.transform(y))\n",
    "            self.classifiers_.append(fitted_clf)\n",
    "        return self\n",
    "\n",
    "    def predict(self, X):\n",
    "        if self.vote == 'probability':\n",
    "            maj_vote = np.argmax(self.predict_proba(X), axis=1)\n",
    "        else:  # 'classlabel' vote\n",
    "\n",
    "            #  Collect results from clf.predict calls\n",
    "            predictions = np.asarray([clf.predict(X)\n",
    "                                      for clf in self.classifiers_]).T\n",
    "\n",
    "            maj_vote = np.apply_along_axis(\n",
    "                                      lambda x:\n",
    "                                      np.argmax(np.bincount(x,\n",
    "                                                weights=self.weights)),\n",
    "                                      axis=1,\n",
    "                                      arr=predictions)\n",
    "        maj_vote = self.lablenc_.inverse_transform(maj_vote)\n",
    "        return maj_vote\n",
    "\n",
    "    def predict_proba(self, X):\n",
    "        probas = np.asarray([clf.predict_proba(X)\n",
    "                             for clf in self.classifiers_])\n",
    "        avg_proba = np.average(probas, axis=0, weights=self.weights)\n",
    "        return avg_proba\n",
    "\n",
    "    def get_params(self, deep=True):\n",
    "        if not deep:\n",
    "            return super().get_params(deep=False)\n",
    "        else:\n",
    "            out = self.named_classifiers.copy()\n",
    "            for name, step in self.named_classifiers.items():\n",
    "                for key, value in step.get_params(deep=True).items():\n",
    "                    out[f'{name}__{key}'] = value\n",
    "            return out"
   ]
  },
  {
   "cell_type": "code",
   "execution_count": 6,
   "id": "1d6df51f-17eb-4019-8c14-25baae492636",
   "metadata": {},
   "outputs": [],
   "source": [
    "# from sklearn.ensemble import VotingClassifier\n",
    "# MajorityVoteClassifier in sklearn"
   ]
  },
  {
   "cell_type": "markdown",
   "id": "25c9bfa9-004a-42ce-810a-01cbf5bce520",
   "metadata": {},
   "source": [
    "Подготовка данных:"
   ]
  },
  {
   "cell_type": "code",
   "execution_count": 7,
   "id": "05aebd97-bcf8-4d5a-a5d5-6201f4ba8362",
   "metadata": {},
   "outputs": [],
   "source": [
    "from sklearn.datasets import load_iris\n",
    "from sklearn.model_selection import train_test_split\n",
    "from sklearn.preprocessing import LabelEncoder, StandardScaler\n",
    "\n",
    "iris = load_iris()\n",
    "X, y = iris.data[50:, [1, 2]], iris.target[50:]\n",
    "le = LabelEncoder()\n",
    "\n",
    "X_train, X_test, y_train, y_test = train_test_split(X, y,\n",
    "                                                    test_size=0.5,\n",
    "                                                    random_state=1,\n",
    "                                                    stratify=y)"
   ]
  },
  {
   "cell_type": "markdown",
   "id": "efa0ecd4-2027-4eae-999c-ee81547a6ca9",
   "metadata": {},
   "source": [
    "Перед объединением базовых классификаторов в ансамблевый классификатор оцениваем эффективность каждого классификатора посредством перекрестной проверки по 10 блокам на обучающем наборе:"
   ]
  },
  {
   "cell_type": "code",
   "execution_count": 8,
   "id": "ab27cbea-46d1-4da6-9197-991312abf338",
   "metadata": {},
   "outputs": [
    {
     "name": "stdout",
     "output_type": "stream",
     "text": [
      "cross val 10:\n",
      "roc auc:  0.9166666666666666 +- 0.1536590742882148 LogisticRegression\n",
      "roc auc:  0.8666666666666668 +- 0.18333333333333332 DecisionTreeClassifier\n",
      "roc auc:  0.85 +- 0.13333333333333333 KNN\n"
     ]
    }
   ],
   "source": [
    "from sklearn.model_selection import cross_val_score\n",
    "from sklearn.linear_model import LogisticRegression\n",
    "from sklearn.tree import DecisionTreeClassifier\n",
    "from sklearn.neighbors import KNeighborsClassifier\n",
    "from sklearn.pipeline import Pipeline\n",
    "\n",
    "clf1 = LogisticRegression(penalty='l2',\n",
    "                          C=0.001,\n",
    "                          solver='lbfgs',\n",
    "                          random_state=1)\n",
    "clf2 = DecisionTreeClassifier(max_depth=1, criterion='entropy',\n",
    "                              random_state=0)\n",
    "clf3 = KNeighborsClassifier(n_neighbors=1, p=2,\n",
    "                            metric='minkowski')\n",
    "pipe1 = Pipeline([['sc', StandardScaler()],\n",
    "                  ['clf', clf1]])\n",
    "pipe3 = Pipeline([['sc', StandardScaler()],\n",
    "                  ['clf', clf3]])\n",
    "clf_labels = ['LogisticRegression', 'DecisionTreeClassifier',\n",
    "              'KNN']\n",
    "print('cross val 10:')\n",
    "for clf, label in zip([pipe1, clf2, pipe3], clf_labels):\n",
    "    scores = cross_val_score(estimator=clf,\n",
    "                             X=X_train,\n",
    "                             y=y_train,\n",
    "                             cv=10,\n",
    "                             scoring='roc_auc')\n",
    "    print('roc auc: ', scores.mean(), '+-', scores.std(), label)"
   ]
  },
  {
   "cell_type": "code",
   "execution_count": 9,
   "id": "5844ca7a-c196-4810-96fa-cfd5564739f1",
   "metadata": {},
   "outputs": [
    {
     "name": "stdout",
     "output_type": "stream",
     "text": [
      "roc auc:  0.9166666666666666 +- 0.1536590742882148 LogisticRegression\n",
      "roc auc:  0.8666666666666668 +- 0.18333333333333332 DecisionTreeClassifier\n",
      "roc auc:  0.85 +- 0.13333333333333333 KNN\n",
      "roc auc:  0.9833333333333334 +- 0.04999999999999999 Major Vote Classif\n"
     ]
    }
   ],
   "source": [
    "# from sklearn.ensemble import VotingClassifier\n",
    "# mv_clf = VotingClassifier(estimators=[\n",
    "#                           ('pipe1', pipe1),\n",
    "#                           ('clf2', clf2), ('pipe3', pipe3)], voting='soft')\n",
    "mv_clf = MajorityVoteClassifier(classifiers=[pipe1, clf2, pipe3])\n",
    "\n",
    "\n",
    "clf_labels += ['Major Vote Classif']\n",
    "\n",
    "all_clf = [pipe1, clf2, pipe3, mv_clf]\n",
    "\n",
    "for clf, label in zip(all_clf, clf_labels):\n",
    "    scores = cross_val_score(estimator=clf,\n",
    "                             X=X_train,\n",
    "                             y=y_train,\n",
    "                             cv=10,\n",
    "                             scoring='roc_auc')\n",
    "    print('roc auc: ', scores.mean(), '+-', scores.std(), label)"
   ]
  },
  {
   "cell_type": "code",
   "execution_count": 10,
   "id": "386f65f7-2ed1-44bc-86d3-9f9a19d57ffb",
   "metadata": {},
   "outputs": [],
   "source": [
    "# aboba = clone(pipe1)\n",
    "# aboba.fit(X_train, y_train)\n",
    "# print(aboba.predict([X_test[0]]))\n",
    "# print(aboba.predict_proba([X_test[0]])[:, 1])"
   ]
  },
  {
   "cell_type": "code",
   "execution_count": 11,
   "id": "8a3a11b8-788f-4e8b-a2ba-dffc9e041aef",
   "metadata": {},
   "outputs": [
    {
     "data": {
      "text/plain": [
       "array([1, 2, 1, 1, 1, 2, 2, 2, 2, 1, 1, 2, 2, 2, 1, 2, 2, 1, 2, 1, 2, 1,\n",
       "       1, 1, 2, 1, 2, 1, 1, 2, 2, 2, 1, 2, 1, 2, 1, 2, 2, 1, 2, 2, 1, 2,\n",
       "       1, 1, 2, 1, 1, 1])"
      ]
     },
     "execution_count": 11,
     "metadata": {},
     "output_type": "execute_result"
    }
   ],
   "source": [
    "y_test"
   ]
  },
  {
   "cell_type": "markdown",
   "id": "6457da0b-1805-4a9d-a543-cd1ac35bca55",
   "metadata": {},
   "source": [
    "Построение ROC кривой для всех моделей:"
   ]
  },
  {
   "cell_type": "code",
   "execution_count": 12,
   "id": "c67f48c5-011e-465f-9099-64fa5a9ade6c",
   "metadata": {},
   "outputs": [
    {
     "data": {
      "image/png": "[encoded data removed]",
      "text/plain": [
       "<Figure size 432x288 with 1 Axes>"
      ]
     },
     "metadata": {
      "needs_background": "light"
     },
     "output_type": "display_data"
    }
   ],
   "source": [
    "from sklearn.metrics import roc_curve\n",
    "from sklearn.metrics import auc\n",
    "\n",
    "colors = ['black', 'orange', 'blue', 'green']\n",
    "linestyles = [':', '--', '-.', '-']\n",
    "\n",
    "for clf, label, clr, ls in zip(all_clf, clf_labels, colors, linestyles):\n",
    "    y_pred = clf.fit(X_train, y_train).predict_proba(X_test)[:, 1]\n",
    "    fpr, tpr, thresholds = roc_curve(y_true=y_test,\n",
    "                                     y_score=y_pred, pos_label=2)\n",
    "    roc_auc = auc(x=fpr, y=tpr)\n",
    "    plt.plot(fpr, tpr,\n",
    "             color=clr,\n",
    "             linestyle=ls,\n",
    "             label=f'{label} auc = {roc_auc}')\n",
    "plt.legend(loc='best')\n",
    "plt.plot([0, 1], [0, 1],\n",
    "         linestyle='--',\n",
    "         color='gray',\n",
    "         linewidth=2)\n",
    "plt.grid(alpha=0.5)\n",
    "plt.xlabel('Доля ложноположительных классификаций')\n",
    "plt.ylabel('Доля истинно положительных классификаций')\n",
    "plt.show()"
   ]
  },
  {
   "cell_type": "markdown",
   "id": "5fcac540-577b-4efe-a30f-2cb9a397fb40",
   "metadata": {},
   "source": [
    "Ансамблевый классификатор также хорошо работает на испытательном набор, как и логистическая регрессия. Вероятная причина - высокая дисперсия (чувствительность к тому, как разделяется набор данных).\n",
    "\n",
    "Построение области принятия решений:"
   ]
  },
  {
   "cell_type": "markdown",
   "id": "92e78ac2-6dac-4f30-8661-eea647a81f21",
   "metadata": {},
   "source": [
    "(Стандартизация данных в визуальных целях, чтобы области решений у дерева решений имели тот же самый масштаб)"
   ]
  },
  {
   "cell_type": "code",
   "execution_count": 13,
   "id": "5f0f9ebf-b344-49ad-89d6-e01f85971004",
   "metadata": {},
   "outputs": [],
   "source": [
    "sc = StandardScaler()\n",
    "X_train_std = sc.fit_transform(X_train)"
   ]
  },
  {
   "cell_type": "code",
   "execution_count": 14,
   "id": "229db33b-11c6-4d23-b5f5-79393ba1910e",
   "metadata": {},
   "outputs": [
    {
     "data": {
      "image/png": "[encoded data removed]",
      "text/plain": [
       "<Figure size 720x576 with 4 Axes>"
      ]
     },
     "metadata": {
      "needs_background": "light"
     },
     "output_type": "display_data"
    }
   ],
   "source": [
    "from mlxtend.plotting import plot_decision_regions\n",
    "import matplotlib.gridspec as gridspec\n",
    "import itertools\n",
    "gs = gridspec.GridSpec(2, 2)\n",
    "\n",
    "fig = plt.figure(figsize=(10, 8))\n",
    "\n",
    "for clf, lab, grd in zip(all_clf,\n",
    "                         clf_labels,\n",
    "                         itertools.product([0, 1], repeat=2)):\n",
    "\n",
    "    clf.fit(X_train_std, y_train)\n",
    "    ax = plt.subplot(gs[grd[0], grd[1]])\n",
    "    fig = plot_decision_regions(X=X_train_std, y=y_train, clf=clf, legend=2)\n",
    "    plt.title(lab)\n",
    "\n",
    "plt.show()"
   ]
  },
  {
   "cell_type": "markdown",
   "id": "37503eeb-367d-46d7-86aa-e3fd36557b93",
   "metadata": {},
   "source": [
    "Настройка гиперпараметров:\n",
    "- C для логистической регрессии\n",
    "- глубина дерева"
   ]
  },
  {
   "cell_type": "code",
   "execution_count": 15,
   "id": "05d56e3f-b6ef-4b6f-90c2-46db18cd4919",
   "metadata": {},
   "outputs": [
    {
     "data": {
      "text/plain": [
       "{'pipeline-1': Pipeline(steps=[('sc', StandardScaler()),\n",
       "                 ['clf', LogisticRegression(C=0.001, random_state=1)]]),\n",
       " 'decisiontreeclassifier': DecisionTreeClassifier(criterion='entropy', max_depth=1, random_state=0),\n",
       " 'pipeline-2': Pipeline(steps=[('sc', StandardScaler()),\n",
       "                 ['clf', KNeighborsClassifier(n_neighbors=1)]]),\n",
       " 'pipeline-1__memory': None,\n",
       " 'pipeline-1__steps': [('sc', StandardScaler()),\n",
       "  ['clf', LogisticRegression(C=0.001, random_state=1)]],\n",
       " 'pipeline-1__verbose': False,\n",
       " 'pipeline-1__sc': StandardScaler(),\n",
       " 'pipeline-1__clf': LogisticRegression(C=0.001, random_state=1),\n",
       " 'pipeline-1__sc__copy': True,\n",
       " 'pipeline-1__sc__with_mean': True,\n",
       " 'pipeline-1__sc__with_std': True,\n",
       " 'pipeline-1__clf__C': 0.001,\n",
       " 'pipeline-1__clf__class_weight': None,\n",
       " 'pipeline-1__clf__dual': False,\n",
       " 'pipeline-1__clf__fit_intercept': True,\n",
       " 'pipeline-1__clf__intercept_scaling': 1,\n",
       " 'pipeline-1__clf__l1_ratio': None,\n",
       " 'pipeline-1__clf__max_iter': 100,\n",
       " 'pipeline-1__clf__multi_class': 'auto',\n",
       " 'pipeline-1__clf__n_jobs': None,\n",
       " 'pipeline-1__clf__penalty': 'l2',\n",
       " 'pipeline-1__clf__random_state': 1,\n",
       " 'pipeline-1__clf__solver': 'lbfgs',\n",
       " 'pipeline-1__clf__tol': 0.0001,\n",
       " 'pipeline-1__clf__verbose': 0,\n",
       " 'pipeline-1__clf__warm_start': False,\n",
       " 'decisiontreeclassifier__ccp_alpha': 0.0,\n",
       " 'decisiontreeclassifier__class_weight': None,\n",
       " 'decisiontreeclassifier__criterion': 'entropy',\n",
       " 'decisiontreeclassifier__max_depth': 1,\n",
       " 'decisiontreeclassifier__max_features': None,\n",
       " 'decisiontreeclassifier__max_leaf_nodes': None,\n",
       " 'decisiontreeclassifier__min_impurity_decrease': 0.0,\n",
       " 'decisiontreeclassifier__min_samples_leaf': 1,\n",
       " 'decisiontreeclassifier__min_samples_split': 2,\n",
       " 'decisiontreeclassifier__min_weight_fraction_leaf': 0.0,\n",
       " 'decisiontreeclassifier__random_state': 0,\n",
       " 'decisiontreeclassifier__splitter': 'best',\n",
       " 'pipeline-2__memory': None,\n",
       " 'pipeline-2__steps': [('sc', StandardScaler()),\n",
       "  ['clf', KNeighborsClassifier(n_neighbors=1)]],\n",
       " 'pipeline-2__verbose': False,\n",
       " 'pipeline-2__sc': StandardScaler(),\n",
       " 'pipeline-2__clf': KNeighborsClassifier(n_neighbors=1),\n",
       " 'pipeline-2__sc__copy': True,\n",
       " 'pipeline-2__sc__with_mean': True,\n",
       " 'pipeline-2__sc__with_std': True,\n",
       " 'pipeline-2__clf__algorithm': 'auto',\n",
       " 'pipeline-2__clf__leaf_size': 30,\n",
       " 'pipeline-2__clf__metric': 'minkowski',\n",
       " 'pipeline-2__clf__metric_params': None,\n",
       " 'pipeline-2__clf__n_jobs': None,\n",
       " 'pipeline-2__clf__n_neighbors': 1,\n",
       " 'pipeline-2__clf__p': 2,\n",
       " 'pipeline-2__clf__weights': 'uniform'}"
      ]
     },
     "execution_count": 15,
     "metadata": {},
     "output_type": "execute_result"
    }
   ],
   "source": [
    "mv_clf.get_params()"
   ]
  },
  {
   "cell_type": "code",
   "execution_count": 16,
   "id": "0636238a-fb94-4155-b18b-ecab41e120a1",
   "metadata": {},
   "outputs": [
    {
     "data": {
      "text/plain": [
       "GridSearchCV(cv=10,\n",
       "             estimator=MajorityVoteClassifier(classifiers=[Pipeline(steps=[('sc',\n",
       "                                                                            StandardScaler()),\n",
       "                                                                           ['clf',\n",
       "                                                                            LogisticRegression(C=0.001,\n",
       "                                                                                               random_state=1)]]),\n",
       "                                                           DecisionTreeClassifier(criterion='entropy',\n",
       "                                                                                  max_depth=1,\n",
       "                                                                                  random_state=0),\n",
       "                                                           Pipeline(steps=[('sc',\n",
       "                                                                            StandardScaler()),\n",
       "                                                                           ['clf',\n",
       "                                                                            KNeighborsClassifier(n_neighbors=1)]])]),\n",
       "             param_grid=[{'decisiontreeclassifier__max_depth': [1, 2],\n",
       "                          'pipeline-1__clf__C': [0.001, 0.1, 100.0]}],\n",
       "             scoring='roc_auc')"
      ]
     },
     "execution_count": 16,
     "metadata": {},
     "output_type": "execute_result"
    }
   ],
   "source": [
    "from sklearn.model_selection import GridSearchCV\n",
    "\n",
    "params = [{'decisiontreeclassifier__max_depth': [1, 2],\n",
    "           'pipeline-1__clf__C': [0.001, 0.1, 100.0]}]\n",
    "grid = GridSearchCV(estimator=mv_clf,\n",
    "                    param_grid=params,\n",
    "                    cv=10,\n",
    "                    scoring='roc_auc')\n",
    "grid.fit(X_train, y_train)"
   ]
  },
  {
   "cell_type": "code",
   "execution_count": 17,
   "id": "ef55eabf-e0a9-4f24-b8b1-555a66e39647",
   "metadata": {},
   "outputs": [
    {
     "data": {
      "text/plain": [
       "{'mean_fit_time': array([0.00470052, 0.0035008 , 0.0041007 , 0.00340083, 0.00362735,\n",
       "        0.00450072]),\n",
       " 'std_fit_time': array([0.00100489, 0.00050006, 0.00030012, 0.00049025, 0.00072243,\n",
       "        0.00050025]),\n",
       " 'mean_score_time': array([0.00150068, 0.00130081, 0.00140052, 0.00150046, 0.00130043,\n",
       "        0.00120065]),\n",
       " 'std_score_time': array([0.00050008, 0.00045841, 0.00049018, 0.00050035, 0.00045809,\n",
       "        0.00040038]),\n",
       " 'param_decisiontreeclassifier__max_depth': masked_array(data=[1, 1, 1, 2, 2, 2],\n",
       "              mask=[False, False, False, False, False, False],\n",
       "        fill_value='?',\n",
       "             dtype=object),\n",
       " 'param_pipeline-1__clf__C': masked_array(data=[0.001, 0.1, 100.0, 0.001, 0.1, 100.0],\n",
       "              mask=[False, False, False, False, False, False],\n",
       "        fill_value='?',\n",
       "             dtype=object),\n",
       " 'params': [{'decisiontreeclassifier__max_depth': 1,\n",
       "   'pipeline-1__clf__C': 0.001},\n",
       "  {'decisiontreeclassifier__max_depth': 1, 'pipeline-1__clf__C': 0.1},\n",
       "  {'decisiontreeclassifier__max_depth': 1, 'pipeline-1__clf__C': 100.0},\n",
       "  {'decisiontreeclassifier__max_depth': 2, 'pipeline-1__clf__C': 0.001},\n",
       "  {'decisiontreeclassifier__max_depth': 2, 'pipeline-1__clf__C': 0.1},\n",
       "  {'decisiontreeclassifier__max_depth': 2, 'pipeline-1__clf__C': 100.0}],\n",
       " 'split0_test_score': array([1., 1., 1., 1., 1., 1.]),\n",
       " 'split1_test_score': array([1., 1., 1., 1., 1., 1.]),\n",
       " 'split2_test_score': array([1., 1., 1., 1., 1., 1.]),\n",
       " 'split3_test_score': array([1., 1., 1., 1., 1., 1.]),\n",
       " 'split4_test_score': array([0.83333333, 0.83333333, 0.66666667, 0.83333333, 0.83333333,\n",
       "        0.66666667]),\n",
       " 'split5_test_score': array([1., 1., 1., 1., 1., 1.]),\n",
       " 'split6_test_score': array([1., 1., 1., 1., 1., 1.]),\n",
       " 'split7_test_score': array([1., 1., 1., 1., 1., 1.]),\n",
       " 'split8_test_score': array([1., 1., 1., 1., 1., 1.]),\n",
       " 'split9_test_score': array([1., 1., 1., 1., 1., 1.]),\n",
       " 'mean_test_score': array([0.98333333, 0.98333333, 0.96666667, 0.98333333, 0.98333333,\n",
       "        0.96666667]),\n",
       " 'std_test_score': array([0.05, 0.05, 0.1 , 0.05, 0.05, 0.1 ]),\n",
       " 'rank_test_score': array([1, 1, 5, 1, 1, 5])}"
      ]
     },
     "execution_count": 17,
     "metadata": {},
     "output_type": "execute_result"
    }
   ],
   "source": [
    "grid.cv_results_"
   ]
  },
  {
   "cell_type": "markdown",
   "id": "604583a2-1599-427d-b34d-cde477527131",
   "metadata": {},
   "source": [
    "Вывод различных комбинаций значений гиперпараметров и средние показатели ROC AUC, вычесленные посредством перекрестной проверки по 10 блокам:"
   ]
  },
  {
   "cell_type": "code",
   "execution_count": 18,
   "id": "875cca63-4d64-4707-803e-bfccb5572f73",
   "metadata": {},
   "outputs": [
    {
     "name": "stdout",
     "output_type": "stream",
     "text": [
      "0.9833333333333334 +-  0.04999999999999999\n",
      " {'decisiontreeclassifier__max_depth': 1, 'pipeline-1__clf__C': 0.001}\n",
      "0.9833333333333334 +-  0.04999999999999999\n",
      " {'decisiontreeclassifier__max_depth': 1, 'pipeline-1__clf__C': 0.1}\n",
      "0.9666666666666668 +-  0.09999999999999998\n",
      " {'decisiontreeclassifier__max_depth': 1, 'pipeline-1__clf__C': 100.0}\n",
      "0.9833333333333334 +-  0.04999999999999999\n",
      " {'decisiontreeclassifier__max_depth': 2, 'pipeline-1__clf__C': 0.001}\n",
      "0.9833333333333334 +-  0.04999999999999999\n",
      " {'decisiontreeclassifier__max_depth': 2, 'pipeline-1__clf__C': 0.1}\n",
      "0.9666666666666668 +-  0.09999999999999998\n",
      " {'decisiontreeclassifier__max_depth': 2, 'pipeline-1__clf__C': 100.0}\n"
     ]
    }
   ],
   "source": [
    "for r in range(len(grid.cv_results_['mean_test_score'])):\n",
    "    print(f\"{grid.cv_results_['mean_test_score'][r]} +- \",\n",
    "          f\"{grid.cv_results_['std_test_score'][r]}\\n\",\n",
    "          f\"{grid.cv_results_['params'][r]}\")"
   ]
  },
  {
   "cell_type": "code",
   "execution_count": 19,
   "id": "ccf20073-dbc9-4fb6-8290-54c18619bb8f",
   "metadata": {},
   "outputs": [
    {
     "name": "stdout",
     "output_type": "stream",
     "text": [
      "Наилучшие параметры: {'decisiontreeclassifier__max_depth': 1, 'pipeline-1__clf__C': 0.001}\n"
     ]
    }
   ],
   "source": [
    "print(f'Наилучшие параметры: {grid.best_params_}')"
   ]
  },
  {
   "cell_type": "code",
   "execution_count": 20,
   "id": "bfbc16d4-7aff-4c0d-a100-105526c5542b",
   "metadata": {},
   "outputs": [
    {
     "data": {
      "text/plain": [
       "0.9833333333333334"
      ]
     },
     "execution_count": 20,
     "metadata": {},
     "output_type": "execute_result"
    }
   ],
   "source": [
    "grid.best_score_"
   ]
  },
  {
   "cell_type": "markdown",
   "id": "dad753b2-3f6f-4b9e-801f-6e6118dc91a4",
   "metadata": {},
   "source": [
    "### 2. Bagging - построение ансамбля классификаторов из бутстрэп-образцов"
   ]
  },
  {
   "cell_type": "markdown",
   "id": "438781f7-7a71-4e96-8b4d-11e1dd1ab53a",
   "metadata": {},
   "source": [
    "Для подгонки классификаторов в ансамбле вместо использования того же самого обучающего набора производится выборка бутстрэп-образцов (случайных образцов с возвращением) из первоначального обучающего набора."
   ]
  },
  {
   "cell_type": "markdown",
   "id": "02378b5c-15d1-4575-b3cc-68212a9d85df",
   "metadata": {},
   "source": [
    "<img src=\"pic/bagging.png\" width=\"360\"/>"
   ]
  },
  {
   "cell_type": "markdown",
   "id": "8ec0205c-36e9-4f24-8e67-8c3dd25a91d6",
   "metadata": {},
   "source": [
    "Каждый классификатор получает случайный поднабор образцов из обучающего набора. Каждый поднабор содержит определенную долю дубликатов, а некоторые исходные образцы вообще не появляются в повторно выбранном наборе данных из-за выборки с возвращением. После того, как индивидуальные классификаторы подогнаны к бутстрэп-образцам, прогнозы объединяются с применением мажоритарного голосования.\n",
    "\n",
    "Случайные леса - это частный случай бэггинга, где при подгонке индвивидуальных деревьев принятия решений также используются случайные поднаборы."
   ]
  },
  {
   "cell_type": "code",
   "execution_count": 21,
   "id": "309372a8-64af-402d-8ad9-137c756892f9",
   "metadata": {},
   "outputs": [
    {
     "data": {
      "text/html": [
       "<div>\n",
       "<style scoped>\n",
       "    .dataframe tbody tr th:only-of-type {\n",
       "        vertical-align: middle;\n",
       "    }\n",
       "\n",
       "    .dataframe tbody tr th {\n",
       "        vertical-align: top;\n",
       "    }\n",
       "\n",
       "    .dataframe thead th {\n",
       "        text-align: right;\n",
       "    }\n",
       "</style>\n",
       "<table border=\"1\" class=\"dataframe\">\n",
       "  <thead>\n",
       "    <tr style=\"text-align: right;\">\n",
       "      <th></th>\n",
       "      <th>target</th>\n",
       "      <th>alcohol</th>\n",
       "      <th>malic_acid</th>\n",
       "      <th>ash</th>\n",
       "      <th>alcalinity_of_ash</th>\n",
       "      <th>magnesium</th>\n",
       "      <th>total_phenols</th>\n",
       "      <th>flavanoids</th>\n",
       "      <th>nonflavanoid_phenols</th>\n",
       "      <th>proanthocyanins</th>\n",
       "      <th>color_intensity</th>\n",
       "      <th>hue</th>\n",
       "      <th>od280/od315_of_diluted_wines</th>\n",
       "      <th>proline</th>\n",
       "    </tr>\n",
       "  </thead>\n",
       "  <tbody>\n",
       "    <tr>\n",
       "      <th>0</th>\n",
       "      <td>1</td>\n",
       "      <td>14.23</td>\n",
       "      <td>1.71</td>\n",
       "      <td>2.43</td>\n",
       "      <td>15.6</td>\n",
       "      <td>127.0</td>\n",
       "      <td>2.80</td>\n",
       "      <td>3.06</td>\n",
       "      <td>0.28</td>\n",
       "      <td>2.29</td>\n",
       "      <td>5.64</td>\n",
       "      <td>1.04</td>\n",
       "      <td>3.92</td>\n",
       "      <td>1065.0</td>\n",
       "    </tr>\n",
       "    <tr>\n",
       "      <th>1</th>\n",
       "      <td>1</td>\n",
       "      <td>13.20</td>\n",
       "      <td>1.78</td>\n",
       "      <td>2.14</td>\n",
       "      <td>11.2</td>\n",
       "      <td>100.0</td>\n",
       "      <td>2.65</td>\n",
       "      <td>2.76</td>\n",
       "      <td>0.26</td>\n",
       "      <td>1.28</td>\n",
       "      <td>4.38</td>\n",
       "      <td>1.05</td>\n",
       "      <td>3.40</td>\n",
       "      <td>1050.0</td>\n",
       "    </tr>\n",
       "    <tr>\n",
       "      <th>2</th>\n",
       "      <td>1</td>\n",
       "      <td>13.16</td>\n",
       "      <td>2.36</td>\n",
       "      <td>2.67</td>\n",
       "      <td>18.6</td>\n",
       "      <td>101.0</td>\n",
       "      <td>2.80</td>\n",
       "      <td>3.24</td>\n",
       "      <td>0.30</td>\n",
       "      <td>2.81</td>\n",
       "      <td>5.68</td>\n",
       "      <td>1.03</td>\n",
       "      <td>3.17</td>\n",
       "      <td>1185.0</td>\n",
       "    </tr>\n",
       "    <tr>\n",
       "      <th>3</th>\n",
       "      <td>1</td>\n",
       "      <td>14.37</td>\n",
       "      <td>1.95</td>\n",
       "      <td>2.50</td>\n",
       "      <td>16.8</td>\n",
       "      <td>113.0</td>\n",
       "      <td>3.85</td>\n",
       "      <td>3.49</td>\n",
       "      <td>0.24</td>\n",
       "      <td>2.18</td>\n",
       "      <td>7.80</td>\n",
       "      <td>0.86</td>\n",
       "      <td>3.45</td>\n",
       "      <td>1480.0</td>\n",
       "    </tr>\n",
       "    <tr>\n",
       "      <th>4</th>\n",
       "      <td>1</td>\n",
       "      <td>13.24</td>\n",
       "      <td>2.59</td>\n",
       "      <td>2.87</td>\n",
       "      <td>21.0</td>\n",
       "      <td>118.0</td>\n",
       "      <td>2.80</td>\n",
       "      <td>2.69</td>\n",
       "      <td>0.39</td>\n",
       "      <td>1.82</td>\n",
       "      <td>4.32</td>\n",
       "      <td>1.04</td>\n",
       "      <td>2.93</td>\n",
       "      <td>735.0</td>\n",
       "    </tr>\n",
       "  </tbody>\n",
       "</table>\n",
       "</div>"
      ],
      "text/plain": [
       "   target  alcohol  malic_acid   ash  alcalinity_of_ash  magnesium  \\\n",
       "0       1    14.23        1.71  2.43               15.6      127.0   \n",
       "1       1    13.20        1.78  2.14               11.2      100.0   \n",
       "2       1    13.16        2.36  2.67               18.6      101.0   \n",
       "3       1    14.37        1.95  2.50               16.8      113.0   \n",
       "4       1    13.24        2.59  2.87               21.0      118.0   \n",
       "\n",
       "   total_phenols  flavanoids  nonflavanoid_phenols  proanthocyanins  \\\n",
       "0           2.80        3.06                  0.28             2.29   \n",
       "1           2.65        2.76                  0.26             1.28   \n",
       "2           2.80        3.24                  0.30             2.81   \n",
       "3           3.85        3.49                  0.24             2.18   \n",
       "4           2.80        2.69                  0.39             1.82   \n",
       "\n",
       "   color_intensity   hue  od280/od315_of_diluted_wines  proline  \n",
       "0             5.64  1.04                          3.92   1065.0  \n",
       "1             4.38  1.05                          3.40   1050.0  \n",
       "2             5.68  1.03                          3.17   1185.0  \n",
       "3             7.80  0.86                          3.45   1480.0  \n",
       "4             4.32  1.04                          2.93    735.0  "
      ]
     },
     "execution_count": 21,
     "metadata": {},
     "output_type": "execute_result"
    }
   ],
   "source": [
    "from sklearn.datasets import load_wine\n",
    "import pandas as pd\n",
    "import numpy as np\n",
    "\n",
    "data = load_wine()\n",
    "df = pd.DataFrame(data=data.data, columns=data.feature_names)\n",
    "df['target'] = data.target + 1\n",
    "df = df.reindex(columns=['target'] + list(df.columns[:-1]))\n",
    "df.head()"
   ]
  },
  {
   "cell_type": "markdown",
   "id": "0b35f4ff-b8d6-40d3-8f46-1f03cb191a9f",
   "metadata": {},
   "source": [
    "Отбросить класс 1:"
   ]
  },
  {
   "cell_type": "code",
   "execution_count": 22,
   "id": "897bf344-6ffe-47ad-aa0b-1b9f6c013835",
   "metadata": {},
   "outputs": [
    {
     "data": {
      "text/html": [
       "<div>\n",
       "<style scoped>\n",
       "    .dataframe tbody tr th:only-of-type {\n",
       "        vertical-align: middle;\n",
       "    }\n",
       "\n",
       "    .dataframe tbody tr th {\n",
       "        vertical-align: top;\n",
       "    }\n",
       "\n",
       "    .dataframe thead th {\n",
       "        text-align: right;\n",
       "    }\n",
       "</style>\n",
       "<table border=\"1\" class=\"dataframe\">\n",
       "  <thead>\n",
       "    <tr style=\"text-align: right;\">\n",
       "      <th></th>\n",
       "      <th>target</th>\n",
       "      <th>alcohol</th>\n",
       "      <th>malic_acid</th>\n",
       "      <th>ash</th>\n",
       "      <th>alcalinity_of_ash</th>\n",
       "      <th>magnesium</th>\n",
       "      <th>total_phenols</th>\n",
       "      <th>flavanoids</th>\n",
       "      <th>nonflavanoid_phenols</th>\n",
       "      <th>proanthocyanins</th>\n",
       "      <th>color_intensity</th>\n",
       "      <th>hue</th>\n",
       "      <th>od280/od315_of_diluted_wines</th>\n",
       "      <th>proline</th>\n",
       "    </tr>\n",
       "  </thead>\n",
       "  <tbody>\n",
       "    <tr>\n",
       "      <th>59</th>\n",
       "      <td>2</td>\n",
       "      <td>12.37</td>\n",
       "      <td>0.94</td>\n",
       "      <td>1.36</td>\n",
       "      <td>10.6</td>\n",
       "      <td>88.0</td>\n",
       "      <td>1.98</td>\n",
       "      <td>0.57</td>\n",
       "      <td>0.28</td>\n",
       "      <td>0.42</td>\n",
       "      <td>1.95</td>\n",
       "      <td>1.05</td>\n",
       "      <td>1.82</td>\n",
       "      <td>520.0</td>\n",
       "    </tr>\n",
       "    <tr>\n",
       "      <th>60</th>\n",
       "      <td>2</td>\n",
       "      <td>12.33</td>\n",
       "      <td>1.10</td>\n",
       "      <td>2.28</td>\n",
       "      <td>16.0</td>\n",
       "      <td>101.0</td>\n",
       "      <td>2.05</td>\n",
       "      <td>1.09</td>\n",
       "      <td>0.63</td>\n",
       "      <td>0.41</td>\n",
       "      <td>3.27</td>\n",
       "      <td>1.25</td>\n",
       "      <td>1.67</td>\n",
       "      <td>680.0</td>\n",
       "    </tr>\n",
       "    <tr>\n",
       "      <th>61</th>\n",
       "      <td>2</td>\n",
       "      <td>12.64</td>\n",
       "      <td>1.36</td>\n",
       "      <td>2.02</td>\n",
       "      <td>16.8</td>\n",
       "      <td>100.0</td>\n",
       "      <td>2.02</td>\n",
       "      <td>1.41</td>\n",
       "      <td>0.53</td>\n",
       "      <td>0.62</td>\n",
       "      <td>5.75</td>\n",
       "      <td>0.98</td>\n",
       "      <td>1.59</td>\n",
       "      <td>450.0</td>\n",
       "    </tr>\n",
       "    <tr>\n",
       "      <th>62</th>\n",
       "      <td>2</td>\n",
       "      <td>13.67</td>\n",
       "      <td>1.25</td>\n",
       "      <td>1.92</td>\n",
       "      <td>18.0</td>\n",
       "      <td>94.0</td>\n",
       "      <td>2.10</td>\n",
       "      <td>1.79</td>\n",
       "      <td>0.32</td>\n",
       "      <td>0.73</td>\n",
       "      <td>3.80</td>\n",
       "      <td>1.23</td>\n",
       "      <td>2.46</td>\n",
       "      <td>630.0</td>\n",
       "    </tr>\n",
       "    <tr>\n",
       "      <th>63</th>\n",
       "      <td>2</td>\n",
       "      <td>12.37</td>\n",
       "      <td>1.13</td>\n",
       "      <td>2.16</td>\n",
       "      <td>19.0</td>\n",
       "      <td>87.0</td>\n",
       "      <td>3.50</td>\n",
       "      <td>3.10</td>\n",
       "      <td>0.19</td>\n",
       "      <td>1.87</td>\n",
       "      <td>4.45</td>\n",
       "      <td>1.22</td>\n",
       "      <td>2.87</td>\n",
       "      <td>420.0</td>\n",
       "    </tr>\n",
       "  </tbody>\n",
       "</table>\n",
       "</div>"
      ],
      "text/plain": [
       "    target  alcohol  malic_acid   ash  alcalinity_of_ash  magnesium  \\\n",
       "59       2    12.37        0.94  1.36               10.6       88.0   \n",
       "60       2    12.33        1.10  2.28               16.0      101.0   \n",
       "61       2    12.64        1.36  2.02               16.8      100.0   \n",
       "62       2    13.67        1.25  1.92               18.0       94.0   \n",
       "63       2    12.37        1.13  2.16               19.0       87.0   \n",
       "\n",
       "    total_phenols  flavanoids  nonflavanoid_phenols  proanthocyanins  \\\n",
       "59           1.98        0.57                  0.28             0.42   \n",
       "60           2.05        1.09                  0.63             0.41   \n",
       "61           2.02        1.41                  0.53             0.62   \n",
       "62           2.10        1.79                  0.32             0.73   \n",
       "63           3.50        3.10                  0.19             1.87   \n",
       "\n",
       "    color_intensity   hue  od280/od315_of_diluted_wines  proline  \n",
       "59             1.95  1.05                          1.82    520.0  \n",
       "60             3.27  1.25                          1.67    680.0  \n",
       "61             5.75  0.98                          1.59    450.0  \n",
       "62             3.80  1.23                          2.46    630.0  \n",
       "63             4.45  1.22                          2.87    420.0  "
      ]
     },
     "execution_count": 22,
     "metadata": {},
     "output_type": "execute_result"
    }
   ],
   "source": [
    "df = df[df['target'] != 1]\n",
    "df.head()"
   ]
  },
  {
   "cell_type": "code",
   "execution_count": 23,
   "id": "63783afc-4398-4a92-afaf-03c0c078cafa",
   "metadata": {},
   "outputs": [],
   "source": [
    "X = df[['alcohol', 'od280/od315_of_diluted_wines']].values\n",
    "y = df['target'].values"
   ]
  },
  {
   "cell_type": "code",
   "execution_count": 24,
   "id": "85abf402-1e51-4995-ac62-4c32a148bcf0",
   "metadata": {},
   "outputs": [
    {
     "data": {
      "text/plain": [
       "array([2, 2, 2, 2, 2, 2, 2, 2, 2, 2, 2, 2, 2, 2, 2, 2, 2, 2, 2, 2, 2, 2,\n",
       "       2, 2, 2, 2, 2, 2, 2, 2, 2, 2, 2, 2, 2, 2, 2, 2, 2, 2, 2, 2, 2, 2,\n",
       "       2, 2, 2, 2, 2, 2, 2, 2, 2, 2, 2, 2, 2, 2, 2, 2, 2, 2, 2, 2, 2, 2,\n",
       "       2, 2, 2, 2, 2, 3, 3, 3, 3, 3, 3, 3, 3, 3, 3, 3, 3, 3, 3, 3, 3, 3,\n",
       "       3, 3, 3, 3, 3, 3, 3, 3, 3, 3, 3, 3, 3, 3, 3, 3, 3, 3, 3, 3, 3, 3,\n",
       "       3, 3, 3, 3, 3, 3, 3, 3, 3])"
      ]
     },
     "execution_count": 24,
     "metadata": {},
     "output_type": "execute_result"
    }
   ],
   "source": [
    "y"
   ]
  },
  {
   "cell_type": "code",
   "execution_count": 25,
   "id": "2c95c474-9274-4ec1-92e7-d2465d380c60",
   "metadata": {},
   "outputs": [
    {
     "name": "stdout",
     "output_type": "stream",
     "text": [
      "[0 0 0 0 0 0 0 0 0 0 0 0 0 0 0 0 0 0 0 0 0 0 0 0 0 0 0 0 0 0 0 0 0 0 0 0 0\n",
      " 0 0 0 0 0 0 0 0 0 0 0 0 0 0 0 0 0 0 0 0 0 0 0 0 0 0 0 0 0 0 0 0 0 0 1 1 1\n",
      " 1 1 1 1 1 1 1 1 1 1 1 1 1 1 1 1 1 1 1 1 1 1 1 1 1 1 1 1 1 1 1 1 1 1 1 1 1\n",
      " 1 1 1 1 1 1 1 1]\n"
     ]
    }
   ],
   "source": [
    "from sklearn.model_selection import train_test_split\n",
    "from sklearn.preprocessing import LabelEncoder\n",
    "\n",
    "le = LabelEncoder()\n",
    "y = le.fit_transform(y)\n",
    "print(y)\n",
    "\n",
    "X_train, X_test, y_train, y_test = train_test_split(X, y,\n",
    "                                                    test_size=0.2,\n",
    "                                                    stratify=y,\n",
    "                                                    random_state=1)"
   ]
  },
  {
   "cell_type": "markdown",
   "id": "f1b9cb14-9e1c-48b9-9148-223ea9c08318",
   "metadata": {},
   "source": [
    "В ансамбле будут 500 неподрезанных (max_depth=None) деревьев:"
   ]
  },
  {
   "cell_type": "code",
   "execution_count": 26,
   "id": "39f46b78-db1a-4843-9af9-51a4a8159bd6",
   "metadata": {},
   "outputs": [],
   "source": [
    "from sklearn.ensemble import BaggingClassifier\n",
    "\n",
    "tree = DecisionTreeClassifier(criterion='entropy',\n",
    "                              random_state=1,\n",
    "                              max_depth=None)\n",
    "bag = BaggingClassifier(base_estimator=tree,\n",
    "                        n_estimators=500,\n",
    "                        max_samples=1.0,\n",
    "                        max_features=1.0,\n",
    "                        bootstrap=True,\n",
    "                        bootstrap_features=False,\n",
    "                        n_jobs=1,\n",
    "                        random_state=1)"
   ]
  },
  {
   "cell_type": "markdown",
   "id": "cc3d17c1-aaf8-4984-a3ff-0c218bf2ed24",
   "metadata": {},
   "source": [
    "Acc для одного дерева:"
   ]
  },
  {
   "cell_type": "code",
   "execution_count": 27,
   "id": "7a2af8df-9447-4271-8bb8-bc1f9778f4a0",
   "metadata": {},
   "outputs": [
    {
     "name": "stdout",
     "output_type": "stream",
     "text": [
      "acc train: 1.0,  acc test: 0.8333333333333334\n"
     ]
    }
   ],
   "source": [
    "from sklearn.metrics import accuracy_score\n",
    "\n",
    "tree = tree.fit(X_train, y_train)\n",
    "y_train_pred = tree.predict(X_train)\n",
    "y_test_pred = tree.predict(X_test)\n",
    "\n",
    "print(f'acc train: {accuracy_score(y_train, y_train_pred)}, ',\n",
    "      f'acc test: {accuracy_score(y_test, y_test_pred)}')"
   ]
  },
  {
   "cell_type": "markdown",
   "id": "bda8793e-046f-4613-b36b-7c64b2736dd0",
   "metadata": {},
   "source": [
    "Acc для бэггинга:"
   ]
  },
  {
   "cell_type": "code",
   "execution_count": 28,
   "id": "0c6697ab-6982-4877-b83c-6fd634717403",
   "metadata": {},
   "outputs": [
    {
     "name": "stdout",
     "output_type": "stream",
     "text": [
      "acc train: 1.0,  acc test: 0.9166666666666666\n"
     ]
    }
   ],
   "source": [
    "bag = bag.fit(X_train, y_train)\n",
    "y_train_pred = bag.predict(X_train)\n",
    "y_test_pred = bag.predict(X_test)\n",
    "\n",
    "print(f'acc train: {accuracy_score(y_train, y_train_pred)}, ',\n",
    "      f'acc test: {accuracy_score(y_test, y_test_pred)}')"
   ]
  },
  {
   "cell_type": "code",
   "execution_count": 29,
   "id": "4a404d75-f05f-4e8f-bd33-02ff93353ac9",
   "metadata": {},
   "outputs": [
    {
     "data": {
      "image/png": "[encoded data removed]",
      "text/plain": [
       "<Figure size 720x576 with 1 Axes>"
      ]
     },
     "metadata": {
      "needs_background": "light"
     },
     "output_type": "display_data"
    }
   ],
   "source": [
    "from mlxtend.plotting import plot_decision_regions\n",
    "import matplotlib.gridspec as gridspec\n",
    "import itertools\n",
    "gs = gridspec.GridSpec(2, 2)\n",
    "\n",
    "fig = plt.figure(figsize=(10, 8))\n",
    "\n",
    "for clf, lab, grd in zip([tree, bag],\n",
    "                         ['tree, bagging'],\n",
    "                         itertools.product([0, 1], repeat=2)):\n",
    "\n",
    "    clf.fit(X_train, y_train)\n",
    "    ax = plt.subplot(gs[grd[0], grd[1]])\n",
    "    fig = plot_decision_regions(X=X_train, y=y_train, clf=clf, legend=2)\n",
    "    plt.title(lab)\n",
    "\n",
    "plt.show()"
   ]
  },
  {
   "cell_type": "code",
   "execution_count": 30,
   "id": "0e7a15ef-b77c-4606-a1d7-37838e376b99",
   "metadata": {},
   "outputs": [
    {
     "data": {
      "image/png": "[encoded data removed]",
      "text/plain": [
       "<Figure size 720x216 with 2 Axes>"
      ]
     },
     "metadata": {
      "needs_background": "light"
     },
     "output_type": "display_data"
    }
   ],
   "source": [
    "fig, axes = plt.subplots(1, 2, figsize=(10, 3))\n",
    "\n",
    "fig = plot_decision_regions(X=X, y=y, clf=tree, ax=axes[0], legend=2)\n",
    "axes[0].set_title('tree')\n",
    "fig = plot_decision_regions(X=X, y=y, clf=bag, ax=axes[1], legend=1)\n",
    "axes[1].set_title('bagging')\n",
    "axes[0].set_xlabel('od280/od315_of_diluted_wines')\n",
    "axes[0].set_ylabel('alcohol')\n",
    "axes[1].set_xlabel('od280/od315_of_diluted_wines')\n",
    "axes[1].set_ylabel('alcohol')\n",
    "plt.show()"
   ]
  },
  {
   "cell_type": "markdown",
   "id": "7bd5ed86-8ea0-434f-b905-a500f074a50a",
   "metadata": {},
   "source": [
    "### AdaBoost - adaptive boosting"
   ]
  },
  {
   "cell_type": "markdown",
   "id": "e29e2760-61b9-4655-91f4-0d1847dfdefe",
   "metadata": {},
   "source": [
    "Использование в своих интересах слабых учеников посредством адаптивного бустинга.\n",
    "\n",
    "Как работает обычный бустинг:\n",
    "В отличае от бэггинга алгоритм бустинга применяет случайные поднаборы обучающих образцов, выбранные из обучающего набора данных без возвращения.\n",
    "1. Производится выборка случайного поднабора обучающих образцов d без возвращения из обучающего набора D для обучения слабого ученика C1.\n",
    "2. Производится выборка второго случайного поднабора обучающих образцов d2 без возвращения из обучающего набора и добавляются 50% образцов, которые были неправильно классифицированны, для обучения слабого ученика C2.\n",
    "3. Находится в обучающем наборе D обучающие образцы d3, по которым C1 и C2 расходятся, для обучающего третьего слабого ученика C3.\n",
    "4. Объеденить слабых учеников C1, C2, C3 посредством мажоритарного голосования.\n",
    "\n",
    "\n",
    "##### Алгоритм AdaBoost\n",
    "В отличае от обычного бустинга алгоритм AdaBoost для обучения слабых учеников использует полный обучающий набор, в котором обучающие образцы на кажой итерации заново взвешиваются, чтобы построить более сильный классификатор, обучающийся на ошибках предшествующих слабых учеников в ансамбле.\n",
    "\n",
    "<img src=\"pic/adaboost.png\" width=\"360\"/>\n",
    "<img src=\"pic/adaboost2.png\" width=\"360\"/>"
   ]
  },
  {
   "cell_type": "code",
   "execution_count": 32,
   "id": "9495b41e-4492-4dde-beb1-b239c6c84b13",
   "metadata": {},
   "outputs": [
    {
     "name": "stdout",
     "output_type": "stream",
     "text": [
      "tree acc train: 0.9157894736842105,  tree acc test: 0.875\n"
     ]
    }
   ],
   "source": [
    "# обучение AdaBoostClassifier на 500 пеньках (max_depth=1)\n",
    "from sklearn.ensemble import AdaBoostClassifier\n",
    "tree = DecisionTreeClassifier(criterion='entropy',\n",
    "                              random_state=1,\n",
    "                              max_depth=1)\n",
    "\n",
    "ada = AdaBoostClassifier(base_estimator=tree,\n",
    "                         n_estimators=500,\n",
    "                         learning_rate=0.1,\n",
    "                         random_state=1)\n",
    "\n",
    "tree = tree.fit(X_train, y_train)\n",
    "y_train_pred = tree.predict(X_train)\n",
    "y_test_pred = tree.predict(X_test)\n",
    "print(f'tree acc train: {accuracy_score(y_train, y_train_pred)}, ',\n",
    "      f'tree acc test: {accuracy_score(y_test, y_test_pred)}')"
   ]
  },
  {
   "cell_type": "markdown",
   "id": "4223599c-0d0e-4fd7-94f1-2ad06cc9a8d0",
   "metadata": {},
   "source": [
    "Пенёк имеет высокое смещение, т.к. низкая эффективность при обучении."
   ]
  },
  {
   "cell_type": "code",
   "execution_count": 33,
   "id": "e9286180-05e0-466b-b3ad-bdf0231ec240",
   "metadata": {},
   "outputs": [
    {
     "name": "stdout",
     "output_type": "stream",
     "text": [
      "adaboost acc train: 1.0,  adaboost acc test: 0.9166666666666666\n"
     ]
    }
   ],
   "source": [
    "ada = ada.fit(X_train, y_train)\n",
    "y_train_pred = ada.predict(X_train)\n",
    "y_test_pred = ada.predict(X_test)\n",
    "print(f'adaboost acc train: {accuracy_score(y_train, y_train_pred)}, ',\n",
    "      f'adaboost acc test: {accuracy_score(y_test, y_test_pred)}')"
   ]
  },
  {
   "cell_type": "markdown",
   "id": "cad10372-ee49-47cd-ac02-9592de560e43",
   "metadata": {},
   "source": [
    "Можно также отметить внесение дополнительной дисперсии за счет попытки снизить смещение модели - больший промежуток между эффективностью при обучении и при тесте."
   ]
  },
  {
   "cell_type": "code",
   "execution_count": 34,
   "id": "a9f1e395-f657-4ab6-b406-23022e4b7d56",
   "metadata": {},
   "outputs": [
    {
     "data": {
      "text/plain": [
       "array([[12,  2],\n",
       "       [ 0, 10]], dtype=int64)"
      ]
     },
     "execution_count": 34,
     "metadata": {},
     "output_type": "execute_result"
    }
   ],
   "source": [
    "from sklearn.metrics import confusion_matrix\n",
    "\n",
    "confusion_matrix(y_test, y_test_pred)"
   ]
  },
  {
   "cell_type": "code",
   "execution_count": 35,
   "id": "3de1920a-623c-4666-a2ee-7c00a8cf3794",
   "metadata": {},
   "outputs": [
    {
     "data": {
      "image/png": "[encoded data removed]",
      "text/plain": [
       "<Figure size 720x216 with 2 Axes>"
      ]
     },
     "metadata": {
      "needs_background": "light"
     },
     "output_type": "display_data"
    }
   ],
   "source": [
    "fig, axes = plt.subplots(1, 2, figsize=(10, 3))\n",
    "\n",
    "fig = plot_decision_regions(X=X_train, y=y_train,\n",
    "                            clf=tree, ax=axes[0], legend=2)\n",
    "axes[0].set_title('tree (max depth=1)')\n",
    "fig = plot_decision_regions(X=X_train, y=y_train,\n",
    "                            clf=ada, ax=axes[1], legend=1)\n",
    "axes[1].set_title('AdaBoost')\n",
    "axes[0].set_xlabel('od280/od315_of_diluted_wines')\n",
    "axes[0].set_ylabel('alcohol')\n",
    "axes[1].set_xlabel('od280/od315_of_diluted_wines')\n",
    "axes[1].set_ylabel('alcohol')\n",
    "plt.show()"
   ]
  },
  {
   "cell_type": "markdown",
   "id": "8ef5cab5-f0bb-4079-8adb-8c7fd8085192",
   "metadata": {},
   "source": [
    "Градиентный бустинг:"
   ]
  },
  {
   "cell_type": "code",
   "execution_count": 65,
   "id": "56b21cf8-ba40-4343-8af0-057650eca92d",
   "metadata": {},
   "outputs": [
    {
     "name": "stdout",
     "output_type": "stream",
     "text": [
      "adaboost acc train: 1.0,  adaboost acc test: 0.9166666666666666\n"
     ]
    }
   ],
   "source": [
    "from sklearn.ensemble import GradientBoostingClassifier\n",
    "\n",
    "gb = GradientBoostingClassifier(n_estimators=380, max_depth=1)\n",
    "gb = gb.fit(X_train, y_train)\n",
    "y_train_pred = gb.predict(X_train)\n",
    "y_test_pred = gb.predict(X_test)\n",
    "print(f'adaboost acc train: {accuracy_score(y_train, y_train_pred)}, ',\n",
    "      f'adaboost acc test: {accuracy_score(y_test, y_test_pred)}')"
   ]
  },
  {
   "cell_type": "code",
   "execution_count": 62,
   "id": "840ddf40-9dd6-420c-bf80-e3eb4b7e8d8c",
   "metadata": {},
   "outputs": [
    {
     "data": {
      "text/plain": [
       "<AxesSubplot:>"
      ]
     },
     "execution_count": 62,
     "metadata": {},
     "output_type": "execute_result"
    },
    {
     "data": {
      "image/png": "[encoded data removed]",
      "text/plain": [
       "<Figure size 432x288 with 1 Axes>"
      ]
     },
     "metadata": {
      "needs_background": "light"
     },
     "output_type": "display_data"
    }
   ],
   "source": [
    "plot_decision_regions(X=X_train, y=y_train, clf=gb)"
   ]
  },
  {
   "cell_type": "code",
   "execution_count": null,
   "id": "7847ca82-a8b8-4335-8e84-8d5b78fc3035",
   "metadata": {},
   "outputs": [],
   "source": []
  }
 ],
 "metadata": {
  "kernelspec": {
   "display_name": "Python 3 (ipykernel)",
   "language": "python",
   "name": "python3"
  },
  "language_info": {
   "codemirror_mode": {
    "name": "ipython",
    "version": 3
   },
   "file_extension": ".py",
   "mimetype": "text/x-python",
   "name": "python",
   "nbconvert_exporter": "python",
   "pygments_lexer": "ipython3",
   "version": "3.9.7"
  }
 },
 "nbformat": 4,
 "nbformat_minor": 5
}
