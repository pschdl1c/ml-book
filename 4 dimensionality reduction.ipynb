{
 "cells": [
  {
   "cell_type": "markdown",
   "id": "2987da83-5747-4dea-97f4-7472ca450c26",
   "metadata": {},
   "source": [
    "# Сжатие данных с помощью понижения размерности. Выделение признаков."
   ]
  },
  {
   "cell_type": "markdown",
   "id": "4161e8e8-dd6e-4f2a-9123-24486bad0b7c",
   "metadata": {},
   "source": [
    "#### PCA (метод главных компонент)"
   ]
  },
  {
   "cell_type": "code",
   "execution_count": 1,
   "id": "9f2fa9d5-d5f1-47c0-86be-511672fb270f",
   "metadata": {},
   "outputs": [
    {
     "data": {
      "text/html": [
       "<div>\n",
       "<style scoped>\n",
       "    .dataframe tbody tr th:only-of-type {\n",
       "        vertical-align: middle;\n",
       "    }\n",
       "\n",
       "    .dataframe tbody tr th {\n",
       "        vertical-align: top;\n",
       "    }\n",
       "\n",
       "    .dataframe thead th {\n",
       "        text-align: right;\n",
       "    }\n",
       "</style>\n",
       "<table border=\"1\" class=\"dataframe\">\n",
       "  <thead>\n",
       "    <tr style=\"text-align: right;\">\n",
       "      <th></th>\n",
       "      <th>target</th>\n",
       "      <th>alcohol</th>\n",
       "      <th>malic_acid</th>\n",
       "      <th>ash</th>\n",
       "      <th>alcalinity_of_ash</th>\n",
       "      <th>magnesium</th>\n",
       "      <th>total_phenols</th>\n",
       "      <th>flavanoids</th>\n",
       "      <th>nonflavanoid_phenols</th>\n",
       "      <th>proanthocyanins</th>\n",
       "      <th>color_intensity</th>\n",
       "      <th>hue</th>\n",
       "      <th>od280/od315_of_diluted_wines</th>\n",
       "      <th>proline</th>\n",
       "    </tr>\n",
       "  </thead>\n",
       "  <tbody>\n",
       "    <tr>\n",
       "      <th>0</th>\n",
       "      <td>1</td>\n",
       "      <td>14.23</td>\n",
       "      <td>1.71</td>\n",
       "      <td>2.43</td>\n",
       "      <td>15.6</td>\n",
       "      <td>127.0</td>\n",
       "      <td>2.80</td>\n",
       "      <td>3.06</td>\n",
       "      <td>0.28</td>\n",
       "      <td>2.29</td>\n",
       "      <td>5.64</td>\n",
       "      <td>1.04</td>\n",
       "      <td>3.92</td>\n",
       "      <td>1065.0</td>\n",
       "    </tr>\n",
       "    <tr>\n",
       "      <th>1</th>\n",
       "      <td>1</td>\n",
       "      <td>13.20</td>\n",
       "      <td>1.78</td>\n",
       "      <td>2.14</td>\n",
       "      <td>11.2</td>\n",
       "      <td>100.0</td>\n",
       "      <td>2.65</td>\n",
       "      <td>2.76</td>\n",
       "      <td>0.26</td>\n",
       "      <td>1.28</td>\n",
       "      <td>4.38</td>\n",
       "      <td>1.05</td>\n",
       "      <td>3.40</td>\n",
       "      <td>1050.0</td>\n",
       "    </tr>\n",
       "    <tr>\n",
       "      <th>2</th>\n",
       "      <td>1</td>\n",
       "      <td>13.16</td>\n",
       "      <td>2.36</td>\n",
       "      <td>2.67</td>\n",
       "      <td>18.6</td>\n",
       "      <td>101.0</td>\n",
       "      <td>2.80</td>\n",
       "      <td>3.24</td>\n",
       "      <td>0.30</td>\n",
       "      <td>2.81</td>\n",
       "      <td>5.68</td>\n",
       "      <td>1.03</td>\n",
       "      <td>3.17</td>\n",
       "      <td>1185.0</td>\n",
       "    </tr>\n",
       "    <tr>\n",
       "      <th>3</th>\n",
       "      <td>1</td>\n",
       "      <td>14.37</td>\n",
       "      <td>1.95</td>\n",
       "      <td>2.50</td>\n",
       "      <td>16.8</td>\n",
       "      <td>113.0</td>\n",
       "      <td>3.85</td>\n",
       "      <td>3.49</td>\n",
       "      <td>0.24</td>\n",
       "      <td>2.18</td>\n",
       "      <td>7.80</td>\n",
       "      <td>0.86</td>\n",
       "      <td>3.45</td>\n",
       "      <td>1480.0</td>\n",
       "    </tr>\n",
       "    <tr>\n",
       "      <th>4</th>\n",
       "      <td>1</td>\n",
       "      <td>13.24</td>\n",
       "      <td>2.59</td>\n",
       "      <td>2.87</td>\n",
       "      <td>21.0</td>\n",
       "      <td>118.0</td>\n",
       "      <td>2.80</td>\n",
       "      <td>2.69</td>\n",
       "      <td>0.39</td>\n",
       "      <td>1.82</td>\n",
       "      <td>4.32</td>\n",
       "      <td>1.04</td>\n",
       "      <td>2.93</td>\n",
       "      <td>735.0</td>\n",
       "    </tr>\n",
       "  </tbody>\n",
       "</table>\n",
       "</div>"
      ],
      "text/plain": [
       "   target  alcohol  malic_acid   ash  alcalinity_of_ash  magnesium  \\\n",
       "0       1    14.23        1.71  2.43               15.6      127.0   \n",
       "1       1    13.20        1.78  2.14               11.2      100.0   \n",
       "2       1    13.16        2.36  2.67               18.6      101.0   \n",
       "3       1    14.37        1.95  2.50               16.8      113.0   \n",
       "4       1    13.24        2.59  2.87               21.0      118.0   \n",
       "\n",
       "   total_phenols  flavanoids  nonflavanoid_phenols  proanthocyanins  \\\n",
       "0           2.80        3.06                  0.28             2.29   \n",
       "1           2.65        2.76                  0.26             1.28   \n",
       "2           2.80        3.24                  0.30             2.81   \n",
       "3           3.85        3.49                  0.24             2.18   \n",
       "4           2.80        2.69                  0.39             1.82   \n",
       "\n",
       "   color_intensity   hue  od280/od315_of_diluted_wines  proline  \n",
       "0             5.64  1.04                          3.92   1065.0  \n",
       "1             4.38  1.05                          3.40   1050.0  \n",
       "2             5.68  1.03                          3.17   1185.0  \n",
       "3             7.80  0.86                          3.45   1480.0  \n",
       "4             4.32  1.04                          2.93    735.0  "
      ]
     },
     "execution_count": 1,
     "metadata": {},
     "output_type": "execute_result"
    }
   ],
   "source": [
    "from sklearn.datasets import load_wine\n",
    "import pandas as pd\n",
    "import numpy as np\n",
    "\n",
    "data = load_wine()\n",
    "df = pd.DataFrame(data=data.data, columns=data.feature_names)\n",
    "df['target'] = data.target + 1\n",
    "df = df.reindex(columns=['target'] + list(df.columns[:-1]))\n",
    "df.head()"
   ]
  },
  {
   "cell_type": "code",
   "execution_count": 2,
   "id": "c2eb05a7-74b0-44eb-bc2c-14c0977d7f79",
   "metadata": {},
   "outputs": [
    {
     "data": {
      "text/plain": [
       "array([1, 1, 1, 1, 1, 1, 1, 1, 1, 1, 1, 1, 1, 1, 1, 1, 1, 1, 1, 1, 1, 1,\n",
       "       1, 1, 1, 1, 1, 1, 1, 1, 1, 1, 1, 1, 1, 1, 1, 1, 1, 1, 1, 1, 1, 1,\n",
       "       1, 1, 1, 1, 1, 1, 1, 1, 1, 1, 1, 1, 1, 1, 1, 2, 2, 2, 2, 2, 2, 2,\n",
       "       2, 2, 2, 2, 2, 2, 2, 2, 2, 2, 2, 2, 2, 2, 2, 2, 2, 2, 2, 2, 2, 2,\n",
       "       2, 2, 2, 2, 2, 2, 2, 2, 2, 2, 2, 2, 2, 2, 2, 2, 2, 2, 2, 2, 2, 2,\n",
       "       2, 2, 2, 2, 2, 2, 2, 2, 2, 2, 2, 2, 2, 2, 2, 2, 2, 2, 2, 2, 3, 3,\n",
       "       3, 3, 3, 3, 3, 3, 3, 3, 3, 3, 3, 3, 3, 3, 3, 3, 3, 3, 3, 3, 3, 3,\n",
       "       3, 3, 3, 3, 3, 3, 3, 3, 3, 3, 3, 3, 3, 3, 3, 3, 3, 3, 3, 3, 3, 3,\n",
       "       3, 3])"
      ]
     },
     "execution_count": 2,
     "metadata": {},
     "output_type": "execute_result"
    }
   ],
   "source": [
    "df.iloc[:, 0].values"
   ]
  },
  {
   "cell_type": "code",
   "execution_count": 3,
   "id": "533f4c19-6401-40a3-9992-12eb0e8cc08b",
   "metadata": {},
   "outputs": [],
   "source": [
    "from sklearn.model_selection import train_test_split\n",
    "\n",
    "X, y = df.iloc[:, 1:].values, df.iloc[:, 0].values\n",
    "\n",
    "X_train, X_test, y_train, y_test = train_test_split(X, y,\n",
    "                                                    test_size=0.3,\n",
    "                                                    stratify=y,\n",
    "                                                    random_state=0)"
   ]
  },
  {
   "cell_type": "markdown",
   "id": "4fa42325-48d9-4bf9-b64f-72c82189b5a4",
   "metadata": {},
   "source": [
    "1) Стандартизация данных:"
   ]
  },
  {
   "cell_type": "code",
   "execution_count": 4,
   "id": "fb8ed0d3-af2e-4521-a1a3-c36374792912",
   "metadata": {},
   "outputs": [],
   "source": [
    "from sklearn.preprocessing import StandardScaler\n",
    "\n",
    "sc = StandardScaler()\n",
    "X_train_std = sc.fit_transform(X_train)\n",
    "X_test_std = sc.fit_transform(X_test)"
   ]
  },
  {
   "cell_type": "markdown",
   "id": "3e1cc8be-3644-46fa-9463-b6993aadd076",
   "metadata": {},
   "source": [
    "Вычисление ковариационной матрицы признаков. Положительная ковариация между двумя признаками указывает на то, что признаки изменяются или уменьшаются, а отрицательная ковариация - что признаки изменяются в противоположных направлениях.\n",
    "\n",
    "Собственные векторы ковариационной матрицы представляют главные компоненты (направления максимальной дисперсии), а соответствующие собственные значения будут определять их величину.\n",
    "Собственный вектор v удовлетворяет условию:\n",
    "матрица * собственный вектор = собственное значение * собственный вектор"
   ]
  },
  {
   "cell_type": "code",
   "execution_count": 5,
   "id": "9804732d-6955-4f1c-9beb-8883ac0c7177",
   "metadata": {},
   "outputs": [
    {
     "name": "stdout",
     "output_type": "stream",
     "text": [
      "(13, 13)\n",
      "Собственные значения: \n",
      " [4.84274532 2.41602459 1.54845825 0.96120438 0.84166161 0.6620634\n",
      " 0.51828472 0.34650377 0.3131368  0.10754642 0.21357215 0.15362835\n",
      " 0.1808613 ]\n"
     ]
    }
   ],
   "source": [
    "cov_mat = np.cov(X_train_std.T)\n",
    "print(cov_mat.shape)\n",
    "eigen_vals, eigen_vecs = np.linalg.eig(cov_mat)\n",
    "print('Собственные значения: \\n', eigen_vals)"
   ]
  },
  {
   "cell_type": "markdown",
   "id": "40970062-78e8-4db8-b78e-37c1e6f81dbb",
   "metadata": {},
   "source": [
    "Для понижения размерности выбирают поднабор собственных векторов (главных компонент), которые содержат бОльшую часть информации (дисперсии). Собственные значения определяют величину собственных векторов, поэтому необходимо отсортировать собственные значения в порядке убывания. Затем помжно выбрать k верхних собственных векторов на основе велечин соответствующих собственных значений."
   ]
  },
  {
   "cell_type": "markdown",
   "id": "ae509b42-0a86-4f27-aa16-62515c4b0fdb",
   "metadata": {},
   "source": [
    "Прежде чем выбирать k наиболее информативных собственных векторов, можно построить график с коэффициентами объясненной дисперсии собственных значений.\n",
    "Коэф. объясн. дисперсии собственного значения представляет собой долю собственного значения от общей суммы:\n",
    "\n",
    "<img src=\"pic/coef.png\" width=\"300\"/>\n",
    "\n",
    "Затем можно подсчитать кумулятивную (накапливающуюся) сумму объясненных дисперсий для отображения на графике."
   ]
  },
  {
   "cell_type": "code",
   "execution_count": 6,
   "id": "f4c995f3-b836-4934-ba24-0aa1d1be79c1",
   "metadata": {},
   "outputs": [],
   "source": [
    "tot = sum(eigen_vals)\n",
    "var_exp = [(i / tot) for i in sorted(eigen_vals, reverse=True)]\n",
    "cum_var_exp = np.cumsum(var_exp)"
   ]
  },
  {
   "cell_type": "code",
   "execution_count": 7,
   "id": "60e39931-77d6-496d-9071-60d38d63ddd8",
   "metadata": {},
   "outputs": [
    {
     "data": {
      "image/png": "[encoded data removed]",
      "text/plain": [
       "<Figure size 432x288 with 1 Axes>"
      ]
     },
     "metadata": {
      "needs_background": "light"
     },
     "output_type": "display_data"
    }
   ],
   "source": [
    "import matplotlib.pyplot as plt\n",
    "\n",
    "plt.bar(range(1, 14), var_exp, alpha=0.5, align='center',\n",
    "        label='индивидуальная объясненная дисперсия')\n",
    "plt.step(range(1, 14), cum_var_exp, where='mid',\n",
    "         label='кумулятивная объясненная дисперсия')\n",
    "plt.ylabel('Коэф объясненной дисперсии')\n",
    "plt.xlabel('Индекс главного компонента')\n",
    "plt.legend(loc='best')\n",
    "plt.tight_layout()\n",
    "plt.show()"
   ]
  },
  {
   "cell_type": "markdown",
   "id": "8555673f-bde8-49d1-9f96-f4962e0f89b8",
   "metadata": {},
   "source": [
    "Результирующий график показывает, что на долю лишь одного первого главного компонента приходится приблизительно 40% дисперсии.\n",
    "Кроме того, можно заметить, что первые два главных компонента вместе объясняют почти 60% дисперсии в наборе данных. График объясненной дисперсии в чем-то похож на показатели важности признаков, вычисляемые через случайные леса. Но РСА - метод без учителя, т.е. информация о метках классов игнорируется. В то время как случайный лес применяет информацию членства в классах для подсчета показателей загрязненности узлов, дисперсия измеряет разброс значений вдоль оси признака. "
   ]
  },
  {
   "cell_type": "markdown",
   "id": "8ef02ac4-9bbc-41c9-b95d-b58bf4274233",
   "metadata": {},
   "source": [
    "2) Трансформация признаков:"
   ]
  },
  {
   "cell_type": "code",
   "execution_count": 8,
   "id": "a237a3cd-a663-486f-aa8c-8959554f7a5e",
   "metadata": {},
   "outputs": [],
   "source": [
    "# Сортировка собственных пар в порядке убывания собственных значений\n",
    "\n",
    "# создание списка кортежей (собственное значение, собственный вектор)\n",
    "eigen_pairs = [(np.abs(eigen_vals[i]), eigen_vecs[:, i])\n",
    "               for i in range(len(eigen_vals))]\n",
    "# отсортировать кортежи от высоких к низким\n",
    "eigen_pairs.sort(key=lambda k: k[0], reverse=True)"
   ]
  },
  {
   "cell_type": "code",
   "execution_count": 9,
   "id": "8a8522d8-5932-4211-adc3-741649af15ff",
   "metadata": {},
   "outputs": [
    {
     "data": {
      "text/plain": [
       "array([-0.13724218,  0.24724326, -0.02545159,  0.20694508, -0.15436582,\n",
       "       -0.39376952, -0.41735106,  0.30572896, -0.30668347,  0.07554066,\n",
       "       -0.32613263, -0.36861022, -0.29669651])"
      ]
     },
     "execution_count": 9,
     "metadata": {},
     "output_type": "execute_result"
    }
   ],
   "source": [
    "eigen_pairs[0][1]"
   ]
  },
  {
   "cell_type": "code",
   "execution_count": 10,
   "id": "51b15313-ad69-4f37-8dbe-72e3f7490d81",
   "metadata": {},
   "outputs": [
    {
     "data": {
      "text/plain": [
       "array([[-0.13724218,  0.50303478],\n",
       "       [ 0.24724326,  0.16487119],\n",
       "       [-0.02545159,  0.24456476],\n",
       "       [ 0.20694508, -0.11352904],\n",
       "       [-0.15436582,  0.28974518],\n",
       "       [-0.39376952,  0.05080104],\n",
       "       [-0.41735106, -0.02287338],\n",
       "       [ 0.30572896,  0.09048885],\n",
       "       [-0.30668347,  0.00835233],\n",
       "       [ 0.07554066,  0.54977581],\n",
       "       [-0.32613263, -0.20716433],\n",
       "       [-0.36861022, -0.24902536],\n",
       "       [-0.29669651,  0.38022942]])"
      ]
     },
     "execution_count": 10,
     "metadata": {},
     "output_type": "execute_result"
    }
   ],
   "source": [
    "np.vstack((eigen_pairs[0][1],\n",
    "           eigen_pairs[1][1])).T"
   ]
  },
  {
   "cell_type": "code",
   "execution_count": 11,
   "id": "b713e5ef-109a-4cfe-9963-bc887708956a",
   "metadata": {},
   "outputs": [
    {
     "data": {
      "text/plain": [
       "array([[-0.13724218,  0.50303478],\n",
       "       [ 0.24724326,  0.16487119],\n",
       "       [-0.02545159,  0.24456476],\n",
       "       [ 0.20694508, -0.11352904],\n",
       "       [-0.15436582,  0.28974518],\n",
       "       [-0.39376952,  0.05080104],\n",
       "       [-0.41735106, -0.02287338],\n",
       "       [ 0.30572896,  0.09048885],\n",
       "       [-0.30668347,  0.00835233],\n",
       "       [ 0.07554066,  0.54977581],\n",
       "       [-0.32613263, -0.20716433],\n",
       "       [-0.36861022, -0.24902536],\n",
       "       [-0.29669651,  0.38022942]])"
      ]
     },
     "execution_count": 11,
     "metadata": {},
     "output_type": "execute_result"
    }
   ],
   "source": [
    "np.hstack((eigen_pairs[0][1][:, np.newaxis],\n",
    "           eigen_pairs[1][1][:, np.newaxis]))"
   ]
  },
  {
   "cell_type": "code",
   "execution_count": 12,
   "id": "9e702778-c45c-47a0-90af-386777120e9e",
   "metadata": {},
   "outputs": [
    {
     "name": "stdout",
     "output_type": "stream",
     "text": [
      "W: \n",
      " [[-0.13724218  0.50303478]\n",
      " [ 0.24724326  0.16487119]\n",
      " [-0.02545159  0.24456476]\n",
      " [ 0.20694508 -0.11352904]\n",
      " [-0.15436582  0.28974518]\n",
      " [-0.39376952  0.05080104]\n",
      " [-0.41735106 -0.02287338]\n",
      " [ 0.30572896  0.09048885]\n",
      " [-0.30668347  0.00835233]\n",
      " [ 0.07554066  0.54977581]\n",
      " [-0.32613263 -0.20716433]\n",
      " [-0.36861022 -0.24902536]\n",
      " [-0.29669651  0.38022942]]\n"
     ]
    }
   ],
   "source": [
    "# выбираем два собственных ветора (для примера), чтобы\n",
    "# захватить около 60% дисперсии\n",
    "\n",
    "w = np.hstack((eigen_pairs[0][1][:, np.newaxis],\n",
    "               eigen_pairs[1][1][:, np.newaxis]))\n",
    "print('W: \\n', w)"
   ]
  },
  {
   "cell_type": "markdown",
   "id": "259cac19-70ba-4bda-9ffb-aa0d8e5c6510",
   "metadata": {},
   "source": [
    "С применением матрицы прекции можно трансформировать образец x (представленный как 13-мерный вектор-строка) в подпространство PCA (первый и второй гланые компоненты), получив двумерный вектор образца, который состоит из двух новых признаков:"
   ]
  },
  {
   "cell_type": "code",
   "execution_count": 13,
   "id": "c823108b-3861-4217-84a0-bb4109d243bc",
   "metadata": {},
   "outputs": [
    {
     "data": {
      "text/plain": [
       "array([2.38299011, 0.45458499])"
      ]
     },
     "execution_count": 13,
     "metadata": {},
     "output_type": "execute_result"
    }
   ],
   "source": [
    "X_train_std[0].dot(w)"
   ]
  },
  {
   "cell_type": "markdown",
   "id": "01c6efe1-f20b-42cd-9df8-0e8a6e3bf340",
   "metadata": {},
   "source": [
    "Подобным образом можно трансформировать весь (124х13)-мерный обучающий набор данных на два главных компонента:"
   ]
  },
  {
   "cell_type": "code",
   "execution_count": 14,
   "id": "87075bee-8eff-4224-a305-6195f899e7a8",
   "metadata": {},
   "outputs": [],
   "source": [
    "X_train_pca = X_train_std.dot(w)"
   ]
  },
  {
   "cell_type": "code",
   "execution_count": 15,
   "id": "1274f0a6-3592-4baa-9413-c7723319ced8",
   "metadata": {},
   "outputs": [
    {
     "data": {
      "image/png": "[encoded data removed]",
      "text/plain": [
       "<Figure size 432x288 with 1 Axes>"
      ]
     },
     "metadata": {
      "needs_background": "light"
     },
     "output_type": "display_data"
    }
   ],
   "source": [
    "colors = ['r', 'b', 'g']\n",
    "markers = ['s', 'x', 'o']\n",
    "\n",
    "for l, c, m in zip(np.unique(y_train), colors, markers):\n",
    "    plt.scatter(X_train_pca[y_train==l, 0],\n",
    "                X_train_pca[y_train==l, 1],\n",
    "                c=c, label=l, marker=m)\n",
    "plt.xlabel('PC 1')\n",
    "plt.ylabel('PC 2')\n",
    "plt.legend()\n",
    "plt.tight_layout()\n",
    "plt.show()"
   ]
  },
  {
   "cell_type": "code",
   "execution_count": 16,
   "id": "ddf55b50-035d-4cdd-b269-98a023780dc5",
   "metadata": {},
   "outputs": [
    {
     "data": {
      "text/plain": [
       "<AxesSubplot:>"
      ]
     },
     "execution_count": 16,
     "metadata": {},
     "output_type": "execute_result"
    },
    {
     "data": {
      "image/png": "[encoded data removed]",
      "text/plain": [
       "<Figure size 432x288 with 1 Axes>"
      ]
     },
     "metadata": {
      "needs_background": "light"
     },
     "output_type": "display_data"
    }
   ],
   "source": [
    "from mlxtend.plotting import plot_decision_regions\n",
    "from sklearn.linear_model import LogisticRegression\n",
    "from sklearn.decomposition import PCA\n",
    "\n",
    "pca = PCA(n_components=2)\n",
    "lr = LogisticRegression(multi_class='ovr', random_state=1,\n",
    "                        solver='lbfgs')\n",
    "X_train_pca = pca.fit_transform(X_train_std)\n",
    "X_test_pca = pca.fit_transform(X_test_std)\n",
    "\n",
    "lr.fit(X_train_pca, y_train)\n",
    "\n",
    "plot_decision_regions(X_train_pca, y_train, clf=lr)"
   ]
  },
  {
   "cell_type": "code",
   "execution_count": 17,
   "id": "817e08fb-40a9-40d9-b262-a6738e5bd430",
   "metadata": {},
   "outputs": [
    {
     "data": {
      "text/plain": [
       "<AxesSubplot:>"
      ]
     },
     "execution_count": 17,
     "metadata": {},
     "output_type": "execute_result"
    },
    {
     "data": {
      "image/png": "[encoded data removed]",
      "text/plain": [
       "<Figure size 432x288 with 1 Axes>"
      ]
     },
     "metadata": {
      "needs_background": "light"
     },
     "output_type": "display_data"
    }
   ],
   "source": [
    "plot_decision_regions(X_train_pca, y_train, clf=lr)"
   ]
  },
  {
   "cell_type": "code",
   "execution_count": 18,
   "id": "f5ddce33-4f52-4a5e-892f-12e6622626c9",
   "metadata": {},
   "outputs": [
    {
     "data": {
      "text/plain": [
       "<AxesSubplot:>"
      ]
     },
     "execution_count": 18,
     "metadata": {},
     "output_type": "execute_result"
    },
    {
     "data": {
      "image/png": "[encoded data removed]",
      "text/plain": [
       "<Figure size 432x288 with 1 Axes>"
      ]
     },
     "metadata": {
      "needs_background": "light"
     },
     "output_type": "display_data"
    }
   ],
   "source": [
    "plot_decision_regions(X_test_pca*-1, y_test, clf=lr)"
   ]
  },
  {
   "cell_type": "code",
   "execution_count": 19,
   "id": "9d5f7c67-b7e9-492d-abfe-465f04d9ee3c",
   "metadata": {},
   "outputs": [
    {
     "data": {
      "text/plain": [
       "2"
      ]
     },
     "execution_count": 19,
     "metadata": {},
     "output_type": "execute_result"
    }
   ],
   "source": [
    "y_test[6]"
   ]
  },
  {
   "cell_type": "code",
   "execution_count": 20,
   "id": "866361b1-7ff7-46e1-9671-02607a2cb365",
   "metadata": {},
   "outputs": [
    {
     "data": {
      "text/plain": [
       "array([2])"
      ]
     },
     "execution_count": 20,
     "metadata": {},
     "output_type": "execute_result"
    }
   ],
   "source": [
    "lr.predict([X_test_pca[6]*-1])"
   ]
  },
  {
   "cell_type": "code",
   "execution_count": 21,
   "id": "198e3d72-7828-4faf-8369-0e30a6576e73",
   "metadata": {},
   "outputs": [
    {
     "data": {
      "text/plain": [
       "array([0.36951469, 0.18434927, 0.11815159, 0.07334252, 0.06422108,\n",
       "       0.05051724, 0.03954654, 0.02643918, 0.02389319, 0.01629614,\n",
       "       0.01380021, 0.01172226, 0.00820609])"
      ]
     },
     "execution_count": 21,
     "metadata": {},
     "output_type": "execute_result"
    }
   ],
   "source": [
    "# коэф объясненной дисперсии\n",
    "pca = PCA(n_components=None)\n",
    "\n",
    "X_train_pca = pca.fit_transform(X_train_std)\n",
    "pca.explained_variance_ratio_"
   ]
  },
  {
   "cell_type": "markdown",
   "id": "1cfc4bb2-951e-402b-841e-c63dee369e51",
   "metadata": {},
   "source": [
    "#### LDA (Линейный дискриминантный анализ)"
   ]
  },
  {
   "cell_type": "markdown",
   "id": "92a761b4-a8f7-48ff-be40-16014754eb55",
   "metadata": {},
   "source": [
    "PCA - поиск ортогональных осей компонентов с максимальной дисперсией. Алгоритм без учителя.\n",
    "\n",
    "LDA - поиск подпространства признаков, которое оптимизирует сепарабельность классов. Алгоритм с учителем."
   ]
  },
  {
   "cell_type": "markdown",
   "id": "f89d034f-507a-4783-92ab-77e88278a34e",
   "metadata": {},
   "source": [
    "1) Стандартизация данных:"
   ]
  },
  {
   "cell_type": "code",
   "execution_count": 22,
   "id": "09b7e1fc-57d2-4018-8d2a-793f03647fc7",
   "metadata": {},
   "outputs": [
    {
     "data": {
      "text/plain": [
       "1.0"
      ]
     },
     "execution_count": 22,
     "metadata": {},
     "output_type": "execute_result"
    }
   ],
   "source": [
    "X_train_std.std()"
   ]
  },
  {
   "cell_type": "markdown",
   "id": "9a58f4c1-5cec-42b0-8a64-8ec12d3875ff",
   "metadata": {},
   "source": [
    "2) Вычисление векторов средних, которые  применяются для матрицы рассеяния между классами:"
   ]
  },
  {
   "cell_type": "markdown",
   "id": "dc0841ba-4b23-4ea3-8aef-1f250623382d",
   "metadata": {},
   "source": [
    "Каждый вектор средних хранит среднее значение признака по образцам класса i\n",
    "<img src=\"pic/vec_mean.png\" width=\"300\"/>"
   ]
  },
  {
   "cell_type": "code",
   "execution_count": 23,
   "id": "0993d008-a8af-42ed-85d1-9f31910a6f7c",
   "metadata": {},
   "outputs": [
    {
     "name": "stdout",
     "output_type": "stream",
     "text": [
      "M 1: [ 0.9066 -0.3497  0.3201 -0.7189  0.5056  0.8807  0.9589 -0.5516  0.5416\n",
      "  0.2338  0.5897  0.6563  1.2075]\n",
      "M 2: [-0.8749 -0.2848 -0.3735  0.3157 -0.3848 -0.0433  0.0635 -0.0946  0.0703\n",
      " -0.8286  0.3144  0.3608 -0.7253]\n",
      "M 3: [ 0.1992  0.866   0.1682  0.4148 -0.0451 -1.0286 -1.2876  0.8287 -0.7795\n",
      "  0.9649 -1.209  -1.3622 -0.4013]\n"
     ]
    }
   ],
   "source": [
    "np.set_printoptions(precision=4)  # выводить до 4 знаков после запятой\n",
    "\n",
    "mean_vecs = []\n",
    "for i in range(1, 4):\n",
    "    mean_vecs.append(np.mean(X_train_std[y_train == i], axis=0))\n",
    "\n",
    "    print(f'M {i}: {mean_vecs[i - 1]}')"
   ]
  },
  {
   "cell_type": "code",
   "execution_count": 24,
   "id": "dc2cf321-60a9-4480-a559-686a9842f99c",
   "metadata": {},
   "outputs": [
    {
     "name": "stdout",
     "output_type": "stream",
     "text": [
      "Матрица рассеяния внутри классов:  (13, 13)\n"
     ]
    }
   ],
   "source": [
    "# Матрица рассеяния внутри классов\n",
    "d = 13\n",
    "S_W = np.zeros((d, d))\n",
    "for label, mv in zip(range(1, 4), mean_vecs):\n",
    "    class_scatter = np.zeros((d, d))\n",
    "    for row in X_train_std[y_train == label]:\n",
    "        row, mv = row.reshape(d, 1), mv.reshape(d, 1)\n",
    "        class_scatter += (row - mv).dot((row - mv).T)\n",
    "    S_W += class_scatter\n",
    "\n",
    "print('Матрица рассеяния внутри классов: ', S_W.shape)"
   ]
  },
  {
   "cell_type": "code",
   "execution_count": 25,
   "id": "1f985fbd-c554-4db4-a9c3-bbbfc8d9d4dd",
   "metadata": {},
   "outputs": [
    {
     "name": "stdout",
     "output_type": "stream",
     "text": [
      "Масштабированная матрица рассеяния внутри классов:  (13, 13)\n"
     ]
    }
   ],
   "source": [
    "# масштабирование индивидуальных матриц перед их суммированием.\n",
    "# ковариационная матрица является нормализованной версией матрицы рассеяния\n",
    "\n",
    "d = 13\n",
    "S_W = np.zeros((d, d))\n",
    "for label, mv in zip(range(1, 4), mean_vecs):\n",
    "    class_scatter = np.cov(X_train_std[y_train == label].T)\n",
    "    S_W += class_scatter\n",
    "print('Масштабированная матрица рассеяния внутри классов: ', S_W.shape)"
   ]
  },
  {
   "cell_type": "code",
   "execution_count": 26,
   "id": "fcaa8435-0374-46df-93dc-9c599aa82a4c",
   "metadata": {},
   "outputs": [
    {
     "name": "stdout",
     "output_type": "stream",
     "text": [
      "Матрица рассеяния между внутри классами:  (13, 13)\n"
     ]
    }
   ],
   "source": [
    "# матрица рассеяния между классами\n",
    "mean_overall = np.mean(X_train_std, axis=0)\n",
    "d = 13\n",
    "S_B = np.zeros((d, d))\n",
    "for i, mean_vec in enumerate(mean_vecs):\n",
    "    n = X_train_std[y_train == i + 1, :].shape[0]\n",
    "    mean_vec = mean_vec.reshape(d, 1)\n",
    "    mean_overall = mean_overall.reshape(d, 1)\n",
    "    S_B += n * (mean_vec - mean_overall).dot((mean_vec - mean_overall).T)\n",
    "print('Матрица рассеяния между внутри классами: ', S_W.shape)"
   ]
  },
  {
   "cell_type": "markdown",
   "id": "5ef30092-57bd-40cd-8447-6df36ea1780f",
   "metadata": {},
   "source": [
    "3) Выбор линейных дискриминантов для нового подпространства признаков"
   ]
  },
  {
   "cell_type": "markdown",
   "id": "417a6589-7971-42c4-bcf4-508727516c33",
   "metadata": {},
   "source": [
    "Вместо разложения ковариационной матрицы на собственные значения мы решаем обобщенную задачу получения собственных значений S_W^-1 * S_B"
   ]
  },
  {
   "cell_type": "code",
   "execution_count": 27,
   "id": "f9da6d2f-9e5a-4f6f-95c6-e73069f28fe1",
   "metadata": {},
   "outputs": [],
   "source": [
    "eigen_vals, eigen_vecs =\\\n",
    "    np.linalg.eig(np.linalg.inv(S_W).dot(S_B))"
   ]
  },
  {
   "cell_type": "code",
   "execution_count": 28,
   "id": "6c8fe83c-3a31-4aea-99ea-684c5cb7464c",
   "metadata": {},
   "outputs": [
    {
     "name": "stdout",
     "output_type": "stream",
     "text": [
      "349.6178089059941\n",
      "172.76152218979394\n",
      "2.927452713255748e-14\n",
      "2.927452713255748e-14\n",
      "1.480381625339196e-14\n",
      "1.3533650132059972e-14\n",
      "1.3533650132059972e-14\n",
      "1.0917306164816297e-14\n",
      "9.463628713182403e-15\n",
      "8.596407573242877e-15\n",
      "4.528090986998065e-15\n",
      "4.528090986998065e-15\n",
      "3.533213355930368e-15\n"
     ]
    }
   ],
   "source": [
    "eigen_pairs = [(np.abs(eigen_vals[i]), eigen_vecs[:, i])\n",
    "               for i in range(len(eigen_vals))]\n",
    "eigen_pairs = sorted(eigen_pairs, key=lambda k: k[0], reverse=True)\n",
    "for eigen_val in eigen_pairs:\n",
    "    print(eigen_val[0])"
   ]
  },
  {
   "cell_type": "code",
   "execution_count": 32,
   "id": "877a0968-c2ba-4639-8a48-76d42911493c",
   "metadata": {},
   "outputs": [
    {
     "data": {
      "text/plain": [
       "(349.6178089059941+0j)"
      ]
     },
     "execution_count": 32,
     "metadata": {},
     "output_type": "execute_result"
    }
   ],
   "source": [
    "eigen_vals[0]"
   ]
  },
  {
   "cell_type": "code",
   "execution_count": 36,
   "id": "51075d9e-7ff3-4d03-b024-27b176921f8a",
   "metadata": {},
   "outputs": [
    {
     "data": {
      "image/png": "[encoded data removed]",
      "text/plain": [
       "<Figure size 432x288 with 1 Axes>"
      ]
     },
     "metadata": {
      "needs_background": "light"
     },
     "output_type": "display_data"
    }
   ],
   "source": [
    "# построение графика различимости\n",
    "tot = sum(eigen_vals.real)\n",
    "discr = [(i / tot) for i in sorted(eigen_vals.real, reverse=True)]\n",
    "cum_discr = np.cumsum(discr)\n",
    "\n",
    "plt.bar(range(1, 14), discr, alpha=0.5, align='center',\n",
    "        label='индивидуальная различимость')\n",
    "plt.step(range(1, 14), cum_discr, where='mid',\n",
    "         label='кумулятивная различимость')\n",
    "plt.ylabel('Коэффициент различимости')\n",
    "plt.xlabel('Линейные дискриминанты')\n",
    "plt.legend(loc='best')\n",
    "plt.tight_layout()\n",
    "plt.show()"
   ]
  },
  {
   "cell_type": "markdown",
   "id": "1b417863-a748-4316-a264-9107854130e6",
   "metadata": {},
   "source": [
    "На графике видно, что первые два линейных дискриминанта захватывают 100% полезной информации"
   ]
  },
  {
   "cell_type": "code",
   "execution_count": 37,
   "id": "c50e4a83-8426-4b43-9b7c-390f67a99fca",
   "metadata": {},
   "outputs": [
    {
     "data": {
      "text/plain": [
       "array([[-0.1481,  0.4092],\n",
       "       [ 0.0908,  0.1577],\n",
       "       [-0.0168,  0.3537],\n",
       "       [ 0.1484, -0.3223],\n",
       "       [-0.0163,  0.0817],\n",
       "       [ 0.1913, -0.0842],\n",
       "       [-0.7338, -0.2823],\n",
       "       [-0.075 ,  0.0102],\n",
       "       [ 0.0018, -0.0907],\n",
       "       [ 0.294 ,  0.2152],\n",
       "       [-0.0328, -0.2747],\n",
       "       [-0.3547,  0.0124],\n",
       "       [-0.3915,  0.5958]])"
      ]
     },
     "execution_count": 37,
     "metadata": {},
     "output_type": "execute_result"
    }
   ],
   "source": [
    "w = np.hstack((eigen_pairs[0][1][:, np.newaxis].real,\n",
    "               eigen_pairs[1][1][:, np.newaxis].real))\n",
    "w"
   ]
  },
  {
   "cell_type": "code",
   "execution_count": 38,
   "id": "44b23c3b-589b-40d4-88ee-99dbcbe90cc1",
   "metadata": {},
   "outputs": [],
   "source": [
    "X_train_lda = X_train_std.dot(w)"
   ]
  },
  {
   "cell_type": "code",
   "execution_count": 39,
   "id": "2cba6a19-77b2-4155-8a10-763898fb533d",
   "metadata": {},
   "outputs": [
    {
     "data": {
      "image/png": "[encoded data removed]",
      "text/plain": [
       "<Figure size 432x288 with 1 Axes>"
      ]
     },
     "metadata": {
      "needs_background": "light"
     },
     "output_type": "display_data"
    }
   ],
   "source": [
    "colors = ['r', 'b', 'g']\n",
    "markers = ['s', 'x', 'o']\n",
    "\n",
    "for l, c, m in zip(np.unique(y_train), colors, markers):\n",
    "    plt.scatter(X_train_lda[y_train==l, 0],\n",
    "                X_train_lda[y_train==l, 1],\n",
    "                c=c, label=l, marker=m)\n",
    "plt.xlabel('PC 1')\n",
    "plt.ylabel('PC 2')\n",
    "plt.legend()\n",
    "plt.tight_layout()\n",
    "plt.show()"
   ]
  },
  {
   "cell_type": "code",
   "execution_count": 40,
   "id": "ec0a2ebb-3081-4a8f-98ff-8da2009a7d55",
   "metadata": {},
   "outputs": [],
   "source": [
    "from sklearn.discriminant_analysis import LinearDiscriminantAnalysis as LDA\n",
    "\n",
    "lda = LDA(n_components=2)\n",
    "X_train_lda = lda.fit_transform(X_train_std, y_train)"
   ]
  },
  {
   "cell_type": "code",
   "execution_count": 44,
   "id": "f14c4842-8edb-4693-8e62-f2d3f286ce54",
   "metadata": {},
   "outputs": [
    {
     "data": {
      "text/plain": [
       "<AxesSubplot:>"
      ]
     },
     "execution_count": 44,
     "metadata": {},
     "output_type": "execute_result"
    },
    {
     "data": {
      "image/png": "[encoded data removed]",
      "text/plain": [
       "<Figure size 432x288 with 1 Axes>"
      ]
     },
     "metadata": {
      "needs_background": "light"
     },
     "output_type": "display_data"
    }
   ],
   "source": [
    "lr = LogisticRegression(multi_class='ovr', solver='lbfgs', random_state=1)\n",
    "lr.fit(X_train_lda, y_train)\n",
    "plot_decision_regions(X_train_lda, y_train, clf=lr)"
   ]
  },
  {
   "cell_type": "code",
   "execution_count": 45,
   "id": "42be5036-e390-4067-a03f-531d62009c05",
   "metadata": {},
   "outputs": [
    {
     "data": {
      "text/plain": [
       "<AxesSubplot:>"
      ]
     },
     "execution_count": 45,
     "metadata": {},
     "output_type": "execute_result"
    },
    {
     "data": {
      "image/png": "[encoded data removed]",
      "text/plain": [
       "<Figure size 432x288 with 1 Axes>"
      ]
     },
     "metadata": {
      "needs_background": "light"
     },
     "output_type": "display_data"
    }
   ],
   "source": [
    "X_test_lda = lda.transform(X_test_std)\n",
    "plot_decision_regions(X_test_lda, y_test, clf=lr)"
   ]
  },
  {
   "cell_type": "markdown",
   "id": "2c2df314-e5ec-4a47-af66-078e2192f09c",
   "metadata": {},
   "source": [
    "#### Ядерный анализ главных компонент (KPCA)"
   ]
  },
  {
   "cell_type": "code",
   "execution_count": null,
   "id": "d69a3643-deb0-4e3a-9131-50f4b3bf1861",
   "metadata": {},
   "outputs": [],
   "source": []
  },
  {
   "cell_type": "code",
   "execution_count": 52,
   "id": "755aeb55-616b-4360-9ba5-e7cef4066ef7",
   "metadata": {},
   "outputs": [
    {
     "data": {
      "image/png": "[encoded data removed]",
      "text/plain": [
       "<Figure size 432x288 with 1 Axes>"
      ]
     },
     "metadata": {
      "needs_background": "light"
     },
     "output_type": "display_data"
    }
   ],
   "source": [
    "from sklearn.decomposition import KernelPCA\n",
    "from sklearn.datasets import make_moons\n",
    "\n",
    "X, y = make_moons(n_samples=100, random_state=123)\n",
    "kpca = KernelPCA(n_components=2, kernel='rbf', gamma=15)\n",
    "X_pca = kpca.fit_transform(X)\n",
    "\n",
    "plt.scatter(X_pca[y == 0, 0], X_pca[y == 0, 1],\n",
    "            color='red', marker='^', alpha=0.5)\n",
    "plt.scatter(X_pca[y == 1, 0], X_pca[y == 1, 1],\n",
    "            color='blue', marker='^', alpha=0.5)\n",
    "plt.xlabel('pc1')\n",
    "plt.ylabel('pc2')\n",
    "plt.tight_layout()\n",
    "plt.show()"
   ]
  },
  {
   "cell_type": "code",
   "execution_count": 53,
   "id": "909851c6-b210-44f9-9241-187924734768",
   "metadata": {},
   "outputs": [
    {
     "data": {
      "image/png": "[encoded data removed]",
      "text/plain": [
       "<Figure size 432x288 with 1 Axes>"
      ]
     },
     "metadata": {
      "needs_background": "light"
     },
     "output_type": "display_data"
    }
   ],
   "source": [
    "plt.scatter(X[y == 0, 0], X[y == 0, 1],\n",
    "            color='red', marker='^', alpha=0.5)\n",
    "plt.scatter(X[y == 1, 0], X[y == 1, 1],\n",
    "            color='blue', marker='^', alpha=0.5)\n",
    "plt.tight_layout()\n",
    "plt.show()"
   ]
  },
  {
   "cell_type": "markdown",
   "id": "679fec4a-c14b-4578-8edc-ee040fc68409",
   "metadata": {},
   "source": [
    "С использованием PCA данные проецируются в подпространоство меньшей размерности, чтобы довести до максимума диспресиб по ортогональным  осям признаков, игнорируя метки классов.\n",
    "\n",
    "LDA обеспечивает понижение размерности с учителем (учёт информации о метках классов в обучающем наборе данных при попытке довести до максимума сепарабельность классов в линейном пространстве признаков).\n",
    "\n",
    "KPCA - применяется ядерный метод и временная проекция в пространство признаков более высокой размерности. Возможность сжимать наборы данных, состоящие из нелинейных признаков, в подпространство меньшей размерности, где классы становятся линейно сепарабельными."
   ]
  },
  {
   "cell_type": "code",
   "execution_count": null,
   "id": "6b8fec3a-910a-46b6-9054-f39fd7cff0b9",
   "metadata": {},
   "outputs": [],
   "source": []
  }
 ],
 "metadata": {
  "kernelspec": {
   "display_name": "Python 3 (ipykernel)",
   "language": "python",
   "name": "python3"
  },
  "language_info": {
   "codemirror_mode": {
    "name": "ipython",
    "version": 3
   },
   "file_extension": ".py",
   "mimetype": "text/x-python",
   "name": "python",
   "nbconvert_exporter": "python",
   "pygments_lexer": "ipython3",
   "version": "3.9.7"
  }
 },
 "nbformat": 4,
 "nbformat_minor": 5
}
