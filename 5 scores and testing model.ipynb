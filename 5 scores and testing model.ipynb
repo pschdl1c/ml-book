{
 "cells": [
  {
   "cell_type": "markdown",
   "id": "89e93868-c227-4634-b24d-1efd32dd7c82",
   "metadata": {},
   "source": [
    "## 1 Testing model"
   ]
  },
  {
   "cell_type": "code",
   "execution_count": 1,
   "id": "c0628b07-2972-4caf-85f7-2bd494305d64",
   "metadata": {},
   "outputs": [],
   "source": [
    "from sklearn.datasets import load_breast_cancer\n",
    "import numpy as np\n",
    "import pandas as pd"
   ]
  },
  {
   "cell_type": "code",
   "execution_count": 2,
   "id": "7c23a623-a002-49a0-ab49-b146a256bfd0",
   "metadata": {},
   "outputs": [
    {
     "data": {
      "text/html": [
       "<div>\n",
       "<style scoped>\n",
       "    .dataframe tbody tr th:only-of-type {\n",
       "        vertical-align: middle;\n",
       "    }\n",
       "\n",
       "    .dataframe tbody tr th {\n",
       "        vertical-align: top;\n",
       "    }\n",
       "\n",
       "    .dataframe thead th {\n",
       "        text-align: right;\n",
       "    }\n",
       "</style>\n",
       "<table border=\"1\" class=\"dataframe\">\n",
       "  <thead>\n",
       "    <tr style=\"text-align: right;\">\n",
       "      <th></th>\n",
       "      <th>842302</th>\n",
       "      <th>M</th>\n",
       "      <th>17.99</th>\n",
       "      <th>10.38</th>\n",
       "      <th>122.8</th>\n",
       "      <th>1001</th>\n",
       "      <th>0.1184</th>\n",
       "      <th>0.2776</th>\n",
       "      <th>0.3001</th>\n",
       "      <th>0.1471</th>\n",
       "      <th>...</th>\n",
       "      <th>25.38</th>\n",
       "      <th>17.33</th>\n",
       "      <th>184.6</th>\n",
       "      <th>2019</th>\n",
       "      <th>0.1622</th>\n",
       "      <th>0.6656</th>\n",
       "      <th>0.7119</th>\n",
       "      <th>0.2654</th>\n",
       "      <th>0.4601</th>\n",
       "      <th>0.1189</th>\n",
       "    </tr>\n",
       "  </thead>\n",
       "  <tbody>\n",
       "    <tr>\n",
       "      <th>0</th>\n",
       "      <td>842517</td>\n",
       "      <td>M</td>\n",
       "      <td>20.57</td>\n",
       "      <td>17.77</td>\n",
       "      <td>132.90</td>\n",
       "      <td>1326.0</td>\n",
       "      <td>0.08474</td>\n",
       "      <td>0.07864</td>\n",
       "      <td>0.0869</td>\n",
       "      <td>0.07017</td>\n",
       "      <td>...</td>\n",
       "      <td>24.99</td>\n",
       "      <td>23.41</td>\n",
       "      <td>158.80</td>\n",
       "      <td>1956.0</td>\n",
       "      <td>0.1238</td>\n",
       "      <td>0.1866</td>\n",
       "      <td>0.2416</td>\n",
       "      <td>0.1860</td>\n",
       "      <td>0.2750</td>\n",
       "      <td>0.08902</td>\n",
       "    </tr>\n",
       "    <tr>\n",
       "      <th>1</th>\n",
       "      <td>84300903</td>\n",
       "      <td>M</td>\n",
       "      <td>19.69</td>\n",
       "      <td>21.25</td>\n",
       "      <td>130.00</td>\n",
       "      <td>1203.0</td>\n",
       "      <td>0.10960</td>\n",
       "      <td>0.15990</td>\n",
       "      <td>0.1974</td>\n",
       "      <td>0.12790</td>\n",
       "      <td>...</td>\n",
       "      <td>23.57</td>\n",
       "      <td>25.53</td>\n",
       "      <td>152.50</td>\n",
       "      <td>1709.0</td>\n",
       "      <td>0.1444</td>\n",
       "      <td>0.4245</td>\n",
       "      <td>0.4504</td>\n",
       "      <td>0.2430</td>\n",
       "      <td>0.3613</td>\n",
       "      <td>0.08758</td>\n",
       "    </tr>\n",
       "    <tr>\n",
       "      <th>2</th>\n",
       "      <td>84348301</td>\n",
       "      <td>M</td>\n",
       "      <td>11.42</td>\n",
       "      <td>20.38</td>\n",
       "      <td>77.58</td>\n",
       "      <td>386.1</td>\n",
       "      <td>0.14250</td>\n",
       "      <td>0.28390</td>\n",
       "      <td>0.2414</td>\n",
       "      <td>0.10520</td>\n",
       "      <td>...</td>\n",
       "      <td>14.91</td>\n",
       "      <td>26.50</td>\n",
       "      <td>98.87</td>\n",
       "      <td>567.7</td>\n",
       "      <td>0.2098</td>\n",
       "      <td>0.8663</td>\n",
       "      <td>0.6869</td>\n",
       "      <td>0.2575</td>\n",
       "      <td>0.6638</td>\n",
       "      <td>0.17300</td>\n",
       "    </tr>\n",
       "    <tr>\n",
       "      <th>3</th>\n",
       "      <td>84358402</td>\n",
       "      <td>M</td>\n",
       "      <td>20.29</td>\n",
       "      <td>14.34</td>\n",
       "      <td>135.10</td>\n",
       "      <td>1297.0</td>\n",
       "      <td>0.10030</td>\n",
       "      <td>0.13280</td>\n",
       "      <td>0.1980</td>\n",
       "      <td>0.10430</td>\n",
       "      <td>...</td>\n",
       "      <td>22.54</td>\n",
       "      <td>16.67</td>\n",
       "      <td>152.20</td>\n",
       "      <td>1575.0</td>\n",
       "      <td>0.1374</td>\n",
       "      <td>0.2050</td>\n",
       "      <td>0.4000</td>\n",
       "      <td>0.1625</td>\n",
       "      <td>0.2364</td>\n",
       "      <td>0.07678</td>\n",
       "    </tr>\n",
       "    <tr>\n",
       "      <th>4</th>\n",
       "      <td>843786</td>\n",
       "      <td>M</td>\n",
       "      <td>12.45</td>\n",
       "      <td>15.70</td>\n",
       "      <td>82.57</td>\n",
       "      <td>477.1</td>\n",
       "      <td>0.12780</td>\n",
       "      <td>0.17000</td>\n",
       "      <td>0.1578</td>\n",
       "      <td>0.08089</td>\n",
       "      <td>...</td>\n",
       "      <td>15.47</td>\n",
       "      <td>23.75</td>\n",
       "      <td>103.40</td>\n",
       "      <td>741.6</td>\n",
       "      <td>0.1791</td>\n",
       "      <td>0.5249</td>\n",
       "      <td>0.5355</td>\n",
       "      <td>0.1741</td>\n",
       "      <td>0.3985</td>\n",
       "      <td>0.12440</td>\n",
       "    </tr>\n",
       "  </tbody>\n",
       "</table>\n",
       "<p>5 rows × 32 columns</p>\n",
       "</div>"
      ],
      "text/plain": [
       "     842302  M  17.99  10.38   122.8    1001   0.1184   0.2776  0.3001  \\\n",
       "0    842517  M  20.57  17.77  132.90  1326.0  0.08474  0.07864  0.0869   \n",
       "1  84300903  M  19.69  21.25  130.00  1203.0  0.10960  0.15990  0.1974   \n",
       "2  84348301  M  11.42  20.38   77.58   386.1  0.14250  0.28390  0.2414   \n",
       "3  84358402  M  20.29  14.34  135.10  1297.0  0.10030  0.13280  0.1980   \n",
       "4    843786  M  12.45  15.70   82.57   477.1  0.12780  0.17000  0.1578   \n",
       "\n",
       "    0.1471  ...  25.38  17.33   184.6    2019  0.1622  0.6656  0.7119  0.2654  \\\n",
       "0  0.07017  ...  24.99  23.41  158.80  1956.0  0.1238  0.1866  0.2416  0.1860   \n",
       "1  0.12790  ...  23.57  25.53  152.50  1709.0  0.1444  0.4245  0.4504  0.2430   \n",
       "2  0.10520  ...  14.91  26.50   98.87   567.7  0.2098  0.8663  0.6869  0.2575   \n",
       "3  0.10430  ...  22.54  16.67  152.20  1575.0  0.1374  0.2050  0.4000  0.1625   \n",
       "4  0.08089  ...  15.47  23.75  103.40   741.6  0.1791  0.5249  0.5355  0.1741   \n",
       "\n",
       "   0.4601   0.1189  \n",
       "0  0.2750  0.08902  \n",
       "1  0.3613  0.08758  \n",
       "2  0.6638  0.17300  \n",
       "3  0.2364  0.07678  \n",
       "4  0.3985  0.12440  \n",
       "\n",
       "[5 rows x 32 columns]"
      ]
     },
     "execution_count": 2,
     "metadata": {},
     "output_type": "execute_result"
    }
   ],
   "source": [
    "df = pd.read_csv('wdbc.data')\n",
    "df.head()"
   ]
  },
  {
   "cell_type": "code",
   "execution_count": 3,
   "id": "9256058a-a8fd-42c8-8341-990c6b42e2d4",
   "metadata": {},
   "outputs": [
    {
     "data": {
      "text/plain": [
       "(568, 32)"
      ]
     },
     "execution_count": 3,
     "metadata": {},
     "output_type": "execute_result"
    }
   ],
   "source": [
    "df.shape"
   ]
  },
  {
   "cell_type": "code",
   "execution_count": 4,
   "id": "fa7c2fcc-89cd-4421-ad9a-796800737f33",
   "metadata": {},
   "outputs": [
    {
     "data": {
      "text/plain": [
       "array(['M', 'M', 'M', 'M', 'M'], dtype=object)"
      ]
     },
     "execution_count": 4,
     "metadata": {},
     "output_type": "execute_result"
    }
   ],
   "source": [
    "df.iloc[:, 1].values[:5]"
   ]
  },
  {
   "cell_type": "code",
   "execution_count": 5,
   "id": "a885b872-40ac-4e2a-b2f4-0a58dc32993a",
   "metadata": {},
   "outputs": [
    {
     "data": {
      "text/plain": [
       "array(['B', 'M'], dtype=object)"
      ]
     },
     "execution_count": 5,
     "metadata": {},
     "output_type": "execute_result"
    }
   ],
   "source": [
    "from sklearn.preprocessing import LabelEncoder\n",
    "\n",
    "X = df.iloc[:, 2:].values\n",
    "y = df.iloc[:, 1].values\n",
    "\n",
    "le = LabelEncoder()\n",
    "y = le.fit_transform(y)\n",
    "le.classes_"
   ]
  },
  {
   "cell_type": "code",
   "execution_count": 6,
   "id": "eb65821f-a415-4c25-8abb-68686f011838",
   "metadata": {},
   "outputs": [
    {
     "data": {
      "text/plain": [
       "array([1, 0])"
      ]
     },
     "execution_count": 6,
     "metadata": {},
     "output_type": "execute_result"
    }
   ],
   "source": [
    "le.transform(['M', 'B'])"
   ]
  },
  {
   "cell_type": "code",
   "execution_count": 7,
   "id": "37f52dce-46a7-458f-9029-3a811f4c06dd",
   "metadata": {},
   "outputs": [],
   "source": [
    "from sklearn.model_selection import train_test_split\n",
    "\n",
    "X_train, X_test, y_train, y_test =\\\n",
    "    train_test_split(X, y, test_size=0.2, stratify=y, random_state=1)"
   ]
  },
  {
   "cell_type": "markdown",
   "id": "c8c3b2b7-3654-4e7d-aad2-820731dad194",
   "metadata": {},
   "source": [
    "Объединение StandartScaler, PCA, LogisticRegression в Pipeline:"
   ]
  },
  {
   "cell_type": "markdown",
   "id": "11a15a12-4e30-4905-9ea2-3cb489cb9bfb",
   "metadata": {},
   "source": [
    "<img src=\"pic/pipeline.png\" width=\"400\" height=\"500\"/>"
   ]
  },
  {
   "cell_type": "code",
   "execution_count": 8,
   "id": "fed105ce-a0c9-404d-882a-1fec696cc019",
   "metadata": {},
   "outputs": [
    {
     "name": "stdout",
     "output_type": "stream",
     "text": [
      "acc:  0.9298245614035088\n"
     ]
    }
   ],
   "source": [
    "from sklearn.preprocessing import StandardScaler\n",
    "from sklearn.decomposition import PCA\n",
    "from sklearn.linear_model import LogisticRegression\n",
    "from sklearn.pipeline import make_pipeline\n",
    "\n",
    "pipe_lr = make_pipeline(StandardScaler(),\n",
    "                        PCA(n_components=2),\n",
    "                        LogisticRegression(random_state=1,\n",
    "                                           solver='lbfgs'))\n",
    "pipe_lr.fit(X_train, y_train)\n",
    "y_pred = pipe_lr.predict(X_test)\n",
    "print('acc: ', pipe_lr.score(X_test, y_test))"
   ]
  },
  {
   "cell_type": "markdown",
   "id": "78bc264f-b034-4a5f-abeb-d5d8758cb720",
   "metadata": {},
   "source": [
    "#### k-cross validation"
   ]
  },
  {
   "cell_type": "markdown",
   "id": "a9549e96-9d7b-4b81-a23d-05246bec36a5",
   "metadata": {},
   "source": [
    "<img src=\"pic/kcv.png\" width=\"400\" height=\"500\"/>"
   ]
  },
  {
   "cell_type": "code",
   "execution_count": 9,
   "id": "7b58a645-2b98-4a62-9bc4-b3eb8a4f8a2e",
   "metadata": {},
   "outputs": [
    {
     "name": "stdout",
     "output_type": "stream",
     "text": [
      "Блок 1, Распределение классов:[256 152], 0.9130434782608695\n",
      "Блок 2, Распределение классов:[256 152], 0.9347826086956522\n",
      "Блок 3, Распределение классов:[256 152], 0.9565217391304348\n",
      "Блок 4, Распределение классов:[256 152], 0.8913043478260869\n",
      "Блок 5, Распределение классов:[257 152], 0.9777777777777777\n",
      "Блок 6, Распределение классов:[257 152], 0.9777777777777777\n",
      "Блок 7, Распределение классов:[257 152], 0.9777777777777777\n",
      "Блок 8, Распределение классов:[257 152], 0.9111111111111111\n",
      "Блок 9, Распределение классов:[257 152], 0.9333333333333333\n",
      "Блок 10, Распределение классов:[256 153], 0.9777777777777777\n"
     ]
    }
   ],
   "source": [
    "# итератор StratifiedKfold - сохраняет доли классов в обучающем наборе\n",
    "from sklearn.model_selection import StratifiedKFold\n",
    "\n",
    "kfold = StratifiedKFold(n_splits=10).split(X_train, y_train)\n",
    "scores = []\n",
    "for k, (train, test) in enumerate(kfold):\n",
    "    pipe_lr.fit(X_train[train], y_train[train])\n",
    "    score = pipe_lr.score(X_train[test], y_train[test])\n",
    "    scores.append(score)\n",
    "    print(f\"Блок {k+1}, Распределение классов:{np.bincount(y_train[train])}, {score}\")"
   ]
  },
  {
   "cell_type": "code",
   "execution_count": 10,
   "id": "972ec243-999d-4a97-b00c-86304589c5b2",
   "metadata": {},
   "outputs": [
    {
     "name": "stdout",
     "output_type": "stream",
     "text": [
      "acc:  0.9451207729468599 +- 0.03118259258959474\n"
     ]
    }
   ],
   "source": [
    "print('acc: ', np.mean(scores), '+-', np.std(scores))"
   ]
  },
  {
   "cell_type": "code",
   "execution_count": 11,
   "id": "ac26720b-69dc-4c4e-b21d-0b7ee8f8d300",
   "metadata": {},
   "outputs": [
    {
     "name": "stdout",
     "output_type": "stream",
     "text": [
      "Меры точности перекрестной проверки:  [0.91304348 0.93478261 0.95652174 0.89130435 0.97777778 0.97777778\n",
      " 0.97777778 0.91111111 0.93333333 0.97777778]\n",
      "Точность перекрестной проверки:  0.9451207729468599 +- 0.03118259258959474\n"
     ]
    }
   ],
   "source": [
    "# cros val srore - стратифицированная перекрестная проверка по к блокам\n",
    "from sklearn.model_selection import cross_val_score\n",
    "\n",
    "scores = cross_val_score(estimator=pipe_lr,\n",
    "                         X=X_train,\n",
    "                         y=y_train,\n",
    "                         cv=10,\n",
    "                         n_jobs=1)\n",
    "\n",
    "print('Меры точности перекрестной проверки: ', scores)\n",
    "print('Точность перекрестной проверки: ', np.mean(scores), '+-',\n",
    "      np.std(scores))"
   ]
  },
  {
   "cell_type": "markdown",
   "id": "dc9398ae-4cd2-4b00-a2d7-247cc7b5db59",
   "metadata": {},
   "source": [
    "#### Отладка алгоритмов с помощью кривых обучения и проверки "
   ]
  },
  {
   "cell_type": "markdown",
   "id": "c2c6f7b6-75ac-4bf0-987d-d59146081cc9",
   "metadata": {},
   "source": [
    "Модель с высоким смещением (недообучение) - увеличение количества параметров модели, конструирование или сбор новых признаков, уменьшение степени регуляризации.\n",
    "\n",
    "Модель с высокой дисперсией (переобучение) - сбор большего числа обучающих данных, снижение сложности модели, увеличение параметра регуляризации.\n",
    "\n",
    "В случае нерегуляризованных моделей снижению степени переобучения может способствовать уменьшение количества признаков путем выбора или выделения признаков."
   ]
  },
  {
   "cell_type": "code",
   "execution_count": 12,
   "id": "6df7f17a-b0a8-47f9-b212-2c3e1952d5e8",
   "metadata": {},
   "outputs": [],
   "source": [
    "import matplotlib.pyplot as plt\n",
    "from sklearn.model_selection import learning_curve\n",
    "\n",
    "pipe_lr = make_pipeline(StandardScaler(),\n",
    "                        LogisticRegression(random_state=1,\n",
    "                                           max_iter=10000))\n",
    "\n",
    "train_sizes, train_scores, test_scores =\\\n",
    "    learning_curve(estimator=pipe_lr, X=X_train,\n",
    "                   y=y_train, train_sizes=np.linspace(0.1, 1.0, 10),\n",
    "                   cv=10, n_jobs=1)\n",
    "\n",
    "train_mean = np.mean(train_scores, axis=1)\n",
    "train_std = np.std(train_scores, axis=1)\n",
    "test_mean = np.mean(test_scores, axis=1)\n",
    "test_std = np.std(test_scores, axis=1)"
   ]
  },
  {
   "cell_type": "code",
   "execution_count": 13,
   "id": "6ebb5c84-2519-4214-8421-bb913ef4b9db",
   "metadata": {},
   "outputs": [
    {
     "data": {
      "image/png": "[encoded data removed]",
      "text/plain": [
       "<Figure size 432x288 with 1 Axes>"
      ]
     },
     "metadata": {
      "needs_background": "light"
     },
     "output_type": "display_data"
    }
   ],
   "source": [
    "plt.plot(train_sizes, train_mean,\n",
    "         color='blue', marker='o',\n",
    "         markersize=5, label='правильность при обучении')\n",
    "plt.fill_between(train_sizes, train_mean + train_std,\n",
    "                 train_mean - train_std,\n",
    "                 alpha=0.15, color='blue')\n",
    "\n",
    "plt.plot(train_sizes, test_mean,\n",
    "         color='green', linestyle='--', marker='s',\n",
    "         markersize=5, label='правильность при проверке')\n",
    "plt.fill_between(train_sizes, test_mean + test_std,\n",
    "                 test_mean - test_std,\n",
    "                 alpha=0.15, color='green')\n",
    "plt.grid()\n",
    "plt.xlabel('Кол-во обучающих образцов')\n",
    "plt.ylabel('Правильность')\n",
    "plt.legend(loc='lower right')\n",
    "plt.show()"
   ]
  },
  {
   "cell_type": "markdown",
   "id": "8f1154a3-4510-4dcf-8876-97998a0d37a4",
   "metadata": {},
   "source": [
    "Кривая обучения варьирует размер выборки.\n",
    "\n",
    "Кривая проверки варьирует параметры модели (регуляризация для логистической регрессии)"
   ]
  },
  {
   "cell_type": "code",
   "execution_count": 14,
   "id": "db9f7c5a-c00b-4baa-8768-e53ad770d897",
   "metadata": {},
   "outputs": [
    {
     "data": {
      "text/plain": [
       "dict_keys(['memory', 'steps', 'verbose', 'standardscaler', 'logisticregression', 'standardscaler__copy', 'standardscaler__with_mean', 'standardscaler__with_std', 'logisticregression__C', 'logisticregression__class_weight', 'logisticregression__dual', 'logisticregression__fit_intercept', 'logisticregression__intercept_scaling', 'logisticregression__l1_ratio', 'logisticregression__max_iter', 'logisticregression__multi_class', 'logisticregression__n_jobs', 'logisticregression__penalty', 'logisticregression__random_state', 'logisticregression__solver', 'logisticregression__tol', 'logisticregression__verbose', 'logisticregression__warm_start'])"
      ]
     },
     "execution_count": 14,
     "metadata": {},
     "output_type": "execute_result"
    }
   ],
   "source": [
    "pipe_lr.get_params().keys()"
   ]
  },
  {
   "cell_type": "code",
   "execution_count": 15,
   "id": "65b073ed-38ad-4374-b631-d703c7626589",
   "metadata": {},
   "outputs": [],
   "source": [
    "from sklearn.model_selection import validation_curve\n",
    "\n",
    "param_range = [0.001, 0.01, 0.1, 1.0, 10.0, 100.0]\n",
    "train_scores, test_scores =\\\n",
    "    validation_curve(estimator=pipe_lr,\n",
    "                     X=X_train,\n",
    "                     y=y_train,\n",
    "                     param_name='logisticregression__C',\n",
    "                     param_range=param_range,\n",
    "                     cv=10)\n",
    "train_mean = np.mean(train_scores, axis=1)\n",
    "train_std = np.std(train_scores, axis=1)\n",
    "test_mean = np.mean(test_scores, axis=1)\n",
    "test_std = np.std(test_scores, axis=1)"
   ]
  },
  {
   "cell_type": "code",
   "execution_count": 16,
   "id": "49926e0e-be88-4d26-873d-090351c0b0ec",
   "metadata": {},
   "outputs": [
    {
     "data": {
      "image/png": "[encoded data removed]",
      "text/plain": [
       "<Figure size 432x288 with 1 Axes>"
      ]
     },
     "metadata": {
      "needs_background": "light"
     },
     "output_type": "display_data"
    }
   ],
   "source": [
    "plt.plot(param_range, train_mean,\n",
    "         color='blue', marker='o',\n",
    "         markersize=5, label='правильность при обучении')\n",
    "plt.fill_between(param_range, train_mean + train_std,\n",
    "                 train_mean - train_std,\n",
    "                 alpha=0.15, color='blue')\n",
    "\n",
    "plt.plot(param_range, test_mean,\n",
    "         color='green', linestyle='--', marker='s',\n",
    "         markersize=5, label='правильность при проверке')\n",
    "plt.fill_between(param_range, test_mean + test_std,\n",
    "                 test_mean - test_std,\n",
    "                 alpha=0.15, color='green')\n",
    "plt.grid()\n",
    "plt.xscale('log')\n",
    "plt.xlabel('Параметр C')\n",
    "plt.ylabel('Правильность')\n",
    "plt.legend(loc='lower right')\n",
    "plt.show()"
   ]
  },
  {
   "cell_type": "markdown",
   "id": "2b0f3b8e-f973-475f-87bb-ce0f2836650f",
   "metadata": {},
   "source": [
    "Небольшие значения параметра C (увеличение степени регуляризации) свидетельствуют о недостаточном обучении модели.\n",
    "\n",
    "Большие значения параметра C (снижение степени регуляризации) переобучивает модель.\n",
    "\n",
    "Оптимальные значения между 0.01 и 0.1"
   ]
  },
  {
   "cell_type": "markdown",
   "id": "059423b4-8bfb-4462-be84-28dd4eb92f88",
   "metadata": {},
   "source": [
    "#### Grid search (решетачный поиск)"
   ]
  },
  {
   "cell_type": "markdown",
   "id": "202a3f0b-c871-43eb-bf24-459873f294a7",
   "metadata": {},
   "source": [
    "Поиск оптимальной комбинации значений гиперпараметров."
   ]
  },
  {
   "cell_type": "code",
   "execution_count": null,
   "id": "547513fb-f221-46be-ae88-12916dfccdfe",
   "metadata": {},
   "outputs": [],
   "source": []
  },
  {
   "cell_type": "code",
   "execution_count": 17,
   "id": "68aae572-4566-4b26-be04-57c7a2b01c6f",
   "metadata": {},
   "outputs": [
    {
     "name": "stdout",
     "output_type": "stream",
     "text": [
      "0.9779710144927536\n",
      "{'svc__C': 10.0, 'svc__gamma': 0.01, 'svc__kernel': 'rbf'}\n"
     ]
    }
   ],
   "source": [
    "from sklearn.model_selection import GridSearchCV\n",
    "from sklearn.svm import SVC\n",
    "\n",
    "pipe_svc = make_pipeline(StandardScaler(),\n",
    "                         SVC(random_state=1))\n",
    "\n",
    "param_range = [0.0001, 0.001, 0.01, 0.1, 1.0, 10.0, 100.0, 1000.0]\n",
    "param_grid = [{'svc__C': param_range,\n",
    "               'svc__kernel': ['linear']},\n",
    "              {'svc__C': param_range,\n",
    "               'svc__gamma': param_range,\n",
    "               'svc__kernel': ['rbf']}]\n",
    "\n",
    "gs = GridSearchCV(estimator=pipe_svc,\n",
    "                  param_grid=param_grid,\n",
    "                  scoring='accuracy',\n",
    "                  cv=10, refit=True, n_jobs=-1)\n",
    "gs.fit(X_train, y_train)\n",
    "print(gs.best_score_)\n",
    "print(gs.best_params_)"
   ]
  },
  {
   "cell_type": "code",
   "execution_count": 18,
   "id": "af8b17c9-c653-4a37-ab4d-00b24bd555b5",
   "metadata": {},
   "outputs": [
    {
     "data": {
      "text/plain": [
       "0.9649122807017544"
      ]
     },
     "execution_count": 18,
     "metadata": {},
     "output_type": "execute_result"
    }
   ],
   "source": [
    "# оценка эффективности выбранной лучшей модели\n",
    "clf = gs.best_estimator_\n",
    "clf.fit(X_train, y_train)  # необязательно, refit=True обучает лучшую модель\n",
    "clf.score(X_test, y_test)"
   ]
  },
  {
   "cell_type": "markdown",
   "id": "f9300bcb-7308-40ea-aa63-10439d5207d6",
   "metadata": {},
   "source": [
    "RandomizedSearchCV обычно работает почти так же хорошо, как и грубый поиск. В частности, если мы отбираем только 60 комбинаций параметров, то уже имеем 95% вероятность получения решений в пределах 5% оптимальной эффективности."
   ]
  },
  {
   "cell_type": "markdown",
   "id": "e219f46f-b754-4325-b45c-2158193559c8",
   "metadata": {},
   "source": [
    "#### Вложенная перекрестная проверка"
   ]
  },
  {
   "cell_type": "markdown",
   "id": "97bd9704-2f26-4d8f-921e-9c0ba58a66ab",
   "metadata": {},
   "source": [
    "При вложенной перекрестной проверке истинная ошибка оценки оказывается почти не смещенной относительно испытательного набора.\n",
    "\n",
    "При вложенной перекрестной проверке мы организуем внешний цикл перекрестной проверки по k блокам для разбиения данных на обучающие и испытательные блоки, а также применяем внутренний цикл для отбора модели с использованием перекрестной проверки по k блокам на обучающем блоке.\n",
    "\n",
    "<img src=\"pic/incv.png\" width=\"400\" height=\"500\"/>"
   ]
  },
  {
   "cell_type": "code",
   "execution_count": 19,
   "id": "1d94388f-13c9-4dec-969e-dee6dfde278b",
   "metadata": {},
   "outputs": [
    {
     "name": "stdout",
     "output_type": "stream",
     "text": [
      "Точность перекрестной проверки: 0.9780219780219781 +- 0.012037858406706946\n"
     ]
    }
   ],
   "source": [
    "gs = GridSearchCV(estimator=pipe_svc,\n",
    "                  param_grid=param_grid,\n",
    "                  scoring='accuracy',\n",
    "                  cv=2)\n",
    "scores = cross_val_score(gs, X_train, y_train, scoring='accuracy', cv=5)\n",
    "print(f'Точность перекрестной проверки: {np.mean(scores)} +- {np.std(scores)}')"
   ]
  },
  {
   "cell_type": "code",
   "execution_count": 20,
   "id": "2436da1d-bbb9-45f2-8673-56b0fcc3209e",
   "metadata": {},
   "outputs": [
    {
     "name": "stdout",
     "output_type": "stream",
     "text": [
      "Точность перекрестной проверки: 0.9317704517704518 +- 0.017448684188627404\n"
     ]
    }
   ],
   "source": [
    "from sklearn.tree import DecisionTreeClassifier\n",
    "\n",
    "gs = GridSearchCV(estimator=DecisionTreeClassifier(\n",
    "                            random_state=0),\n",
    "                  param_grid=[{'max_depth': [1, 2, 3,\n",
    "                                             4, 5, 6,\n",
    "                                             7, None]}],\n",
    "                  scoring='accuracy',\n",
    "                  cv=2)\n",
    "scores = cross_val_score(gs, X_train, y_train, scoring='accuracy',\n",
    "                         cv=5)\n",
    "print(f'Точность перекрестной проверки: {np.mean(scores)} +- {np.std(scores)}')"
   ]
  },
  {
   "cell_type": "markdown",
   "id": "b7ee49a2-58e9-4290-83aa-288d083faaf5",
   "metadata": {},
   "source": [
    "## Scores"
   ]
  },
  {
   "cell_type": "markdown",
   "id": "90f828ba-f7a0-4efc-b262-dd7690e007e7",
   "metadata": {},
   "source": [
    "Матрица неточностей - квадратная матрица, описывающая численности истинно положительных (true positive - TP), истинно отрицательных (true negative - TN), ложноположительных (false positive - FP), ложноотрицательных (false negative - FN) прогнозов классификатора.\n",
    "\n",
    "<img src=\"pic/matrixf.png\" width=\"250\"/>"
   ]
  },
  {
   "cell_type": "code",
   "execution_count": 21,
   "id": "c2162a5f-3dea-4a04-843a-55bd680c8e95",
   "metadata": {},
   "outputs": [
    {
     "name": "stdout",
     "output_type": "stream",
     "text": [
      "[[72  0]\n",
      " [ 5 37]]\n"
     ]
    }
   ],
   "source": [
    "from sklearn.metrics import confusion_matrix\n",
    "\n",
    "pipe_svc.fit(X_train, y_train)\n",
    "y_pred = pipe_svc.predict(X_test)\n",
    "\n",
    "confmat = confusion_matrix(y_true=y_test, y_pred=y_pred)\n",
    "print(confmat)"
   ]
  },
  {
   "cell_type": "code",
   "execution_count": 22,
   "id": "05485afd-87c9-4b53-8849-cefa2412119b",
   "metadata": {},
   "outputs": [
    {
     "data": {
      "image/png": "[encoded data removed]",
      "text/plain": [
       "<Figure size 180x180 with 1 Axes>"
      ]
     },
     "metadata": {
      "needs_background": "light"
     },
     "output_type": "display_data"
    }
   ],
   "source": [
    "fig, ax = plt.subplots(figsize=(2.5, 2.5))\n",
    "ax.matshow(confmat, cmap=plt.cm.Blues, alpha=0.3)\n",
    "for i in range(confmat.shape[0]):\n",
    "    for j in range(confmat.shape[1]):\n",
    "        ax.text(x=j, y=i,\n",
    "                s=confmat[i, j],\n",
    "                va='center', ha='center')\n",
    "plt.xlabel('Спрогнозированная метка')\n",
    "plt.ylabel('Настоящая метка')\n",
    "plt.show()"
   ]
  },
  {
   "cell_type": "markdown",
   "id": "a79968b2-a045-4671-8c23-7feee0c60516",
   "metadata": {},
   "source": [
    "Ошибка и правильность прогноза представляют информацию о том, сколько образцов классифицираванно неправильно.\n",
    "\n",
    "Ошибка - сумма всех ложных прогнозов, деленная на общее кол-во прогнозов:\n",
    "$$ERR=\\frac{FP+FN}{FP+FN+TP+TN} $$\n",
    "Правильность:\n",
    "$$ACC=\\frac{TP+TN}{FP+FN+TP+TN}=1-ERR $$\n",
    "\n",
    "Accuracy — это показатель, который описывает общую точность предсказания модели по всем классам. Это особенно полезно, когда каждый класс одинаково важен. Стоит учесть, что метрика accuracy может быть обманчивой. Один из таких случаев — это несбалансированные данные."
   ]
  },
  {
   "cell_type": "markdown",
   "id": "884fef7e-c39f-4c16-b8e7-8e150cce050a",
   "metadata": {},
   "source": [
    "Доля истинно положительных (true positive rate - TPR) и доля ложноположительных классификаций (false positive rate - FPR) являются метриками эффиктивности, которые особенно полезны в задачах с дисбалансом классов:\n",
    "$$FPR=\\frac{FP}{N}=\\frac{FP}{FP+TN} $$\n",
    "$$TPR=\\frac{TP}{P}=\\frac{TP}{TP+FN} $$"
   ]
  },
  {
   "cell_type": "markdown",
   "id": "2bd852ba-592c-470d-8142-fa437b12d60c",
   "metadata": {},
   "source": [
    "Метрики эффективности точность (PRE) и полнота (REC) связаны с долями истино положиетльных и отрицательных классификаций. \n",
    "\n",
    "$$PRE=\\frac{TP}{TP+FP}$$\n",
    "$$REC=\\frac{TP}{P}=\\frac{TP}{FN+TP} $$\n",
    "\n",
    "Precision можно интерпретировать как долю объектов, названных классификатором положительными и при этом действительно являющимися положительными, а recall показывает, какую долю объектов положительного класса из всех объектов положительного класса нашел алгоритм.\n",
    "\n",
    "Recall демонстрирует способность алгоритма обнаруживать данный класс вообще, а precision — способность отличать этот класс от других классов.\n",
    "\n",
    "Precision это какой процент из тех пациентов, которых модель определила, как больных пневмонией, действительно больны пневмонией (и соответственно, какой обратный к этому процент врачи, таким образом, будут по ошибке лечить не от той болезни). Recall — это какой процент всех пациентов, больных пневмонией обнаружит модель (обратный к этому процент — сколько пациентов, больных пневмонией модель разметит как здоровых).\n",
    "\n",
    "(PRE=0.33) - алгоритм делает 66% ложных срабатываний\n",
    "\n",
    "(REC=0.1) - выявляет только 10% первого класса"
   ]
  },
  {
   "cell_type": "markdown",
   "id": "49a66d57-2851-4649-9984-6609b1c9e068",
   "metadata": {},
   "source": [
    "В том случае, если Precision и Recall являются одинаково значимыми, можно использовать их среднее гармоническое для получения оценки результатов:\n",
    "$$F1=2\\frac{PRE*REC}{PRE+REC}$$"
   ]
  },
  {
   "cell_type": "code",
   "execution_count": 23,
   "id": "79557e24-4fb7-4b17-82b0-04f4bb1e0fd8",
   "metadata": {},
   "outputs": [
    {
     "name": "stdout",
     "output_type": "stream",
     "text": [
      "pre:  1.0\n",
      "rec:  0.8809523809523809\n",
      "f1:  0.9367088607594937\n"
     ]
    }
   ],
   "source": [
    "from sklearn.metrics import precision_score\n",
    "from sklearn.metrics import recall_score, f1_score\n",
    "\n",
    "print('pre: ', precision_score(y_true=y_test, y_pred=y_pred))\n",
    "print('rec: ', recall_score(y_true=y_test, y_pred=y_pred))\n",
    "print('f1: ', f1_score(y_true=y_test, y_pred=y_pred))"
   ]
  },
  {
   "cell_type": "markdown",
   "id": "8e59e03f-b07e-42e1-be20-792c5daa1993",
   "metadata": {},
   "source": [
    "Представьте, что вам дали изображение и попросили определить все автомобили внутри него. Какой показатель вы используете? Поскольку цель состоит в том, чтобы обнаружить все автомобили, используйте recall. Такой подход может ошибочно классифицировать некоторые объекты как целевые, но в конечном итоге сработает для предсказания всех автомобилей.\n",
    "\n",
    "Теперь предположим, что вам дали снимок с результатами маммографии, и вас попросили определить наличие рака. Какой показатель вы используете? Поскольку он обязан быть чувствителен к неверной идентификации изображения как злокачественного, мы должны быть уверены, когда классифицируем снимок как Positive (то есть с раком). Таким образом, предпочтительным показателем в данном случае является precision."
   ]
  },
  {
   "cell_type": "code",
   "execution_count": 24,
   "id": "94bcc9f1-9d05-426a-8735-50692c89a5bf",
   "metadata": {},
   "outputs": [
    {
     "data": {
      "text/plain": [
       "dict_keys(['memory', 'steps', 'verbose', 'standardscaler', 'svc', 'standardscaler__copy', 'standardscaler__with_mean', 'standardscaler__with_std', 'svc__C', 'svc__break_ties', 'svc__cache_size', 'svc__class_weight', 'svc__coef0', 'svc__decision_function_shape', 'svc__degree', 'svc__gamma', 'svc__kernel', 'svc__max_iter', 'svc__probability', 'svc__random_state', 'svc__shrinking', 'svc__tol', 'svc__verbose'])"
      ]
     },
     "execution_count": 24,
     "metadata": {},
     "output_type": "execute_result"
    }
   ],
   "source": [
    "pipe_svc.get_params().keys()"
   ]
  },
  {
   "cell_type": "code",
   "execution_count": 25,
   "id": "cc378027-e425-4d37-86c4-c4e10710ca2a",
   "metadata": {},
   "outputs": [
    {
     "name": "stdout",
     "output_type": "stream",
     "text": [
      "0.9828077166509601\n",
      "{'svc__C': 10.0, 'svc__gamma': 0.01, 'svc__kernel': 'rbf'}\n"
     ]
    }
   ],
   "source": [
    "from sklearn.metrics import make_scorer, f1_score\n",
    "\n",
    "c_gamma_range = [0.01, 0.1, 1.0, 10.0]\n",
    "param_grid = [{'svc__C': c_gamma_range,\n",
    "               'svc__kernel': ['linear']},\n",
    "              {'svc__C': c_gamma_range,\n",
    "               'svc__gamma': c_gamma_range,\n",
    "               'svc__kernel': ['rbf']}]\n",
    "scorer = make_scorer(f1_score, pos_label=0)\n",
    "gs = GridSearchCV(estimator=pipe_svc,\n",
    "                  param_grid=param_grid,\n",
    "                  scoring=scorer,\n",
    "                  cv=10)\n",
    "gs.fit(X_train, y_train)\n",
    "print(gs.best_score_)\n",
    "print(gs.best_params_)"
   ]
  },
  {
   "cell_type": "markdown",
   "id": "d2ea6622-ef14-473e-95b1-02d86e044320",
   "metadata": {},
   "source": [
    "ROC (receiver operating characteristic) – график, показывающий зависимость верно классифицируемых объектов положительного класса от ложно положительно классифицируемых объектов негативного класса. Иными словами, соотношение True Positive Rate (Recall) и False Positive Rate."
   ]
  },
  {
   "cell_type": "code",
   "execution_count": 26,
   "id": "c9daa2d7-7d2f-4107-a0a5-6c152ac87859",
   "metadata": {},
   "outputs": [
    {
     "data": {
      "image/png": "[encoded data removed]",
      "text/plain": [
       "<Figure size 504x360 with 1 Axes>"
      ]
     },
     "metadata": {
      "needs_background": "light"
     },
     "output_type": "display_data"
    }
   ],
   "source": [
    "from sklearn.metrics import roc_curve, auc\n",
    "from numpy import interp\n",
    "\n",
    "pipe_lr = make_pipeline(StandardScaler(),\n",
    "                        PCA(n_components=2),\n",
    "                        LogisticRegression(random_state=1,\n",
    "                                           C=100.0))\n",
    "X_train2 = X_train[:, [4, 14]]\n",
    "cv = list(StratifiedKFold(n_splits=3).split(X_train,\n",
    "                                            y_train))\n",
    "fig = plt.figure(figsize=(7, 5))\n",
    "mean_tpr = 0.0\n",
    "mean_fpr = np.linspace(0, 1, 100)\n",
    "all_tpr = []\n",
    "\n",
    "for i, (train, test) in enumerate(cv):\n",
    "    probas = pipe_lr.fit(X_train2[train],\n",
    "                         y_train[train]).predict_proba(X_train2[test])\n",
    "    fpr, tpr, thresholds = roc_curve(y_train[test],\n",
    "                                     probas[:, 1],\n",
    "                                     pos_label=1)\n",
    "    mean_tpr += interp(mean_fpr, fpr, tpr)\n",
    "    mean_tpr[0] = 0.0\n",
    "    roc_auc = auc(fpr, tpr)\n",
    "    plt.plot(fpr, tpr, label=f'ROC блок {i+1} (площадь {roc_auc})')\n",
    "plt.plot([0, 1],\n",
    "         [0, 1],\n",
    "         linestyle='--',\n",
    "         color=(0.6, 0.6, 0.6),\n",
    "         label='случайное угадывание')\n",
    "mean_tpr /= len(cv)\n",
    "mean_tpr[-1] = 1.0\n",
    "mean_auc = auc(mean_fpr, mean_tpr)\n",
    "plt.plot(mean_fpr, mean_tpr, 'k--',\n",
    "         label=f'средняя ROC (площадь = {mean_auc})')\n",
    "plt.plot([0, 0, 1],\n",
    "         [0, 1, 1],\n",
    "         linestyle=':',\n",
    "         color='black',\n",
    "         label='идеальная эффективность')\n",
    "plt.xlim([-0.05, 1.05])\n",
    "plt.ylim([-0.05, 1.05])\n",
    "plt.xlabel('доля ложноположительных классификаций')\n",
    "plt.ylabel('доля истино положительных классификаций')\n",
    "plt.legend(loc='lower right')\n",
    "plt.show()"
   ]
  },
  {
   "cell_type": "markdown",
   "id": "a5f77e23-b14e-463d-b58f-df68276cbfa9",
   "metadata": {},
   "source": [
    "#### Решение проблемы с дисбалансом классов"
   ]
  },
  {
   "cell_type": "code",
   "execution_count": 27,
   "id": "364f117a-a08d-434a-9f66-9c8539702a2b",
   "metadata": {},
   "outputs": [],
   "source": [
    "# создание несбалансированногоо набора данных 357 доброкачественных\n",
    "# и 40 злокачественных\n",
    "X_imb = np.vstack((X[y == 0], X[y == 1][:40]))\n",
    "y_imb = np.hstack((y[y == 0], y[y == 1][:40]))"
   ]
  },
  {
   "cell_type": "code",
   "execution_count": 41,
   "id": "ec3e2409-2052-4760-a79a-a318b6d84a8a",
   "metadata": {},
   "outputs": [
    {
     "data": {
      "text/plain": [
       "0.8992443324937027"
      ]
     },
     "execution_count": 41,
     "metadata": {},
     "output_type": "execute_result"
    }
   ],
   "source": [
    "X_imb[y_imb == 0].shape[0] / (X_imb[y_imb == 0].shape[0] +\\\n",
    "                              X_imb[y_imb == 1].shape[0])"
   ]
  },
  {
   "cell_type": "markdown",
   "id": "3b7e1134-5331-4817-a892-362deb93790b",
   "metadata": {},
   "source": [
    "Повышение (или понижение) дискретизации миноритарного (или мажоритарного) класса за счет выборки с возвращением новых образцов из набора данных."
   ]
  },
  {
   "cell_type": "code",
   "execution_count": 30,
   "id": "927bf71e-3a46-496d-8e83-9625cd0cd856",
   "metadata": {},
   "outputs": [
    {
     "name": "stdout",
     "output_type": "stream",
     "text": [
      "Начальное кол-во образцов класса 1:  40\n",
      "Конечное кол-во образцов класса 1:  357\n"
     ]
    }
   ],
   "source": [
    "from sklearn.utils import resample\n",
    "\n",
    "print('Начальное кол-во образцов класса 1: ',\n",
    "      X_imb[y_imb == 1].shape[0])\n",
    "\n",
    "X_upsampled, y_upsampled = resample(\n",
    "    X_imb[y_imb == 1],\n",
    "    y_imb[y_imb == 1],\n",
    "    replace=True,\n",
    "    n_samples=X_imb[y_imb == 0].shape[0],\n",
    "    random_state=123)\n",
    "print('Конечное кол-во образцов класса 1: ',\n",
    "      X_upsampled.shape[0])"
   ]
  },
  {
   "cell_type": "code",
   "execution_count": 37,
   "id": "09b853b8-2274-46a2-a5e9-c8a4cb5b046f",
   "metadata": {},
   "outputs": [],
   "source": [
    "X_bal = np.vstack((X[y == 0], X_upsampled))\n",
    "y_bal = np.hstack((y[y == 0], y_upsampled))"
   ]
  },
  {
   "cell_type": "code",
   "execution_count": 40,
   "id": "4934027f-af72-418a-bb98-db83fbae19b3",
   "metadata": {},
   "outputs": [
    {
     "data": {
      "text/plain": [
       "0.5"
      ]
     },
     "execution_count": 40,
     "metadata": {},
     "output_type": "execute_result"
    }
   ],
   "source": [
    "X_bal[y_bal == 0].shape[0] / (X_bal[y_bal == 0].shape[0] +\\\n",
    "                              X_bal[y_bal == 1].shape[0])"
   ]
  },
  {
   "cell_type": "code",
   "execution_count": null,
   "id": "07e9ac3a-59bd-49ea-a266-5b5183a68f17",
   "metadata": {},
   "outputs": [],
   "source": [
    "# генерация новых обучающих данных метод SMOTE из imbalanced-learn"
   ]
  }
 ],
 "metadata": {
  "kernelspec": {
   "display_name": "Python 3 (ipykernel)",
   "language": "python",
   "name": "python3"
  },
  "language_info": {
   "codemirror_mode": {
    "name": "ipython",
    "version": 3
   },
   "file_extension": ".py",
   "mimetype": "text/x-python",
   "name": "python",
   "nbconvert_exporter": "python",
   "pygments_lexer": "ipython3",
   "version": "3.9.7"
  }
 },
 "nbformat": 4,
 "nbformat_minor": 5
}
