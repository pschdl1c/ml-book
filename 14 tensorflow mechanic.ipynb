{
 "cells": [
  {
   "cell_type": "markdown",
   "id": "e0a44f2c-766b-4cbc-9191-fbf4f9a27e14",
   "metadata": {},
   "source": [
    "# Механика TensorFlow"
   ]
  },
  {
   "cell_type": "markdown",
   "id": "59bd4b08-570e-482f-9caf-2c0be9bf99e9",
   "metadata": {},
   "source": [
    "В ранней версии низкоуровневого АРI-интерфейса TensorFlow (vl) граф\n",
    "должен был объявляться явно.\n",
    "\n",
    "1. Создать новый пустой вычислительный граф.\n",
    "2. Добавить в вычислительный граф узлы (тензоры и операции).\n",
    "3. Провести оценку (выполнить) граф:\n",
    "    1) начать новый сеанс;\n",
    "    2) инициализировать переменные в графе;\n",
    "    3) запустить вычислительный граф в этом сеансе. \n"
   ]
  },
  {
   "cell_type": "code",
   "execution_count": 1,
   "id": "ede9aedf-4263-4ca7-981a-2dfb8d4742cc",
   "metadata": {},
   "outputs": [
    {
     "name": "stdout",
     "output_type": "stream",
     "text": [
      "z= 1\n"
     ]
    }
   ],
   "source": [
    "import tensorflow as tf\n",
    "\n",
    "g = tf.Graph()\n",
    "with g.as_default():\n",
    "    a = tf.constant(1, name='a')\n",
    "    b = tf.constant(2, name='b')\n",
    "    c = tf.constant(3, name='c')\n",
    "    z = 2*(a-b) + c\n",
    "\n",
    "with tf.compat.v1.Session(graph=g) as sess:\n",
    "    print('z=', sess.run(z))"
   ]
  },
  {
   "cell_type": "markdown",
   "id": "caf9e545-d4b0-4a7f-9734-bc548e0ca682",
   "metadata": {},
   "source": [
    "В TensorFlow v 1.х сеанс представляет собой среду, в которой могут выполняться операции и тензоры графа."
   ]
  },
  {
   "cell_type": "markdown",
   "id": "2ba6ad4b-50e7-4975-aaa5-d33ded94481d",
   "metadata": {},
   "source": [
    "### Загрузка входных данных в модель (TF v1)"
   ]
  },
  {
   "cell_type": "markdown",
   "id": "c58aa208-3ab9-443b-a25c-7caebd0e40dc",
   "metadata": {},
   "source": [
    "Еще одно важное усовершенствование версии TensorFlow v2 по сравнению с TensorFlow v1 .х касается того, каким образом можно загружать данные в модели. В TensorFlow v2 мы можем напрямую подавать данные в\n",
    "форме переменных Python или массивов NumPy. Тем не менее, когда применяется низкоуровневый АРI-интерфейс TensorFlow v1, необходимо создавать переменные-заполнители для снабжения модели входными данными."
   ]
  },
  {
   "cell_type": "code",
   "execution_count": 2,
   "id": "ace67ccc-2a1f-495e-9150-df0aa58e18b2",
   "metadata": {},
   "outputs": [
    {
     "name": "stdout",
     "output_type": "stream",
     "text": [
      "z= 1\n"
     ]
    }
   ],
   "source": [
    "g = tf.Graph()\n",
    "with g.as_default():\n",
    "    a = tf.compat.v1.placeholder(shape=None,\n",
    "                                 dtype=tf.int32, name='tf_a')\n",
    "    b = tf.compat.v1.placeholder(shape=None,\n",
    "                                 dtype=tf.int32, name='tf_b')\n",
    "    c = tf.compat.v1.placeholder(shape=None,\n",
    "                                 dtype=tf.int32, name='tf_c')\n",
    "    z = 2*(a-b) + c\n",
    "\n",
    "with tf.compat.v1.Session(graph=g) as sess:\n",
    "    feed_dict = {a: 1, b: 2, c: 3}\n",
    "    print('z=', sess.run(z, feed_dict=feed_dict))"
   ]
  },
  {
   "cell_type": "markdown",
   "id": "15be9bf9-9fe2-4994-9be5-48358967e93f",
   "metadata": {},
   "source": [
    "TensorFlow v2 предлагается инструмент под названием AutoGraph, который способен автоматически трансформировать код\n",
    "Python в код графов TensorFlow для более быстрого выполнения. Вдобавок\n",
    "в TensorFlow предоставляется простой механизм для компиляции обычной\n",
    "функции Python в статический граф TensorFlow с тем, чтобы сделать вычисления более эффективными.tf.subtract(a, b)"
   ]
  },
  {
   "cell_type": "code",
   "execution_count": 3,
   "id": "408b6432-a567-4f50-9f04-026aa12f31fa",
   "metadata": {},
   "outputs": [
    {
     "name": "stdout",
     "output_type": "stream",
     "text": [
      "scalar input: 1\n",
      "rank 1 input: [1]\n"
     ]
    }
   ],
   "source": [
    "@tf.function\n",
    "def compute_z(a, b, c):\n",
    "    r1 = tf.subtract(a, b)\n",
    "    r2 = tf.multiply(2, r1)\n",
    "    z = tf.add(r2, c)\n",
    "    return z\n",
    "tf.print('scalar input:', compute_z(1, 2, 3))\n",
    "tf.print('rank 1 input:', compute_z([1], [2], [3]))"
   ]
  },
  {
   "cell_type": "markdown",
   "id": "23363da2-47aa-4fb9-a74d-2c0e840e60ad",
   "metadata": {},
   "source": [
    "После вызова декорированной функции TensorFlow проверит, не был\n",
    "ли граф с соответствующим ключом сгенерирован ранее. Если граф такого\n",
    "рода не существует, тогда TensorFlow сгенерирует новый граф и сохранит\n",
    "новый ключ. С другой стороны, если мы хотим ввести ограничения на способ вызова функции, то при ее определении можем указать входную сигнатуру посредством кортежа из объектов tf.TensorSpec."
   ]
  },
  {
   "cell_type": "code",
   "execution_count": 4,
   "id": "249388be-edb9-4261-be4f-1435ef86f7f1",
   "metadata": {},
   "outputs": [
    {
     "name": "stdout",
     "output_type": "stream",
     "text": [
      "rank 1 input: [1]\n",
      "rank 1 input: [1 2]\n"
     ]
    }
   ],
   "source": [
    "# разрешены тензоры ранга 1 типа tf.int32\n",
    "@tf.function(input_signature=(tf.TensorSpec(shape=[None],\n",
    "                                            dtype=tf.int32),\n",
    "                              tf.TensorSpec(shape=[None],\n",
    "                                            dtype=tf.int32),\n",
    "                              tf.TensorSpec(shape=[None],\n",
    "                                            dtype=tf.int32)))\n",
    "def compute_z(a, b, c):\n",
    "    r1 = tf.subtract(a, b)\n",
    "    r2 = tf.multiply(2, r1)\n",
    "    z = tf.add(r2, c)\n",
    "    return z\n",
    "tf.print('rank 1 input:', compute_z([1], [2], [3]))\n",
    "tf.print('rank 1 input:', compute_z([1, 2], [3, 4], [5, 6]))"
   ]
  },
  {
   "cell_type": "code",
   "execution_count": 5,
   "id": "6c6bfd58-4983-4875-8938-cd3b286aa95f",
   "metadata": {
    "tags": []
   },
   "outputs": [
    {
     "name": "stdout",
     "output_type": "stream",
     "text": [
      "error\n"
     ]
    }
   ],
   "source": [
    "try:\n",
    "    tf.print('scalar input:', compute_z(1, 2, 3))\n",
    "except:\n",
    "    print('error')"
   ]
  },
  {
   "cell_type": "markdown",
   "id": "b2786dbf-809f-4878-8548-113f1951c91a",
   "metadata": {},
   "source": [
    "### Объекты VariaЬle библиотеки Tensorflow для хранения и обновления параметров модели "
   ]
  },
  {
   "cell_type": "markdown",
   "id": "ba9e482f-ea04-4245-a37a-7af262d55790",
   "metadata": {},
   "source": [
    "В контексте TensorFlow объект\n",
    "Variabe представляет собой особый объект Tensor, который позволяет сохранять и обновлять параметры моделей во время обучения. "
   ]
  },
  {
   "cell_type": "code",
   "execution_count": 6,
   "id": "e5603194-0947-4acb-bdfd-eea6a8058976",
   "metadata": {},
   "outputs": [
    {
     "name": "stdout",
     "output_type": "stream",
     "text": [
      "<tf.Variable 'var_a:0' shape=() dtype=float32, numpy=3.14>\n"
     ]
    }
   ],
   "source": [
    "a = tf.Variable(initial_value=3.14, name='var_a')\n",
    "print(a)"
   ]
  },
  {
   "cell_type": "markdown",
   "id": "0bca42b3-d94e-440f-b38f-ec752ad0f3f9",
   "metadata": {},
   "source": [
    "Переменные имеют атрибут по имени trainable, который по умолчанию установлен в True. \n"
   ]
  },
  {
   "cell_type": "code",
   "execution_count": 7,
   "id": "78600c33-1b90-42fb-b285-13cb9d1826a5",
   "metadata": {},
   "outputs": [
    {
     "data": {
      "text/plain": [
       "True"
      ]
     },
     "execution_count": 7,
     "metadata": {},
     "output_type": "execute_result"
    }
   ],
   "source": [
    "w = tf.Variable([1, 2, 3])\n",
    "w.trainable"
   ]
  },
  {
   "cell_type": "code",
   "execution_count": 8,
   "id": "d289ba1a-b0e2-4ada-b47f-6868bbfa1e3d",
   "metadata": {},
   "outputs": [
    {
     "data": {
      "text/plain": [
       "<tf.Variable 'UnreadVariable' shape=(3,) dtype=int32, numpy=array([3, 1, 4])>"
      ]
     },
     "execution_count": 8,
     "metadata": {},
     "output_type": "execute_result"
    }
   ],
   "source": [
    "w.assign([3, 1, 4], read_value=True)"
   ]
  },
  {
   "cell_type": "code",
   "execution_count": 9,
   "id": "dc642d2b-9680-4826-8100-6a3de4df3172",
   "metadata": {},
   "outputs": [],
   "source": [
    "w.assign_add([2, -1, 2], read_value=False)"
   ]
  },
  {
   "cell_type": "code",
   "execution_count": 10,
   "id": "d3a82c0f-66ed-4850-8656-a79ab5155760",
   "metadata": {},
   "outputs": [
    {
     "data": {
      "text/plain": [
       "<tf.Tensor: shape=(3,), dtype=int32, numpy=array([5, 0, 6])>"
      ]
     },
     "execution_count": 10,
     "metadata": {},
     "output_type": "execute_result"
    }
   ],
   "source": [
    "w.value()"
   ]
  },
  {
   "cell_type": "markdown",
   "id": "73a06c64-b8e8-4a24-85cd-729e5f6314b5",
   "metadata": {},
   "source": [
    "Когда аргумент read_value установлен в True (что принято по умолчанию), эти операции будут автоматически возвращать новые значения после\n",
    "обновления текущих значений объекта Variable. Установка read_value в\n",
    "False подавляет автоматический возврат обновленного значения (но объект\n",
    "Variаblе по-прежнему будет обновляться на месте). Вызов w.value()\n",
    "будет возвращать значения в формате тензора."
   ]
  },
  {
   "cell_type": "code",
   "execution_count": 11,
   "id": "182133e4-29ea-485f-9416-434bbb30d77e",
   "metadata": {},
   "outputs": [
    {
     "name": "stdout",
     "output_type": "stream",
     "text": [
      "[-0.722795904 1.01456821 0.251808226]\n"
     ]
    }
   ],
   "source": [
    "# случайная инициализация весов\n",
    "tf.random.set_seed(1)\n",
    "init = tf.keras.initializers.GlorotNormal()\n",
    "tf.print(init(shape=(3,)))"
   ]
  },
  {
   "cell_type": "code",
   "execution_count": 12,
   "id": "e44c8477-7289-44ac-b107-eec47dd3085e",
   "metadata": {},
   "outputs": [
    {
     "name": "stdout",
     "output_type": "stream",
     "text": [
      "[[0.28982234 -0.782292843 -0.0453658961]\n",
      " [0.960991383 -0.120003454 0.708528221]]\n"
     ]
    }
   ],
   "source": [
    "v = tf.Variable(init(shape=(2, 3)))\n",
    "tf.print(v)"
   ]
  },
  {
   "cell_type": "markdown",
   "id": "799cdba2-e55f-41d6-b6ed-9987db4537b8",
   "metadata": {},
   "source": [
    "#### Инициализация Ксавье (или Глоро) "
   ]
  },
  {
   "cell_type": "markdown",
   "id": "4b88149b-5220-4100-889f-2dc24b6b4c75",
   "metadata": {},
   "source": [
    "На ранней стадии развития ГО путем наблюдений выяснилось, что инициализация весов со случайным равномерным или случайным нормальным распределением часто могла приводить к низкой эффективности модели во время обучения.\n",
    "В 2010 году Глоро и Бенджи исследовали влияние инициализации\n",
    "и предложили новаторскую более надежную схему инициализации,\n",
    "облегчающую обучение глубоких нейронных сетей. Основная идея\n",
    "инициализации Ксавье заключается в том, чтобы приблизительно\n",
    "уравновесить дисперсию градиентов между разными слоями. В противном случае во время обучения некоторые слои могут получить\n",
    "слишком много внимания, тогда как другие слои будут отставать.\n",
    "Согласно научной статье Глоро и Бенджи, если мы хотим инициализировать веса значениями с равномерным распределением, то должны выбирать интервал равномерного распределения следующим образом:\n",
    "\n",
    "<img src=\"pic/gloro.png\"/>\n",
    "\n",
    "Здесь n<sub>вх</sub> - количество входных нейронов, умноженных на веса, а\n",
    "n<sub>вых</sub> - количество выходных нейронов, которые передают значения\n",
    "следующему слою. Для инициализации весов значениями с гауссовым (нормальным) распределением рекомендуется выбирать стандартное отклонение:\n",
    "\n",
    "<img src=\"pic/gloro_std.png\"/>"
   ]
  },
  {
   "cell_type": "code",
   "execution_count": 13,
   "id": "34a3d641-c128-4543-b00f-25719047e4fc",
   "metadata": {},
   "outputs": [
    {
     "name": "stdout",
     "output_type": "stream",
     "text": [
      "all var module:  [TensorShape([2, 3]), TensorShape([1, 2])]\n",
      "trainable var module:  [TensorShape([2, 3])]\n"
     ]
    }
   ],
   "source": [
    "# tf.Module\n",
    "class MyModule(tf.Module):\n",
    "    def __init__(self):\n",
    "        init = tf.keras.initializers.GlorotNormal()\n",
    "        self.w1 = tf.Variable(init(shape=(2, 3)),\n",
    "                              trainable=True)\n",
    "        self.w2 = tf.Variable(init(shape=(1, 2)),\n",
    "                              trainable=False)\n",
    "\n",
    "m = MyModule()\n",
    "print('all var module: ', [v.shape for v in m.variables])\n",
    "print('trainable var module: ', [v.shape for v in m.trainable_variables])"
   ]
  },
  {
   "cell_type": "markdown",
   "id": "ce6d34fb-b340-43df-837f-761822c12a05",
   "metadata": {},
   "source": [
    "### Расчет градиентов посредством автоматического дифференцирования и GradientTape"
   ]
  },
  {
   "cell_type": "markdown",
   "id": "e6bcb2f5-a9bc-4536-83d8-7c868c99e4b0",
   "metadata": {},
   "source": [
    "Библиотека TensorFlow поддерживает автоматическое дифференцирование, которое можно трактовать как реализацию цепного правила для\n",
    "расчета градиентов вложенных функций. Когда мы определяем последовательность операций, которая в результате дает какой-то выход или даже\n",
    "промежуточные тензоры, TensorFlow обеспечивает контекст для расчета градиентов таких вычислительных тензоров относительно их зависимых углов в вычислительном графе."
   ]
  },
  {
   "cell_type": "code",
   "execution_count": 14,
   "id": "dcf779eb-433f-41c9-b06f-f12c083ae46b",
   "metadata": {},
   "outputs": [
    {
     "name": "stdout",
     "output_type": "stream",
     "text": [
      "True True\n",
      "dL/dw: -1.9599998\n"
     ]
    }
   ],
   "source": [
    "# z = w*x + b\n",
    "# loss = (y - z)^2\n",
    "\n",
    "w = tf.Variable(1.0)\n",
    "b = tf.Variable(0.0)\n",
    "print(w.trainable, b.trainable)\n",
    "\n",
    "x = tf.convert_to_tensor([1.4])\n",
    "y = tf.convert_to_tensor([2.1])\n",
    "with tf.GradientTape() as tape:\n",
    "    z = tf.add(tf.multiply(w, x), b)\n",
    "    loss = tf.reduce_sum(tf.square(y - z))\n",
    "\n",
    "dloss_dw = tape.gradient(loss, w)\n",
    "tf.print('dL/dw:', dloss_dw)"
   ]
  },
  {
   "cell_type": "code",
   "execution_count": 15,
   "id": "223aa846-8248-44df-b588-39555e557926",
   "metadata": {},
   "outputs": [
    {
     "name": "stdout",
     "output_type": "stream",
     "text": [
      "[-1.9599998]\n"
     ]
    }
   ],
   "source": [
    "# проверка градиента\n",
    "tf.print(2*x*(w*x+b-y))"
   ]
  },
  {
   "cell_type": "markdown",
   "id": "d6466827-4675-4f9f-a138-a0ab9cb0cb8b",
   "metadata": {},
   "source": [
    "Класс tf.GradientTape автоматически поддерживает градиенты\n",
    "для обучаемых переменных. Тем не менее, для отслеживания необучаемых переменных и других объектов Tensor необходимо добавить к GradientTape дополнительную модификацию вида tape.watch()"
   ]
  },
  {
   "cell_type": "code",
   "execution_count": 16,
   "id": "2c6a2b7f-690d-4b3e-bc4a-f48f9e374849",
   "metadata": {},
   "outputs": [
    {
     "name": "stdout",
     "output_type": "stream",
     "text": [
      "dL/dx: [-1.39999986]\n"
     ]
    }
   ],
   "source": [
    "# dloss/dx\n",
    "with tf.GradientTape() as tape:\n",
    "    tape.watch(x)\n",
    "    z = tf.add(tf.multiply(w, x), b)\n",
    "    loss = tf.reduce_sum(tf.square(y - z))\n",
    "\n",
    "dloss_dx = tape.gradient(loss, x)\n",
    "tf.print('dL/dx:', dloss_dx)"
   ]
  },
  {
   "cell_type": "markdown",
   "id": "3c721039-acda-48e6-90ff-05dda999b685",
   "metadata": {},
   "source": [
    "Когда мы отслеживаем вычисления в контексте tf.GradientTape, лента по умолчанию будет сохранять ресурсы только для одиночного расчета\n",
    "градиентов. Например, после однократного вызова tape.gradient () ресурсы будут освобождены и лента очистится. Следовательно, если мы хотим рассчитать более одного градиента, тогда понадобится сделать ленту постоянной:"
   ]
  },
  {
   "cell_type": "code",
   "execution_count": 17,
   "id": "7a1b36a0-8f09-4ec8-9bbd-2770868a1b1e",
   "metadata": {},
   "outputs": [
    {
     "name": "stdout",
     "output_type": "stream",
     "text": [
      "dL/dw: -1.9599998\n",
      "dL/db: -1.39999986\n"
     ]
    }
   ],
   "source": [
    "# dloss/dw и dloss/dx\n",
    "with tf.GradientTape(persistent=True) as tape:\n",
    "    z = tf.add(tf.multiply(w, x), b)\n",
    "    loss = tf.reduce_sum(tf.square(y - z))\n",
    "\n",
    "dloss_dw = tape.gradient(loss, w)\n",
    "tf.print('dL/dw:', dloss_dw)\n",
    "\n",
    "dloss_db = tape.gradient(loss, b)\n",
    "tf.print('dL/db:', dloss_db)"
   ]
  },
  {
   "cell_type": "markdown",
   "id": "bebc4ba0-44fa-4eb7-863d-86f67f2aebde",
   "metadata": {},
   "source": [
    "Если мы вычисляем градиенты члена потери относительно параметров модели, то можем определить оптимизатор и применить градиенты для оптимизации параметров модели с использованием АРI-интерфейса tf.keras:"
   ]
  },
  {
   "cell_type": "code",
   "execution_count": 18,
   "id": "2c78c729-2075-400d-bbc5-a799adb19b01",
   "metadata": {},
   "outputs": [
    {
     "name": "stdout",
     "output_type": "stream",
     "text": [
      "updated w: 1.0196\n",
      "updated b: 0.0139999986\n"
     ]
    }
   ],
   "source": [
    "optimizer = tf.keras.optimizers.SGD()\n",
    "optimizer.apply_gradients(zip([dloss_dw, dloss_db], [w, b]))\n",
    "tf.print('updated w:', w)\n",
    "tf.print('updated b:', b)"
   ]
  },
  {
   "cell_type": "markdown",
   "id": "274a816b-0f69-4cd6-95b8-5aa912124405",
   "metadata": {},
   "source": [
    "### Упрощение реализаций распространенных архитектур посредством API-интерфейса Keras"
   ]
  },
  {
   "cell_type": "code",
   "execution_count": 19,
   "id": "16b1d1ca-ab2e-4c9d-953d-e9f71190c53f",
   "metadata": {},
   "outputs": [
    {
     "name": "stdout",
     "output_type": "stream",
     "text": [
      "Model: \"sequential\"\n",
      "_________________________________________________________________\n",
      "Layer (type)                 Output Shape              Param #   \n",
      "=================================================================\n",
      "dense (Dense)                (None, 16)                80        \n",
      "_________________________________________________________________\n",
      "dense_1 (Dense)              (None, 32)                544       \n",
      "=================================================================\n",
      "Total params: 624\n",
      "Trainable params: 624\n",
      "Non-trainable params: 0\n",
      "_________________________________________________________________\n"
     ]
    }
   ],
   "source": [
    "model = tf.keras.Sequential()\n",
    "model.add(tf.keras.layers.Dense(units=16, activation='relu'))\n",
    "model.add(tf.keras.layers.Dense(units=32, activation='relu'))\n",
    "model.build(input_shape=(None, 4))  # позднее создание переменных\n",
    "model.summary()"
   ]
  },
  {
   "cell_type": "markdown",
   "id": "18395db0-cb1f-47c7-875d-ab21aff9496d",
   "metadata": {},
   "source": [
    "В вызове model.build () мы указали форму входа, создавая переменные после определения модели для этой конкретной формы, а также отобразили количество параметров каждого слоя: 16 * 4 + 16 = 80 для первого\n",
    "слоя и 16 * 32 + 32 = 544 для второго слоя. После того как переменные (или\n",
    "параметры модели) созданы, мы можем получать доступ к обучаемым и необучаемым переменным. "
   ]
  },
  {
   "cell_type": "code",
   "execution_count": 20,
   "id": "466d53d1-97f6-44ea-b23f-7b14749713e6",
   "metadata": {},
   "outputs": [
    {
     "name": "stdout",
     "output_type": "stream",
     "text": [
      "dense/kernel:0       True (4, 16)\n",
      "dense/bias:0         True (16,)\n",
      "dense_1/kernel:0     True (16, 32)\n",
      "dense_1/bias:0       True (32,)\n"
     ]
    },
    {
     "data": {
      "text/plain": [
       "[None, None, None, None]"
      ]
     },
     "execution_count": 20,
     "metadata": {},
     "output_type": "execute_result"
    }
   ],
   "source": [
    "[print(\"{:20s}\".format(v.name), v.trainable, v.shape)\n",
    " for v in model.variables]"
   ]
  },
  {
   "cell_type": "markdown",
   "id": "1a9e5d53-4a80-4446-b2cf-6bb064bbc407",
   "metadata": {},
   "source": [
    "Конфигурирование слоев:"
   ]
  },
  {
   "cell_type": "code",
   "execution_count": 21,
   "id": "5633f829-4df7-445f-9eeb-a089514d4643",
   "metadata": {},
   "outputs": [],
   "source": [
    "model = tf.keras.Sequential()\n",
    "model.add(tf.keras.layers.Dense(\n",
    "          units=16,\n",
    "          activation=tf.keras.activations.relu,\n",
    "          kernel_initializer=tf.keras.initializers.glorot_uniform(),\n",
    "          bias_initializer=tf.keras.initializers.Constant(2.0)))\n",
    "model.add(tf.keras.layers.Dense(\n",
    "          units=32,\n",
    "          activation=tf.keras.activations.sigmoid,\n",
    "          kernel_initializer=tf.keras.regularizers.l1))\n",
    "\n",
    "model.compile(\n",
    "    optimizer=tf.keras.optimizers.SGD(learning_rate=0.001),\n",
    "    loss=tf.keras.losses.BinaryCrossentropy(),\n",
    "    metrics=[tf.keras.metrics.Accuracy(),\n",
    "             tf.keras.metrics.Precision(),\n",
    "             tf.keras.metrics.Recall()])"
   ]
  },
  {
   "cell_type": "markdown",
   "id": "60afe15e-e71e-45d6-9253-d8a9b4e17fa6",
   "metadata": {},
   "source": [
    "### Решение задачи классификации XOR"
   ]
  },
  {
   "cell_type": "code",
   "execution_count": 1,
   "id": "82af1fb5-b7f7-4de7-9b90-170fd7799b85",
   "metadata": {},
   "outputs": [
    {
     "data": {
      "image/png": "[encoded data removed]",
      "text/plain": [
       "<Figure size 600x600 with 1 Axes>"
      ]
     },
     "metadata": {},
     "output_type": "display_data"
    }
   ],
   "source": [
    "# генерация данных\n",
    "import tensorflow as tf\n",
    "import numpy as np\n",
    "import matplotlib.pyplot as plt\n",
    "\n",
    "tf.random.set_seed(1)\n",
    "np.random.seed(1)\n",
    "\n",
    "x = np.random.uniform(low=-1, high=1, size=(200, 2))\n",
    "y = np.ones(len(x))\n",
    "y[x[:, 0] * x[:, 1] < 0] = 0\n",
    "\n",
    "x_train = x[:100, :]\n",
    "y_train = y[:100]\n",
    "\n",
    "x_valid = x[100:, :]\n",
    "y_valid = y[100:]\n",
    "\n",
    "fig = plt.figure(figsize=(6, 6))\n",
    "plt.plot(x[y==0, 0],\n",
    "         x[y==0, 1], 'o', alpha=0.75, markersize=10)\n",
    "plt.plot(x[y==1, 0],\n",
    "         x[y==1, 1], '<', alpha=0.75, markersize=10)\n",
    "plt.xlabel(r'$x_1$')\n",
    "plt.ylabel(r'$x_2$')\n",
    "plt.show()"
   ]
  },
  {
   "cell_type": "code",
   "execution_count": 23,
   "id": "e55c8005-6a87-46de-858b-57a81c6c6def",
   "metadata": {},
   "outputs": [
    {
     "name": "stdout",
     "output_type": "stream",
     "text": [
      "Model: \"sequential_2\"\n",
      "_________________________________________________________________\n",
      "Layer (type)                 Output Shape              Param #   \n",
      "=================================================================\n",
      "dense_4 (Dense)              (None, 1)                 3         \n",
      "=================================================================\n",
      "Total params: 3\n",
      "Trainable params: 3\n",
      "Non-trainable params: 0\n",
      "_________________________________________________________________\n"
     ]
    }
   ],
   "source": [
    "model = tf.keras.Sequential()\n",
    "model.add(tf.keras.layers.Dense(units=1,\n",
    "                                input_shape=(2,),\n",
    "                                activation='sigmoid'))\n",
    "model.summary()"
   ]
  },
  {
   "cell_type": "code",
   "execution_count": 24,
   "id": "e9803879-bcda-4b46-b8df-36296e1211c4",
   "metadata": {},
   "outputs": [],
   "source": [
    "model.compile(optimizer=tf.keras.optimizers.SGD(),\n",
    "              loss=tf.keras.losses.BinaryCrossentropy(),\n",
    "              metrics=[tf.keras.metrics.BinaryAccuracy()])\n",
    "hist = model.fit(x_train, y_train,\n",
    "                 validation_data=(x_valid, y_valid),\n",
    "                 epochs=200,\n",
    "                 batch_size=2,\n",
    "                 verbose=0)"
   ]
  },
  {
   "cell_type": "code",
   "execution_count": 25,
   "id": "8cb0f19d-80f3-44b1-85a5-2f1383a8bd08",
   "metadata": {},
   "outputs": [
    {
     "data": {
      "image/png": "[encoded data removed]",
      "text/plain": [
       "<Figure size 1600x400 with 3 Axes>"
      ]
     },
     "metadata": {},
     "output_type": "display_data"
    }
   ],
   "source": [
    "from mlxtend.plotting import plot_decision_regions\n",
    "\n",
    "history = hist.history\n",
    "\n",
    "fig = plt.figure(figsize=(16, 4))\n",
    "ax = fig.add_subplot(1, 3, 1)\n",
    "plt.plot(history['loss'], lw=4)\n",
    "plt.plot(history['val_loss'], lw=4)\n",
    "plt.legend(['train loss', 'valid loss'], fontsize=15)\n",
    "ax.set_xlabel('epoches', size=15)\n",
    "\n",
    "ax = fig.add_subplot(1, 3, 2)\n",
    "plt.plot(history['binary_accuracy'], lw=4)\n",
    "plt.plot(history['val_binary_accuracy'], lw=4)\n",
    "plt.legend(['train acc', 'valid acc'], fontsize=15)\n",
    "ax.set_xlabel('epoches', size=15)\n",
    "\n",
    "ax = fig.add_subplot(1, 3, 3)\n",
    "plot_decision_regions(X=x_valid, y=y_valid.astype(np.int32),\n",
    "                      clf=model)\n",
    "ax.set_xlabel(r'$x_1$', size=15)\n",
    "ax.xaxis.set_label_coords(1, -0.025) \n",
    "ax.set_ylabel(r'$x_2$', size=15)\n",
    "ax.xaxis.set_label_coords(-0.025, 1) \n",
    "plt.show()"
   ]
  },
  {
   "cell_type": "markdown",
   "id": "b86392fa-574a-4425-a2fa-4d055b4802c0",
   "metadata": {},
   "source": [
    "Простая модель без скрытых слоев может получить только\n",
    "линейную границу решений , которая не способна решить задачу XOR. Как\n",
    "следствие, мы наблюдаем, что член потери для обучающего и проверочного наборов данных очень высок, а правильность классификации крайне низка."
   ]
  },
  {
   "cell_type": "markdown",
   "id": "a140e6cd-176d-4d9f-a8b6-6a8ab7a510fd",
   "metadata": {},
   "source": [
    "Чтобы вывести нелинейную границу решений, мы можем добавить один\n",
    "и более скрытых слоев, связанных с помощью нелинейных функций активации. Теорема об универсальной аппроксимации утверждает, что нейронная\n",
    "сеть прямого распространения с единственным скрытым слоем и относительно большим количеством скрытых элементов способна относительно\n",
    "хорошо аппроксимировать произвольные непрерывные функции. Таким образом, один из подходов к получению более приемлемого решения задачи\n",
    "XOR предусматривает добавление скрытого слоя и сравнение различных количеств скрытых элементов. Добавление дополнительных элементов соответствует увеличению ширины слоя.\n",
    "\n",
    "Альтернативно можно добавить дополнительные скрытые слои, что сделает модель глубже. Преимущество более глубокой, а не более широкой нейронной сети заключается в том, что для достижения сопоставимой емкости модели требуется меньше параметров. Но недостаток глубоких моделей связан с тем, что глубокие модели предраспаложены к исчезновению и взрывному росту градиентов, из-за чего их обучение становится труднее."
   ]
  },
  {
   "cell_type": "code",
   "execution_count": 26,
   "id": "4c28d5c4-0f5b-43bc-acb5-12c81ff14044",
   "metadata": {},
   "outputs": [
    {
     "name": "stdout",
     "output_type": "stream",
     "text": [
      "Model: \"sequential_3\"\n",
      "_________________________________________________________________\n",
      "Layer (type)                 Output Shape              Param #   \n",
      "=================================================================\n",
      "dense_5 (Dense)              (None, 4)                 12        \n",
      "_________________________________________________________________\n",
      "dense_6 (Dense)              (None, 4)                 20        \n",
      "_________________________________________________________________\n",
      "dense_7 (Dense)              (None, 4)                 20        \n",
      "_________________________________________________________________\n",
      "dense_8 (Dense)              (None, 1)                 5         \n",
      "=================================================================\n",
      "Total params: 57\n",
      "Trainable params: 57\n",
      "Non-trainable params: 0\n",
      "_________________________________________________________________\n"
     ]
    }
   ],
   "source": [
    "tf.random.set_seed(1)\n",
    "model = tf.keras.Sequential()\n",
    "model.add(tf.keras.layers.Dense(units=4, input_shape=(2,),\n",
    "                                activation='relu'))\n",
    "model.add(tf.keras.layers.Dense(units=4, activation='relu'))\n",
    "model.add(tf.keras.layers.Dense(units=4, activation='relu'))\n",
    "model.add(tf.keras.layers.Dense(units=1, activation='sigmoid'))\n",
    "model.summary()"
   ]
  },
  {
   "cell_type": "code",
   "execution_count": 27,
   "id": "8eca86ca-c90f-4bc8-be71-3870bf7a8b68",
   "metadata": {},
   "outputs": [],
   "source": [
    "model.compile(optimizer=tf.keras.optimizers.SGD(),\n",
    "              loss=tf.keras.losses.BinaryCrossentropy(),\n",
    "              metrics=[tf.keras.metrics.BinaryAccuracy()])\n",
    "hist = model.fit(x_train, y_train,\n",
    "                 validation_data=(x_valid, y_valid),\n",
    "                 epochs=200,\n",
    "                 batch_size=2,\n",
    "                 verbose=0)"
   ]
  },
  {
   "cell_type": "code",
   "execution_count": 28,
   "id": "cb8cf11d-6f46-428a-b407-ca498bf30424",
   "metadata": {},
   "outputs": [
    {
     "data": {
      "image/png": "[encoded data removed]",
      "text/plain": [
       "<Figure size 1600x400 with 3 Axes>"
      ]
     },
     "metadata": {},
     "output_type": "display_data"
    }
   ],
   "source": [
    "from mlxtend.plotting import plot_decision_regions\n",
    "\n",
    "history = hist.history\n",
    "\n",
    "fig = plt.figure(figsize=(16, 4))\n",
    "ax = fig.add_subplot(1, 3, 1)\n",
    "plt.plot(history['loss'], lw=4)\n",
    "plt.plot(history['val_loss'], lw=4)\n",
    "plt.legend(['train loss', 'valid loss'], fontsize=15)\n",
    "ax.set_xlabel('epoches', size=15)\n",
    "\n",
    "ax = fig.add_subplot(1, 3, 2)\n",
    "plt.plot(history['binary_accuracy'], lw=4)\n",
    "plt.plot(history['val_binary_accuracy'], lw=4)\n",
    "plt.legend(['train acc', 'valid acc'], fontsize=15)\n",
    "ax.set_xlabel('epoches', size=15)\n",
    "\n",
    "ax = fig.add_subplot(1, 3, 3)\n",
    "plot_decision_regions(X=x_valid, y=y_valid.astype(np.int32),\n",
    "                      clf=model)\n",
    "ax.set_xlabel(r'$x_1$', size=15)\n",
    "ax.xaxis.set_label_coords(1, -0.025) \n",
    "ax.set_ylabel(r'$x_2$', size=15)\n",
    "ax.xaxis.set_label_coords(-0.025, 1) \n",
    "plt.show()"
   ]
  },
  {
   "cell_type": "code",
   "execution_count": 29,
   "id": "7a58a34d-7298-49d8-994c-2fa57b50ce3f",
   "metadata": {},
   "outputs": [
    {
     "name": "stdout",
     "output_type": "stream",
     "text": [
      "4/4 [==============================] - 0s 4ms/step - loss: 0.0845 - binary_accuracy: 0.9400\n"
     ]
    },
    {
     "data": {
      "text/plain": [
       "[0.08453187346458435, 0.9399999976158142]"
      ]
     },
     "execution_count": 29,
     "metadata": {},
     "output_type": "execute_result"
    }
   ],
   "source": [
    "model.evaluate(x_valid, y_valid)"
   ]
  },
  {
   "cell_type": "markdown",
   "id": "bc37c2f4-df2b-48e3-9e80-fbe9d9816df3",
   "metadata": {},
   "source": [
    "Теперь мы видим, что модель в состоянии вывести нелинейную границу\n",
    "решений для имеющихся данных, достигая 100%-ной правильности на обучающем наборе. Правильность на проверочном наборе составляет 94%, что\n",
    "говорит о небольшой степени переобучения модели. "
   ]
  },
  {
   "cell_type": "markdown",
   "id": "2b3c855b-23b0-4493-8db0-7d58b1175a41",
   "metadata": {},
   "source": [
    "### Функциональный API-интерфейс Keras"
   ]
  },
  {
   "cell_type": "markdown",
   "id": "492cfed1-46c4-40b5-844e-22c196144c04",
   "metadata": {},
   "source": [
    "Функциональный API позволяет создавать более сложные модели, которые могут иметь множественный вход, выход или промежуточные ветви."
   ]
  },
  {
   "cell_type": "code",
   "execution_count": 2,
   "id": "c4ead206-3999-4de1-9394-77b54ad6864f",
   "metadata": {},
   "outputs": [
    {
     "name": "stdout",
     "output_type": "stream",
     "text": [
      "Model: \"model\"\n",
      "_________________________________________________________________\n",
      "Layer (type)                 Output Shape              Param #   \n",
      "=================================================================\n",
      "input_1 (InputLayer)         [(None, 2)]               0         \n",
      "_________________________________________________________________\n",
      "dense (Dense)                (None, 4)                 12        \n",
      "_________________________________________________________________\n",
      "dense_1 (Dense)              (None, 4)                 20        \n",
      "_________________________________________________________________\n",
      "dense_2 (Dense)              (None, 4)                 20        \n",
      "_________________________________________________________________\n",
      "dense_3 (Dense)              (None, 1)                 5         \n",
      "=================================================================\n",
      "Total params: 57\n",
      "Trainable params: 57\n",
      "Non-trainable params: 0\n",
      "_________________________________________________________________\n"
     ]
    }
   ],
   "source": [
    "# реализация Sequential\n",
    "tf.random.set_seed(1)\n",
    "\n",
    "inputs = tf.keras.Input(shape=(2,))\n",
    "\n",
    "h1 = tf.keras.layers.Dense(units=4, activation='relu')(inputs)\n",
    "h2 = tf.keras.layers.Dense(units=4, activation='relu')(h1)\n",
    "h3 = tf.keras.layers.Dense(units=4, activation='relu')(h2)\n",
    "\n",
    "outputs = tf.keras.layers.Dense(units=1, activation='sigmoid')(h3)\n",
    "\n",
    "model = tf.keras.Model(inputs=inputs, outputs=outputs)\n",
    "model.summary()"
   ]
  },
  {
   "cell_type": "code",
   "execution_count": 3,
   "id": "59e46f4c-0476-4226-8b90-e20baade447c",
   "metadata": {},
   "outputs": [],
   "source": [
    "model.compile(optimizer=tf.keras.optimizers.SGD(),\n",
    "              loss=tf.keras.losses.BinaryCrossentropy(),\n",
    "              metrics=[tf.keras.metrics.BinaryAccuracy()])\n",
    "hist = model.fit(x_train, y_train,\n",
    "                 validation_data=(x_valid, y_valid),\n",
    "                 epochs=50,\n",
    "                 batch_size=2,\n",
    "                 verbose=0)"
   ]
  },
  {
   "cell_type": "code",
   "execution_count": 4,
   "id": "bb4c2e97-3bd9-4011-b98c-b89d62d6d722",
   "metadata": {},
   "outputs": [
    {
     "data": {
      "image/png": "[encoded data removed]",
      "text/plain": [
       "<Figure size 1600x400 with 3 Axes>"
      ]
     },
     "metadata": {},
     "output_type": "display_data"
    }
   ],
   "source": [
    "from mlxtend.plotting import plot_decision_regions\n",
    "\n",
    "history = hist.history\n",
    "\n",
    "fig = plt.figure(figsize=(16, 4))\n",
    "ax = fig.add_subplot(1, 3, 1)\n",
    "plt.plot(history['loss'], lw=4)\n",
    "plt.plot(history['val_loss'], lw=4)\n",
    "plt.legend(['train loss', 'valid loss'], fontsize=15)\n",
    "ax.set_xlabel('epoches', size=15)\n",
    "\n",
    "ax = fig.add_subplot(1, 3, 2)\n",
    "plt.plot(history['binary_accuracy'], lw=4)\n",
    "plt.plot(history['val_binary_accuracy'], lw=4)\n",
    "plt.legend(['train acc', 'valid acc'], fontsize=15)\n",
    "ax.set_xlabel('epoches', size=15)\n",
    "\n",
    "ax = fig.add_subplot(1, 3, 3)\n",
    "plot_decision_regions(X=x_valid, y=y_valid.astype(np.int32),\n",
    "                      clf=model)\n",
    "ax.set_xlabel(r'$x_1$', size=15)\n",
    "ax.xaxis.set_label_coords(1, -0.025) \n",
    "ax.set_ylabel(r'$x_2$', size=15)\n",
    "ax.xaxis.set_label_coords(-0.025, 1) \n",
    "plt.show()"
   ]
  },
  {
   "cell_type": "markdown",
   "id": "891a59d4-f1a3-4f6a-8728-0aa3ac00dd3a",
   "metadata": {},
   "source": [
    "### Реализация моделей на основе класса Model (Keras)"
   ]
  },
  {
   "cell_type": "code",
   "execution_count": 10,
   "id": "b0c54ccd-1a18-45cc-b1c4-6ac20a30d348",
   "metadata": {},
   "outputs": [],
   "source": [
    "class MyModel(tf.keras.Model):\n",
    "    def __init__(self):\n",
    "        super(MyModel, self).__init__()\n",
    "        self.hidden_1 = tf.keras.layers.Dense(\n",
    "            units=4, activation='relu')\n",
    "        self.hidden_2 = tf.keras.layers.Dense(\n",
    "            units=4, activation='relu')\n",
    "        self.hidden_3 = tf.keras.layers.Dense(\n",
    "            units=4, activation='relu')\n",
    "        self.output_layer = tf.keras.layers.Dense(\n",
    "            units=1, activation='sigmoid')\n",
    "\n",
    "    def call(self, inputs):\n",
    "        h = self.hidden_1(inputs)\n",
    "        h = self.hidden_2(h)\n",
    "        h = self.hidden_3(h)\n",
    "        return self.output_layer(h)"
   ]
  },
  {
   "cell_type": "code",
   "execution_count": 11,
   "id": "154f07fc-b37e-4a09-b0bf-0d25aa735f10",
   "metadata": {},
   "outputs": [
    {
     "name": "stdout",
     "output_type": "stream",
     "text": [
      "Model: \"my_model_3\"\n",
      "_________________________________________________________________\n",
      "Layer (type)                 Output Shape              Param #   \n",
      "=================================================================\n",
      "dense_16 (Dense)             multiple                  12        \n",
      "_________________________________________________________________\n",
      "dense_17 (Dense)             multiple                  20        \n",
      "_________________________________________________________________\n",
      "dense_18 (Dense)             multiple                  20        \n",
      "_________________________________________________________________\n",
      "dense_19 (Dense)             multiple                  5         \n",
      "=================================================================\n",
      "Total params: 57\n",
      "Trainable params: 57\n",
      "Non-trainable params: 0\n",
      "_________________________________________________________________\n"
     ]
    }
   ],
   "source": [
    "tf.random.set_seed(1)\n",
    "\n",
    "model = MyModel()\n",
    "model.build(input_shape=(None, 2))\n",
    "model.summary()\n",
    "\n",
    "model.compile(optimizer=tf.keras.optimizers.SGD(),\n",
    "              loss=tf.keras.losses.BinaryCrossentropy(),\n",
    "              metrics=[tf.keras.metrics.BinaryAccuracy()])\n",
    "hist = model.fit(x_train, y_train,\n",
    "                 validation_data=(x_valid, y_valid),\n",
    "                 epochs=50,\n",
    "                 batch_size=2,\n",
    "                 verbose=0)"
   ]
  },
  {
   "cell_type": "code",
   "execution_count": 15,
   "id": "e3b6b753-acac-41c6-97aa-3f89bace5cc3",
   "metadata": {},
   "outputs": [
    {
     "data": {
      "text/plain": [
       "0.6000000238418579"
      ]
     },
     "execution_count": 15,
     "metadata": {},
     "output_type": "execute_result"
    }
   ],
   "source": [
    "hist.history['binary_accuracy'][-1]"
   ]
  },
  {
   "cell_type": "markdown",
   "id": "e0242e7e-1eca-4995-b36f-b9cf974c88e2",
   "metadata": {},
   "source": [
    "### Реализация специальных слоев Keras"
   ]
  },
  {
   "cell_type": "code",
   "execution_count": 16,
   "id": "550817c3-1ef3-4d1a-be17-7b5e4daadf02",
   "metadata": {},
   "outputs": [],
   "source": [
    "# реализация слоя w(x+e)+b, e - случайный шум\n",
    "class NoisyLinear(tf.keras.layers.Layer):\n",
    "    def __init__(self, output_dim, noise_stddev=0.1, **kwargs):\n",
    "        self.output_dim = output_dim\n",
    "        self.noise_stddev = noise_stddev\n",
    "        super(NoisyLinear, self).__init__(**kwargs)\n",
    "\n",
    "    def build(self, input_shape):\n",
    "        self.w = self.add_weight(name='weights',\n",
    "                                 shape=(input_shape[1], self.output_dim),\n",
    "                                 initializer='random_normal',\n",
    "                                 trainable=True)\n",
    "        self.b = self.add_weight(shape=(self.output_dim,),\n",
    "                                 initializer='zeros',\n",
    "                                 trainable=True)\n",
    "\n",
    "    def call(self, inputs, training=False):\n",
    "        if training:\n",
    "            batch = tf.shape(inputs)[0]\n",
    "            dim = tf.shape(inputs)[1]\n",
    "            noise = tf.random.normal(shape=(batch, dim),\n",
    "                                     mean=0.0,\n",
    "                                     stddev=self.noise_stddev)\n",
    "            noisy_inputs = tf.add(inputs, noise)\n",
    "        else:\n",
    "            noisy_inputs = inputs\n",
    "        z = tf.matmul(noisy_inputs, self.w) + self.b\n",
    "        return tf.keras.activations.relu(z)\n",
    "\n",
    "    def get_config(self):\n",
    "        config = super(NoisyLinear, self).get_config()\n",
    "        config.update({'output_dim': self.output_dim,\n",
    "                       'noise_stddev': self.noise_stddev})\n",
    "        return config"
   ]
  },
  {
   "cell_type": "code",
   "execution_count": 17,
   "id": "214b85ba-aee5-4f18-af20-daf508f4f52b",
   "metadata": {},
   "outputs": [
    {
     "name": "stdout",
     "output_type": "stream",
     "text": [
      "[[0.00996803679 0.0017295673 0 0]\n",
      " [0 0.0622812733 0.021442527 0]\n",
      " [0 0.0542469099 0.0294852406 0]\n",
      " ...\n",
      " [0.0294949152 0 0 0]\n",
      " [0.0194668248 0 0 0]\n",
      " [0 0.0018813794 0 0]]\n"
     ]
    }
   ],
   "source": [
    "tf.random.set_seed(1)\n",
    "\n",
    "noisy_layer = NoisyLinear(4)\n",
    "noisy_layer.build(input_shape=(1, 4))\n",
    "tf.print(noisy_layer(x, training=True))"
   ]
  },
  {
   "cell_type": "code",
   "execution_count": 18,
   "id": "18197519-24a5-4fb7-888a-9601802aff1c",
   "metadata": {},
   "outputs": [
    {
     "name": "stdout",
     "output_type": "stream",
     "text": [
      "[[0 0.016262887 0 0]\n",
      " [0 0 0.0620713234 0.0115114348]\n",
      " [0 0 0.0901583582 0.0428460762]\n",
      " ...\n",
      " [0.00681168074 0.0189800821 0 0]\n",
      " [0 0.0179935303 0 0]\n",
      " [0 0.00380158052 0 0]]\n"
     ]
    }
   ],
   "source": [
    "# реконструкция из config\n",
    "config = noisy_layer.get_config()\n",
    "new_layer = NoisyLinear.from_config(config)\n",
    "tf.print(new_layer(x, training=True))"
   ]
  },
  {
   "cell_type": "code",
   "execution_count": 19,
   "id": "a326ece2-0e28-4d8f-a98f-2dfd1fa78ef4",
   "metadata": {},
   "outputs": [
    {
     "name": "stdout",
     "output_type": "stream",
     "text": [
      "Model: \"sequential\"\n",
      "_________________________________________________________________\n",
      "Layer (type)                 Output Shape              Param #   \n",
      "=================================================================\n",
      "noisy_linear_1 (NoisyLinear) (None, 4)                 12        \n",
      "_________________________________________________________________\n",
      "dense_20 (Dense)             (None, 4)                 20        \n",
      "_________________________________________________________________\n",
      "dense_21 (Dense)             (None, 4)                 20        \n",
      "_________________________________________________________________\n",
      "dense_22 (Dense)             (None, 1)                 5         \n",
      "=================================================================\n",
      "Total params: 57\n",
      "Trainable params: 57\n",
      "Non-trainable params: 0\n",
      "_________________________________________________________________\n"
     ]
    }
   ],
   "source": [
    "tf.random.set_seed(1)\n",
    "\n",
    "model = tf.keras.Sequential([\n",
    "    NoisyLinear(4, noise_stddev=0.1),\n",
    "    tf.keras.layers.Dense(units=4, activation='relu'),\n",
    "    tf.keras.layers.Dense(units=4, activation='relu'),\n",
    "    tf.keras.layers.Dense(units=1, activation='sigmoid'),\n",
    "])\n",
    "\n",
    "model.build(input_shape=(None, 2))\n",
    "model.summary()"
   ]
  },
  {
   "cell_type": "code",
   "execution_count": 20,
   "id": "f23eeb6f-1822-4e74-b752-8c4aca426910",
   "metadata": {},
   "outputs": [],
   "source": [
    "model.compile(optimizer=tf.keras.optimizers.SGD(),\n",
    "              loss=tf.keras.losses.BinaryCrossentropy(),\n",
    "              metrics=[tf.keras.metrics.BinaryAccuracy()])\n",
    "hist = model.fit(x_train, y_train,\n",
    "                 validation_data=(x_valid, y_valid),\n",
    "                 epochs=50,\n",
    "                 batch_size=2,\n",
    "                 verbose=0)"
   ]
  },
  {
   "cell_type": "code",
   "execution_count": 21,
   "id": "225a2668-7641-4002-ad26-379299d347ee",
   "metadata": {},
   "outputs": [
    {
     "data": {
      "text/plain": [
       "0.6600000262260437"
      ]
     },
     "execution_count": 21,
     "metadata": {},
     "output_type": "execute_result"
    }
   ],
   "source": [
    "hist.history['binary_accuracy'][-1]"
   ]
  },
  {
   "cell_type": "markdown",
   "id": "af400a70-e5e1-42c6-bfc9-c94a66751577",
   "metadata": {},
   "source": [
    "### Оценщики Tensorflow"
   ]
  },
  {
   "cell_type": "markdown",
   "id": "698a2496-b166-4944-b1e6-527dd18e2547",
   "metadata": {},
   "source": [
    "В АРI-интерфейсе tf.estimator инкапсулируются внутренние шаги задач МО, такие как обучение, прогнозирование (выведение) и оценка. Оценщики более инкапсулированы (т.е. защищены от внешнего вмешательства), но и более масштабируемы в сравнении с предшествующими подходами.\n",
    "К тому же АРI-интерфейс tf.estimator добавляет поддержку для прогона моделей на множестве платформ, не требуя внесения в код крупных изменений, что делает их более подходящими для так называемой \"производственной стадии\" в индустриальных приложениях. "
   ]
  },
  {
   "cell_type": "markdown",
   "id": "50d12e13-11e4-47c4-883a-5dc0042ec58d",
   "metadata": {},
   "source": [
    "Датасет Auto MPG - является общим эталонным набором данных МО для прогнозирования эффективности расхода топлива автомобилем в милях на галлон (miles реr gallon): "
   ]
  },
  {
   "cell_type": "code",
   "execution_count": null,
   "id": "387acfe9-6468-44f2-bcbc-fe0910fa0f03",
   "metadata": {},
   "outputs": [],
   "source": [
    "import pandas as pd\n",
    "\n",
    "dataset_path = tf.keras.utils.get_file(\n",
    "    './auto-mpg.data',\n",
    "    ('https://archive.ics.uci.edu/ml/'\n",
    "     'machine-learning-databases/auto-mpg/auto-mpg.data'))"
   ]
  },
  {
   "cell_type": "code",
   "execution_count": null,
   "id": "32b80ce7-2a45-4a2e-a188-ff244339de29",
   "metadata": {},
   "outputs": [],
   "source": [
    "column_names = ['MPG', 'Cylinders', 'Displacement',\n",
    "                'Horsepower', 'Weight', 'Acceleration',\n",
    "                'ModelYear', 'Origin']"
   ]
  },
  {
   "cell_type": "code",
   "execution_count": null,
   "id": "95dca45e-2c9a-432e-8446-24e7d5091291",
   "metadata": {},
   "outputs": [],
   "source": [
    "df = pd.read_csv(dataset_path, names=column_names,\n",
    "                 na_values='?', comment='\\t',\n",
    "                 sep=' ', skipinitialspace=True)"
   ]
  },
  {
   "cell_type": "code",
   "execution_count": null,
   "id": "4caa6de2-a1a1-4aa4-b84d-1f52c41fdd76",
   "metadata": {},
   "outputs": [
    {
     "data": {
      "text/html": [
       "<div>\n",
       "<style scoped>\n",
       "    .dataframe tbody tr th:only-of-type {\n",
       "        vertical-align: middle;\n",
       "    }\n",
       "\n",
       "    .dataframe tbody tr th {\n",
       "        vertical-align: top;\n",
       "    }\n",
       "\n",
       "    .dataframe thead th {\n",
       "        text-align: right;\n",
       "    }\n",
       "</style>\n",
       "<table border=\"1\" class=\"dataframe\">\n",
       "  <thead>\n",
       "    <tr style=\"text-align: right;\">\n",
       "      <th></th>\n",
       "      <th>MPG</th>\n",
       "      <th>Cylinders</th>\n",
       "      <th>Displacement</th>\n",
       "      <th>Horsepower</th>\n",
       "      <th>Weight</th>\n",
       "      <th>Acceleration</th>\n",
       "      <th>ModelYear</th>\n",
       "      <th>Origin</th>\n",
       "    </tr>\n",
       "  </thead>\n",
       "  <tbody>\n",
       "    <tr>\n",
       "      <th>0</th>\n",
       "      <td>18.0</td>\n",
       "      <td>8</td>\n",
       "      <td>307.0</td>\n",
       "      <td>130.0</td>\n",
       "      <td>3504.0</td>\n",
       "      <td>12.0</td>\n",
       "      <td>70</td>\n",
       "      <td>1</td>\n",
       "    </tr>\n",
       "    <tr>\n",
       "      <th>1</th>\n",
       "      <td>15.0</td>\n",
       "      <td>8</td>\n",
       "      <td>350.0</td>\n",
       "      <td>165.0</td>\n",
       "      <td>3693.0</td>\n",
       "      <td>11.5</td>\n",
       "      <td>70</td>\n",
       "      <td>1</td>\n",
       "    </tr>\n",
       "    <tr>\n",
       "      <th>2</th>\n",
       "      <td>18.0</td>\n",
       "      <td>8</td>\n",
       "      <td>318.0</td>\n",
       "      <td>150.0</td>\n",
       "      <td>3436.0</td>\n",
       "      <td>11.0</td>\n",
       "      <td>70</td>\n",
       "      <td>1</td>\n",
       "    </tr>\n",
       "    <tr>\n",
       "      <th>3</th>\n",
       "      <td>16.0</td>\n",
       "      <td>8</td>\n",
       "      <td>304.0</td>\n",
       "      <td>150.0</td>\n",
       "      <td>3433.0</td>\n",
       "      <td>12.0</td>\n",
       "      <td>70</td>\n",
       "      <td>1</td>\n",
       "    </tr>\n",
       "    <tr>\n",
       "      <th>4</th>\n",
       "      <td>17.0</td>\n",
       "      <td>8</td>\n",
       "      <td>302.0</td>\n",
       "      <td>140.0</td>\n",
       "      <td>3449.0</td>\n",
       "      <td>10.5</td>\n",
       "      <td>70</td>\n",
       "      <td>1</td>\n",
       "    </tr>\n",
       "    <tr>\n",
       "      <th>...</th>\n",
       "      <td>...</td>\n",
       "      <td>...</td>\n",
       "      <td>...</td>\n",
       "      <td>...</td>\n",
       "      <td>...</td>\n",
       "      <td>...</td>\n",
       "      <td>...</td>\n",
       "      <td>...</td>\n",
       "    </tr>\n",
       "    <tr>\n",
       "      <th>393</th>\n",
       "      <td>27.0</td>\n",
       "      <td>4</td>\n",
       "      <td>140.0</td>\n",
       "      <td>86.0</td>\n",
       "      <td>2790.0</td>\n",
       "      <td>15.6</td>\n",
       "      <td>82</td>\n",
       "      <td>1</td>\n",
       "    </tr>\n",
       "    <tr>\n",
       "      <th>394</th>\n",
       "      <td>44.0</td>\n",
       "      <td>4</td>\n",
       "      <td>97.0</td>\n",
       "      <td>52.0</td>\n",
       "      <td>2130.0</td>\n",
       "      <td>24.6</td>\n",
       "      <td>82</td>\n",
       "      <td>2</td>\n",
       "    </tr>\n",
       "    <tr>\n",
       "      <th>395</th>\n",
       "      <td>32.0</td>\n",
       "      <td>4</td>\n",
       "      <td>135.0</td>\n",
       "      <td>84.0</td>\n",
       "      <td>2295.0</td>\n",
       "      <td>11.6</td>\n",
       "      <td>82</td>\n",
       "      <td>1</td>\n",
       "    </tr>\n",
       "    <tr>\n",
       "      <th>396</th>\n",
       "      <td>28.0</td>\n",
       "      <td>4</td>\n",
       "      <td>120.0</td>\n",
       "      <td>79.0</td>\n",
       "      <td>2625.0</td>\n",
       "      <td>18.6</td>\n",
       "      <td>82</td>\n",
       "      <td>1</td>\n",
       "    </tr>\n",
       "    <tr>\n",
       "      <th>397</th>\n",
       "      <td>31.0</td>\n",
       "      <td>4</td>\n",
       "      <td>119.0</td>\n",
       "      <td>82.0</td>\n",
       "      <td>2720.0</td>\n",
       "      <td>19.4</td>\n",
       "      <td>82</td>\n",
       "      <td>1</td>\n",
       "    </tr>\n",
       "  </tbody>\n",
       "</table>\n",
       "<p>398 rows × 8 columns</p>\n",
       "</div>"
      ],
      "text/plain": [
       "      MPG  Cylinders  Displacement  Horsepower  Weight  Acceleration  ModelYear  Origin\n",
       "0    18.0          8         307.0       130.0  3504.0          12.0         70       1\n",
       "1    15.0          8         350.0       165.0  3693.0          11.5         70       1\n",
       "2    18.0          8         318.0       150.0  3436.0          11.0         70       1\n",
       "3    16.0          8         304.0       150.0  3433.0          12.0         70       1\n",
       "4    17.0          8         302.0       140.0  3449.0          10.5         70       1\n",
       "..    ...        ...           ...         ...     ...           ...        ...     ...\n",
       "393  27.0          4         140.0        86.0  2790.0          15.6         82       1\n",
       "394  44.0          4          97.0        52.0  2130.0          24.6         82       2\n",
       "395  32.0          4         135.0        84.0  2295.0          11.6         82       1\n",
       "396  28.0          4         120.0        79.0  2625.0          18.6         82       1\n",
       "397  31.0          4         119.0        82.0  2720.0          19.4         82       1\n",
       "\n",
       "[398 rows x 8 columns]"
      ]
     },
     "execution_count": 32,
     "metadata": {},
     "output_type": "execute_result"
    }
   ],
   "source": [
    "df"
   ]
  },
  {
   "cell_type": "code",
   "execution_count": null,
   "id": "d09d9279-3cce-4c3b-90c9-e232ad1fceff",
   "metadata": {},
   "outputs": [
    {
     "data": {
      "text/plain": [
       "MPG             0\n",
       "Cylinders       0\n",
       "Displacement    0\n",
       "Horsepower      6\n",
       "Weight          0\n",
       "Acceleration    0\n",
       "ModelYear       0\n",
       "Origin          0\n",
       "dtype: int64"
      ]
     },
     "execution_count": 34,
     "metadata": {},
     "output_type": "execute_result"
    }
   ],
   "source": [
    "df.isnull().sum()"
   ]
  },
  {
   "cell_type": "code",
   "execution_count": null,
   "id": "149cd3d6-42be-42e5-b499-1f0335ed5926",
   "metadata": {},
   "outputs": [
    {
     "data": {
      "text/html": [
       "<div>\n",
       "<style scoped>\n",
       "    .dataframe tbody tr th:only-of-type {\n",
       "        vertical-align: middle;\n",
       "    }\n",
       "\n",
       "    .dataframe tbody tr th {\n",
       "        vertical-align: top;\n",
       "    }\n",
       "\n",
       "    .dataframe thead th {\n",
       "        text-align: right;\n",
       "    }\n",
       "</style>\n",
       "<table border=\"1\" class=\"dataframe\">\n",
       "  <thead>\n",
       "    <tr style=\"text-align: right;\">\n",
       "      <th></th>\n",
       "      <th>MPG</th>\n",
       "      <th>Cylinders</th>\n",
       "      <th>Displacement</th>\n",
       "      <th>Horsepower</th>\n",
       "      <th>Weight</th>\n",
       "      <th>Acceleration</th>\n",
       "      <th>ModelYear</th>\n",
       "      <th>Origin</th>\n",
       "    </tr>\n",
       "  </thead>\n",
       "  <tbody>\n",
       "    <tr>\n",
       "      <th>0</th>\n",
       "      <td>18.0</td>\n",
       "      <td>8</td>\n",
       "      <td>307.0</td>\n",
       "      <td>130.0</td>\n",
       "      <td>3504.0</td>\n",
       "      <td>12.0</td>\n",
       "      <td>70</td>\n",
       "      <td>1</td>\n",
       "    </tr>\n",
       "    <tr>\n",
       "      <th>1</th>\n",
       "      <td>15.0</td>\n",
       "      <td>8</td>\n",
       "      <td>350.0</td>\n",
       "      <td>165.0</td>\n",
       "      <td>3693.0</td>\n",
       "      <td>11.5</td>\n",
       "      <td>70</td>\n",
       "      <td>1</td>\n",
       "    </tr>\n",
       "    <tr>\n",
       "      <th>2</th>\n",
       "      <td>18.0</td>\n",
       "      <td>8</td>\n",
       "      <td>318.0</td>\n",
       "      <td>150.0</td>\n",
       "      <td>3436.0</td>\n",
       "      <td>11.0</td>\n",
       "      <td>70</td>\n",
       "      <td>1</td>\n",
       "    </tr>\n",
       "    <tr>\n",
       "      <th>3</th>\n",
       "      <td>16.0</td>\n",
       "      <td>8</td>\n",
       "      <td>304.0</td>\n",
       "      <td>150.0</td>\n",
       "      <td>3433.0</td>\n",
       "      <td>12.0</td>\n",
       "      <td>70</td>\n",
       "      <td>1</td>\n",
       "    </tr>\n",
       "    <tr>\n",
       "      <th>4</th>\n",
       "      <td>17.0</td>\n",
       "      <td>8</td>\n",
       "      <td>302.0</td>\n",
       "      <td>140.0</td>\n",
       "      <td>3449.0</td>\n",
       "      <td>10.5</td>\n",
       "      <td>70</td>\n",
       "      <td>1</td>\n",
       "    </tr>\n",
       "    <tr>\n",
       "      <th>...</th>\n",
       "      <td>...</td>\n",
       "      <td>...</td>\n",
       "      <td>...</td>\n",
       "      <td>...</td>\n",
       "      <td>...</td>\n",
       "      <td>...</td>\n",
       "      <td>...</td>\n",
       "      <td>...</td>\n",
       "    </tr>\n",
       "    <tr>\n",
       "      <th>387</th>\n",
       "      <td>27.0</td>\n",
       "      <td>4</td>\n",
       "      <td>140.0</td>\n",
       "      <td>86.0</td>\n",
       "      <td>2790.0</td>\n",
       "      <td>15.6</td>\n",
       "      <td>82</td>\n",
       "      <td>1</td>\n",
       "    </tr>\n",
       "    <tr>\n",
       "      <th>388</th>\n",
       "      <td>44.0</td>\n",
       "      <td>4</td>\n",
       "      <td>97.0</td>\n",
       "      <td>52.0</td>\n",
       "      <td>2130.0</td>\n",
       "      <td>24.6</td>\n",
       "      <td>82</td>\n",
       "      <td>2</td>\n",
       "    </tr>\n",
       "    <tr>\n",
       "      <th>389</th>\n",
       "      <td>32.0</td>\n",
       "      <td>4</td>\n",
       "      <td>135.0</td>\n",
       "      <td>84.0</td>\n",
       "      <td>2295.0</td>\n",
       "      <td>11.6</td>\n",
       "      <td>82</td>\n",
       "      <td>1</td>\n",
       "    </tr>\n",
       "    <tr>\n",
       "      <th>390</th>\n",
       "      <td>28.0</td>\n",
       "      <td>4</td>\n",
       "      <td>120.0</td>\n",
       "      <td>79.0</td>\n",
       "      <td>2625.0</td>\n",
       "      <td>18.6</td>\n",
       "      <td>82</td>\n",
       "      <td>1</td>\n",
       "    </tr>\n",
       "    <tr>\n",
       "      <th>391</th>\n",
       "      <td>31.0</td>\n",
       "      <td>4</td>\n",
       "      <td>119.0</td>\n",
       "      <td>82.0</td>\n",
       "      <td>2720.0</td>\n",
       "      <td>19.4</td>\n",
       "      <td>82</td>\n",
       "      <td>1</td>\n",
       "    </tr>\n",
       "  </tbody>\n",
       "</table>\n",
       "<p>392 rows × 8 columns</p>\n",
       "</div>"
      ],
      "text/plain": [
       "      MPG  Cylinders  Displacement  Horsepower  Weight  Acceleration  ModelYear  Origin\n",
       "0    18.0          8         307.0       130.0  3504.0          12.0         70       1\n",
       "1    15.0          8         350.0       165.0  3693.0          11.5         70       1\n",
       "2    18.0          8         318.0       150.0  3436.0          11.0         70       1\n",
       "3    16.0          8         304.0       150.0  3433.0          12.0         70       1\n",
       "4    17.0          8         302.0       140.0  3449.0          10.5         70       1\n",
       "..    ...        ...           ...         ...     ...           ...        ...     ...\n",
       "387  27.0          4         140.0        86.0  2790.0          15.6         82       1\n",
       "388  44.0          4          97.0        52.0  2130.0          24.6         82       2\n",
       "389  32.0          4         135.0        84.0  2295.0          11.6         82       1\n",
       "390  28.0          4         120.0        79.0  2625.0          18.6         82       1\n",
       "391  31.0          4         119.0        82.0  2720.0          19.4         82       1\n",
       "\n",
       "[392 rows x 8 columns]"
      ]
     },
     "execution_count": 36,
     "metadata": {},
     "output_type": "execute_result"
    }
   ],
   "source": [
    "# удаление путсых строк\n",
    "df = df.dropna()\n",
    "df = df.reset_index(drop=True)\n",
    "df"
   ]
  },
  {
   "cell_type": "code",
   "execution_count": null,
   "id": "b194906f-1b48-4080-aa3a-20cc33e7de0a",
   "metadata": {},
   "outputs": [],
   "source": [
    "# train test split\n",
    "import sklearn\n",
    "from sklearn.model_selection import train_test_split\n",
    "\n",
    "df_train, df_test = train_test_split(df, train_size=0.8)\n",
    "train_stats = df_train.describe().transpose()\n",
    "\n",
    "numeric_column_names = ['Cylinders', 'Displacement',\n",
    "                        'Horsepower', 'Weight', 'Acceleration']\n",
    "\n",
    "df_train_norm, df_test_norm = df_train.copy(), df_test.copy()\n",
    "for col_name in numeric_column_names:\n",
    "    mean = train_stats.loc[col_name, 'mean']\n",
    "    std = train_stats.loc[col_name, 'std']\n",
    "    df_train_norm.loc[:, col_name] = (df_train_norm.loc[:, col_name]-mean)/std\n",
    "    df_test_norm.loc[:, col_name] = (df_test_norm.loc[:, col_name]-mean)/std"
   ]
  },
  {
   "cell_type": "code",
   "execution_count": null,
   "id": "50b3e739-ea0a-4e95-811a-19192527e6a0",
   "metadata": {},
   "outputs": [
    {
     "data": {
      "text/html": [
       "<div>\n",
       "<style scoped>\n",
       "    .dataframe tbody tr th:only-of-type {\n",
       "        vertical-align: middle;\n",
       "    }\n",
       "\n",
       "    .dataframe tbody tr th {\n",
       "        vertical-align: top;\n",
       "    }\n",
       "\n",
       "    .dataframe thead th {\n",
       "        text-align: right;\n",
       "    }\n",
       "</style>\n",
       "<table border=\"1\" class=\"dataframe\">\n",
       "  <thead>\n",
       "    <tr style=\"text-align: right;\">\n",
       "      <th></th>\n",
       "      <th>MPG</th>\n",
       "      <th>Cylinders</th>\n",
       "      <th>Displacement</th>\n",
       "      <th>Horsepower</th>\n",
       "      <th>Weight</th>\n",
       "      <th>Acceleration</th>\n",
       "      <th>ModelYear</th>\n",
       "      <th>Origin</th>\n",
       "    </tr>\n",
       "  </thead>\n",
       "  <tbody>\n",
       "    <tr>\n",
       "      <th>299</th>\n",
       "      <td>34.2</td>\n",
       "      <td>-0.836182</td>\n",
       "      <td>-0.837172</td>\n",
       "      <td>-0.890427</td>\n",
       "      <td>-0.906475</td>\n",
       "      <td>-0.902880</td>\n",
       "      <td>79</td>\n",
       "      <td>1</td>\n",
       "    </tr>\n",
       "    <tr>\n",
       "      <th>283</th>\n",
       "      <td>17.0</td>\n",
       "      <td>1.532370</td>\n",
       "      <td>1.115943</td>\n",
       "      <td>0.736090</td>\n",
       "      <td>1.084095</td>\n",
       "      <td>-0.094503</td>\n",
       "      <td>79</td>\n",
       "      <td>1</td>\n",
       "    </tr>\n",
       "    <tr>\n",
       "      <th>211</th>\n",
       "      <td>13.0</td>\n",
       "      <td>1.532370</td>\n",
       "      <td>1.555393</td>\n",
       "      <td>1.142719</td>\n",
       "      <td>1.345054</td>\n",
       "      <td>-1.343814</td>\n",
       "      <td>76</td>\n",
       "      <td>1</td>\n",
       "    </tr>\n",
       "    <tr>\n",
       "      <th>176</th>\n",
       "      <td>23.0</td>\n",
       "      <td>-0.836182</td>\n",
       "      <td>-0.690688</td>\n",
       "      <td>-0.402472</td>\n",
       "      <td>0.012343</td>\n",
       "      <td>0.493409</td>\n",
       "      <td>75</td>\n",
       "      <td>2</td>\n",
       "    </tr>\n",
       "    <tr>\n",
       "      <th>199</th>\n",
       "      <td>18.5</td>\n",
       "      <td>0.348094</td>\n",
       "      <td>0.578836</td>\n",
       "      <td>0.193918</td>\n",
       "      <td>0.847412</td>\n",
       "      <td>0.199453</td>\n",
       "      <td>76</td>\n",
       "      <td>1</td>\n",
       "    </tr>\n",
       "  </tbody>\n",
       "</table>\n",
       "</div>"
      ],
      "text/plain": [
       "      MPG  Cylinders  Displacement  Horsepower    Weight  Acceleration  ModelYear  Origin\n",
       "299  34.2  -0.836182     -0.837172   -0.890427 -0.906475     -0.902880         79       1\n",
       "283  17.0   1.532370      1.115943    0.736090  1.084095     -0.094503         79       1\n",
       "211  13.0   1.532370      1.555393    1.142719  1.345054     -1.343814         76       1\n",
       "176  23.0  -0.836182     -0.690688   -0.402472  0.012343      0.493409         75       2\n",
       "199  18.5   0.348094      0.578836    0.193918  0.847412      0.199453         76       1"
      ]
     },
     "execution_count": 41,
     "metadata": {},
     "output_type": "execute_result"
    }
   ],
   "source": [
    "df_train_norm.tail()"
   ]
  },
  {
   "cell_type": "markdown",
   "id": "f8ea61bd-a5d1-4b69-814b-f5e1ce3fb581",
   "metadata": {},
   "source": [
    "df_train_norm, df_test_norm содержат пять столбцов образующих непрерывные признаки."
   ]
  },
  {
   "cell_type": "markdown",
   "id": "53646515-1923-4c84-b8c3-4e53674c29dc",
   "metadata": {},
   "source": [
    "Теперь, используя feature_column.numeric_column, трансформируем непрерывные признаки в структуру данных под названием столбец признаков, с которой могут работать оценщики Tensorflow."
   ]
  },
  {
   "cell_type": "code",
   "execution_count": null,
   "id": "0069ab09-88e0-4e95-83ec-2a5a713eb52b",
   "metadata": {},
   "outputs": [],
   "source": [
    "numeric_features = []\n",
    "for col_name in numeric_column_names:\n",
    "    numeric_features.append(tf.feature_column.numeric_column(key=col_name))"
   ]
  },
  {
   "cell_type": "code",
   "execution_count": null,
   "id": "17d1ac10-786e-48fc-a28f-a69ae5753eaa",
   "metadata": {},
   "outputs": [
    {
     "data": {
      "text/plain": [
       "[NumericColumn(key='Cylinders', shape=(1,), default_value=None, dtype=tf.float32, normalizer_fn=None),\n",
       " NumericColumn(key='Displacement', shape=(1,), default_value=None, dtype=tf.float32, normalizer_fn=None),\n",
       " NumericColumn(key='Horsepower', shape=(1,), default_value=None, dtype=tf.float32, normalizer_fn=None),\n",
       " NumericColumn(key='Weight', shape=(1,), default_value=None, dtype=tf.float32, normalizer_fn=None),\n",
       " NumericColumn(key='Acceleration', shape=(1,), default_value=None, dtype=tf.float32, normalizer_fn=None)]"
      ]
     },
     "execution_count": 43,
     "metadata": {},
     "output_type": "execute_result"
    }
   ],
   "source": [
    "numeric_features"
   ]
  },
  {
   "cell_type": "markdown",
   "id": "8ad386fb-4ce6-4e61-86db-40bd2a8c0ed7",
   "metadata": {},
   "source": [
    "Сгруппируем информацию о годах выпуска по следующему правилу:\n",
    "<img src=\"pic/14_feature.png\"/>"
   ]
  },
  {
   "cell_type": "code",
   "execution_count": null,
   "id": "46836e81-d59b-43bd-b92a-e20c804716ed",
   "metadata": {},
   "outputs": [],
   "source": [
    "feature_year = tf.feature_column.numeric_column(key='ModelYear')\n",
    "bucketized_features = []\n",
    "bucketized_features.append(tf.feature_column.bucketized_column(\n",
    "    source_column=feature_year, boundaries=[73, 76, 79]))"
   ]
  },
  {
   "cell_type": "code",
   "execution_count": null,
   "id": "4674df5b-3ab0-4ddd-bc93-5f22436637b4",
   "metadata": {},
   "outputs": [
    {
     "data": {
      "text/plain": [
       "[BucketizedColumn(source_column=NumericColumn(key='ModelYear', shape=(1,), default_value=None, dtype=tf.float32, normalizer_fn=None), boundaries=(73, 76, 79))]"
      ]
     },
     "execution_count": 45,
     "metadata": {},
     "output_type": "execute_result"
    }
   ],
   "source": [
    "bucketized_features"
   ]
  },
  {
   "cell_type": "markdown",
   "id": "bfb8bcfa-a276-47b4-aaf2-616c1cd8c867",
   "metadata": {},
   "source": [
    "Далее определим неупорядоченный категориальный призна Origin (US, Europe, Japan)"
   ]
  },
  {
   "cell_type": "code",
   "execution_count": null,
   "id": "2e75c130-24a9-4006-becd-41a5b1033b65",
   "metadata": {},
   "outputs": [],
   "source": [
    "feature_origin = tf.feature_column.categorical_column_with_vocabulary_list(\n",
    "    key='Origin',\n",
    "    vocabulary_list=[1, 2, 3])"
   ]
  },
  {
   "cell_type": "markdown",
   "id": "e326dc47-3a2e-4341-a6d5-df80965f2933",
   "metadata": {},
   "source": [
    "Определенные оценщики, такие как DNNClassifier и DNNRegressor,\n",
    "принимают только то, что называется \"плотными столбцами\". По этой\n",
    "причине следующим шагом будет преобразование существующего столбца категориального признака в плотный столбец подобного рода, для чего\n",
    "существуют два способа: использование столбца вложений посредством\n",
    "embedding_column или столбца индикаторов через indicator_column.\n",
    "\n",
    "Столбец индикаторов преобразует категориальные индексы в векторы в унитарном коде, т.е. индекс 0 будет закодирован как [1, 0, 0], индекс 1 - как\n",
    "[0, 1, 0] и т.д. \n",
    "\n",
    "С другой стороны, столбец вложений отображает каждый индекс на вектор случайных чисел типа float, который может быть обучен."
   ]
  },
  {
   "cell_type": "code",
   "execution_count": null,
   "id": "564e17b1-6d4b-4578-a152-45a621ad861f",
   "metadata": {},
   "outputs": [],
   "source": [
    "categorical_indicator_features = []\n",
    "categorical_indicator_features.append(\n",
    "    tf.feature_column.indicator_column(feature_origin))"
   ]
  },
  {
   "cell_type": "markdown",
   "id": "7c0e7a69-51fc-45fe-a9ba-058f6623b4f2",
   "metadata": {},
   "source": [
    "#### МО с использованием готовых оценщиков"
   ]
  },
  {
   "cell_type": "markdown",
   "id": "3f741e8e-ad85-406d-bffd-a7b640b254ac",
   "metadata": {},
   "source": [
    "Работа с готовыми оценщиками может быть представлена в виде 4 шагов:\n",
    "1. Определить входную функцию для загрузки данных.\n",
    "2. Преобразовать набор данных в столбцы признаков.\n",
    "3. Создать объект оценщика (применяя готовый оценщик или создавая новый путем преобразования модели Keras в оценщик).\n",
    "4. Использовать методы оценщика train (), evaluate () и predict (). "
   ]
  },
  {
   "cell_type": "code",
   "execution_count": null,
   "id": "d3aa1d18-2179-4e60-8e4c-9f553d51e7ae",
   "metadata": {},
   "outputs": [],
   "source": [
    "# 1\n",
    "def train_input_fn(df_train, batch_size=8):\n",
    "    df = df_train.copy()\n",
    "    train_x, train_y = df, df.pop('MPG')\n",
    "    dataset = tf.data.Dataset.from_tensor_slices((dict(train_x), train_y))\n",
    "\n",
    "    # тасование, повторение, разбиение на пакеты образцов\n",
    "    return dataset.shuffle(1000).repeat().batch(batch_size)"
   ]
  },
  {
   "cell_type": "code",
   "execution_count": null,
   "id": "2b697945-1d18-4c5e-8d59-4ea88f4f8628",
   "metadata": {},
   "outputs": [
    {
     "name": "stdout",
     "output_type": "stream",
     "text": [
      "keys: dict_keys(['Cylinders', 'Displacement', 'Horsepower', 'Weight', 'Acceleration', 'ModelYear', 'Origin'])\n",
      "batch with years: tf.Tensor([80 80 78 76 75 78 71 76], shape=(8,), dtype=int64)\n"
     ]
    }
   ],
   "source": [
    "ds = train_input_fn(df_train_norm)\n",
    "batch = next(iter(ds))\n",
    "print('keys:', batch[0].keys())\n",
    "print('batch with years:', batch[0]['ModelYear'])"
   ]
  },
  {
   "cell_type": "code",
   "execution_count": null,
   "id": "ce2f01be-a8e6-4446-8845-59c2fe1a22da",
   "metadata": {},
   "outputs": [],
   "source": [
    "# функция для испытательного набора\n",
    "def eval_input_fn(df_test, batch_size=8):\n",
    "    df = df_test.copy()\n",
    "    test_x, test_y = df, df.pop('MPG')\n",
    "    dataset = tf.data.Dataset.from_tensor_slices((dict(test_x), test_y))\n",
    "\n",
    "    return dataset.batch(batch_size)"
   ]
  },
  {
   "cell_type": "code",
   "execution_count": null,
   "id": "2f5cb132-8ace-478c-bc2b-8239bb4711e6",
   "metadata": {},
   "outputs": [],
   "source": [
    "# 2 - определение столбцов признаков\n",
    "all_feature_columns = (numeric_features + bucketized_features +\n",
    "                       categorical_indicator_features)"
   ]
  },
  {
   "cell_type": "markdown",
   "id": "43757d22-d852-4671-be06-060d7f24b313",
   "metadata": {},
   "source": [
    "Для третьего шага нам необходимо создать новый объект оценщика.\n",
    "Поскольку прогнозирование значений MPG является типичной задачей регрессии, мы будем применять класс tf.estirnator.DNNRegressor. При\n",
    "создании объекта регрессионного оценщика мы предоставим список столбцов признаков и укажем количество скрытых элементов, которые желаем\n",
    "иметь в каждом скрытом слое, используя аргумент hidden_units."
   ]
  },
  {
   "cell_type": "code",
   "execution_count": null,
   "id": "80bdbd94-820e-4779-ae81-940f8b15e72f",
   "metadata": {},
   "outputs": [
    {
     "name": "stdout",
     "output_type": "stream",
     "text": [
      "INFO:tensorflow:Using default config.\n",
      "INFO:tensorflow:Using config: {'_model_dir': 'models/autompg-dnnregressor/', '_tf_random_seed': None, '_save_summary_steps': 100, '_save_checkpoints_steps': None, '_save_checkpoints_secs': 600, '_session_config': allow_soft_placement: true\n",
      "graph_options {\n",
      "  rewrite_options {\n",
      "    meta_optimizer_iterations: ONE\n",
      "  }\n",
      "}\n",
      ", '_keep_checkpoint_max': 5, '_keep_checkpoint_every_n_hours': 10000, '_log_step_count_steps': 100, '_train_distribute': None, '_device_fn': None, '_protocol': None, '_eval_distribute': None, '_experimental_distribute': None, '_experimental_max_worker_delay_secs': None, '_session_creation_timeout_secs': 7200, '_checkpoint_save_graph_def': True, '_service': None, '_cluster_spec': ClusterSpec({}), '_task_type': 'worker', '_task_id': 0, '_global_id_in_cluster': 0, '_master': '', '_evaluation_master': '', '_is_chief': True, '_num_ps_replicas': 0, '_num_worker_replicas': 1}\n"
     ]
    }
   ],
   "source": [
    "# 3\n",
    "regressor = tf.estimator.DNNRegressor(\n",
    "    feature_columns=all_feature_columns,\n",
    "    hidden_units=[32, 10],\n",
    "    model_dir='models/autompg-dnnregressor/')"
   ]
  },
  {
   "cell_type": "markdown",
   "id": "c27333af-c161-4dca-9a09-c1767646d1b6",
   "metadata": {},
   "source": [
    "Дополнительно предоставленный аргумент model_dir указывает каталог для сохранения параметров модели. Одно из преимуществ оценщиков\n",
    "заключается в том, что во время обучения они автоматически сохраняют\n",
    "контрольные точки модели.\n",
    "\n",
    "После пройденных трех базовых шагов мы можем задействовать оценщик для обучения, оценки и в итоге прогнозирования. Регрессор можно\n",
    "обучить вызовом метода train(), для которого требовалась ранее определенная входная функция: "
   ]
  },
  {
   "cell_type": "code",
   "execution_count": null,
   "id": "b4ef0e1f-c206-43cd-a36d-0725bf60e3a3",
   "metadata": {},
   "outputs": [
    {
     "name": "stdout",
     "output_type": "stream",
     "text": [
      "Steps train: 40000\n"
     ]
    }
   ],
   "source": [
    "EPOCHS = 1000\n",
    "BATCH_SIZE = 8\n",
    "total_steps = EPOCHS * int(np.ceil(len(df_train) / BATCH_SIZE))\n",
    "print('Steps train:', total_steps)"
   ]
  },
  {
   "cell_type": "code",
   "execution_count": null,
   "id": "2ad9d587-9c9e-4fcf-b819-8b2f1ff7c3cc",
   "metadata": {},
   "outputs": [],
   "source": [
    "regressor.train(\n",
    "    input_fn=lambda: train_input_fn(df_train_norm, batch_size=BATCH_SIZE),\n",
    "    steps=total_steps)"
   ]
  },
  {
   "cell_type": "code",
   "execution_count": null,
   "id": "aa11f226-73da-49f1-894c-5d6580f1fc6c",
   "metadata": {},
   "outputs": [],
   "source": [
    "610"
   ]
  }
 ],
 "metadata": {
  "kernelspec": {
   "display_name": "Python 3 (ipykernel)",
   "language": "python",
   "name": "python3"
  },
  "language_info": {
   "codemirror_mode": {
    "name": "ipython",
    "version": 3
   },
   "file_extension": ".py",
   "mimetype": "text/x-python",
   "name": "python",
   "nbconvert_exporter": "python",
   "pygments_lexer": "ipython3",
   "version": "3.9.13"
  }
 },
 "nbformat": 4,
 "nbformat_minor": 5
}
